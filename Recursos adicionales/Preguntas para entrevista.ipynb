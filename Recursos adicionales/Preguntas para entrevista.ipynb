{
 "cells": [
  {
   "cell_type": "markdown",
   "id": "880e1f20",
   "metadata": {},
   "source": [
    "# 🐼 10 preguntas clave sobre pandas en Python para entrevistas 🐍\n",
    "\n",
    "Si estás preparando tu próxima entrevista de análisis de datos o data science, ¡pandas será tu mejor amigo!\n",
    "\n",
    "Aquí tienes las 10 preguntas más comunes para que llegues listo/a:"
   ]
  },
  {
   "cell_type": "markdown",
   "id": "91023a86",
   "metadata": {},
   "source": [
    "## 1️⃣ ¿Qué es pandas?\n",
    "\n",
    "👉 Una biblioteca para trabajar con datos estructurados (tablas, series temporales)."
   ]
  },
  {
   "cell_type": "markdown",
   "id": "17c370ae",
   "metadata": {},
   "source": [
    "## 2️⃣ ¿Qué estructuras principales tiene?\n",
    "\n",
    "✅ **Series**: Una lista unidimensional.\n",
    "✅ **DataFrame**: Una tabla bidimensional (como Excel)."
   ]
  },
  {
   "cell_type": "markdown",
   "id": "d0c9e2cb",
   "metadata": {},
   "source": [
    "## 3️⃣ ¿Cómo lees/escribes archivos?\n",
    "\n",
    "📥 Leer: `pd.read_csv('archivo.csv')`\n",
    "📤 Escribir: `df.to_csv('archivo.csv', index=False)`"
   ]
  },
  {
   "cell_type": "markdown",
   "id": "0baa704a",
   "metadata": {},
   "source": [
    "## 4️⃣ ¿Cómo seleccionas datos?\n",
    "\n",
    "🎯 **Filtra filas**: `df[df['columna'] > valor]`\n",
    "🎯 **Columnas específicas**: `df[['columna1', 'columna2']]`"
   ]
  },
  {
   "cell_type": "markdown",
   "id": "53c47f60",
   "metadata": {},
   "source": [
    "## 5️⃣ ¿Qué haces con los valores nulos?\n",
    "\n",
    "❌ **Identificar**: `df.isnull()`\n",
    "🗑️ **Eliminar**: `df.dropna()`\n",
    "🩹 **Rellenar**: `df.fillna(valor)`"
   ]
  },
  {
   "cell_type": "markdown",
   "id": "56a62a54",
   "metadata": {},
   "source": [
    "## 6️⃣ ¿Cómo agrupar y calcular estadísticas?\n",
    "\n",
    "📊 Usa `groupby`:\n",
    "\n",
    "```python\n",
    "df.groupby('columna')['otra_columna'].mean()\n",
    "```"
   ]
  },
  {
   "cell_type": "markdown",
   "id": "7c92dfcf",
   "metadata": {},
   "source": [
    "## 7️⃣ ¿Cómo combinas DataFrames?\n",
    "\n",
    "🔗 **Merge**: `pd.merge(df1, df2, on='columna')`\n",
    "🔗 **Concat**: `pd.concat([df1, df2])`"
   ]
  },
  {
   "cell_type": "markdown",
   "id": "a6de26ac",
   "metadata": {},
   "source": [
    "## 8️⃣ ¿Cómo ordenas un DataFrame?\n",
    "\n",
    "⬆️ **Por una columna**: `df.sort_values(by='columna')`\n",
    "⬇️ **Varias columnas**: `df.sort_values(by=['col1', 'col2'], ascending=[True, False])`"
   ]
  },
  {
   "cell_type": "markdown",
   "id": "5e14471d",
   "metadata": {},
   "source": [
    "## 9️⃣ ¿Qué es un índice y cómo lo manejas?\n",
    "\n",
    "📌 **Cambiar**: `df.set_index('columna', inplace=True)`\n",
    "📌 **Restablecer**: `df.reset_index(inplace=True)`"
   ]
  },
  {
   "cell_type": "markdown",
   "id": "12d63e79",
   "metadata": {},
   "source": [
    "## 🔟 ¿Cómo trabajas con fechas?\n",
    "\n",
    "📅 **Convertir a fecha**: `pd.to_datetime(df['fecha'])`\n",
    "📅 **Extraer el año**: `df['fecha'].dt.year`"
   ]
  }
 ],
 "metadata": {},
 "nbformat": 4,
 "nbformat_minor": 5
}
