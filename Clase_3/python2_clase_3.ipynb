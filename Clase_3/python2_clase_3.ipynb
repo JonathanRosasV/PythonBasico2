{
  "cells": [
    {
      "cell_type": "markdown",
      "source": [
        "# Elaboración de gráficos"
      ],
      "metadata": {
        "id": "DomBgcgQEnGt"
      }
    },
    {
      "cell_type": "markdown",
      "source": [
        "La siguiente tabla resume las mejores prácticas para elegir gráficos adecuados según el objetivo de análisis y la naturaleza de los datos. Esta selección es fundamental para representar la información de manera clara y efectiva, facilitando la interpretación de resultados.\n",
        "\n",
        "| **Objetivo**                             | **Tipo de datos**               | **Gráficos recomendados**                                               |\n",
        "| ---------------------------------------- | ------------------------------- | ----------------------------------------------------------------------- |\n",
        "| Distribución de una variable             | Numérica continua o discreta    | Histograma, Densidad Kernel (KDE), Diagrama de cajas                    |\n",
        "| Comparar categorías                      | Categórica vs. Numérica         | Diagrama de cajas, Diagrama de violín, Diagrama de barras               |\n",
        "| Comparar valores según categoría         | Categórica nominal vs. Numérica | Diagrama de barras, Gráfico de conteo                                   |\n",
        "| Tendencias temporales                    | Fecha + Variable numérica       | Gráfico de líneas                                                       |\n",
        "| Correlación entre dos variables          | Dos variables numéricas         | Diagrama de dispersión, Mapa de calor (para múltiples variables)        |\n",
        "| Relación entre dos variables categóricas | Dos variables categóricas       | Mapa de calor, Gráfico de conteo con diferenciación por tonalidad (hue) |"
      ],
      "metadata": {
        "id": "Uq9le5c8EkK8"
      }
    },
    {
      "cell_type": "markdown",
      "source": [
        "# Visualización de datos: `matplotlib` vs `seaborn`"
      ],
      "metadata": {
        "id": "7WHcDpnYyf3q"
      }
    },
    {
      "cell_type": "markdown",
      "source": [
        "| **Característica**               | **matplotlib **                                      | **seaborn **                                         |\n",
        "|----------------------------------|--------------------------------------------------------|--------------------------------------------------------|\n",
        "| **Nivel de control**             | Alto (más personalizable)                             | Medio (ajusta muchas configuraciones automáticamente) |\n",
        "| **Facilidad de uso**             | Requiere más líneas de código                         | Sintaxis más simple y legible                         |\n",
        "| **Estética por defecto**         | Básica, necesita personalización                      | Atractiva y moderna                                   |\n",
        "| **Tipos de gráficos**            | Básicos (línea, barras, pastel, etc.)                 | Avanzados (violín, enjambre, mapa de calor, etc.)     |\n",
        "| **Dependencia de pandas**       | Opcional                                              | Funciona muy bien con DataFrames                      |\n",
        "| **Personalización detallada**   | Muy detallada (colores, ejes, diseño)                 | Limitada en comparación con matplotlib                |\n",
        "| **Anotaciones complejas**       | Más flexible para anotaciones                         | Menos orientado a anotaciones                         |\n",
        "| **Curva de aprendizaje**        | Un poco más empinada                                  | Más suave para principiantes                          |\n",
        "| **Casos de uso ideales**        | Visualizaciones personalizadas o listas para producción | Análisis exploratorio rápido y visual                 |\n",
        "| **Integración con otras librerías** | Seaborn usa matplotlib como base                       | Construido sobre matplotlib (¡se complementan!)       |\n"
      ],
      "metadata": {
        "id": "P211D8vvy2eM"
      }
    },
    {
      "cell_type": "code",
      "source": [
        "import matplotlib.pyplot as plt\n",
        "\n",
        "# Gráfico de lineas simple\n",
        "x = [1, 2, 3, 4, 5]\n",
        "y = [2, 3, 5, 7, 11]\n",
        "\n",
        "plt.plot(x, y)\n",
        "plt.title(\"Gráfico de lineas simple\")\n",
        "plt.xlabel(\"Eje X\")\n",
        "plt.ylabel(\"Eje Y\")\n",
        "plt.show()"
      ],
      "metadata": {
        "colab": {
          "base_uri": "https://localhost:8080/",
          "height": 472
        },
        "id": "XodvvqOiywdm",
        "outputId": "ecbcc936-ddd2-4b8b-924d-d6eccc6c7e25"
      },
      "execution_count": 4,
      "outputs": [
        {
          "output_type": "display_data",
          "data": {
            "text/plain": [
              "<Figure size 640x480 with 1 Axes>"
            ],
            "image/png": "[encoded data removed]"
          },
          "metadata": {}
        }
      ]
    },
    {
      "cell_type": "markdown",
      "source": [
        "## Personalización de gráficos en Matplotlib\n",
        "\n",
        "### ➤ Tipos de `linestyle` (estilo de línea)\n",
        "\n",
        "| Código  | Descripción         |\n",
        "|---------|---------------------|\n",
        "| `'-'`   | Línea sólida        |\n",
        "| `'--'`  | Línea discontinua   |\n",
        "| `'-.'`  | Línea punto-guion   |\n",
        "| `':'`   | Línea punteada      |\n",
        "| `''` o `None` | Sin línea     |\n",
        "\n",
        "---\n",
        "\n",
        "### ➤ Tipos de `marker` (marcador de puntos)\n",
        "\n",
        "| Código | Forma del marcador     |\n",
        "|--------|------------------------|\n",
        "| `'o'`  | Círculo                |\n",
        "| `'.'`  | Punto                  |\n",
        "| `','`  | Pixel                  |\n",
        "| `'v'`  | Triángulo abajo        |\n",
        "| `'^'`  | Triángulo arriba       |\n",
        "| `'<'`  | Triángulo izquierda    |\n",
        "| `'>'`  | Triángulo derecha      |\n",
        "| `'s'`  | Cuadrado               |\n",
        "| `'p'`  | Pentágono              |\n",
        "| `'*'`  | Estrella               |\n",
        "| `'h'`  | Hexágono 1             |\n",
        "| `'H'`  | Hexágono 2             |\n",
        "| `'D'`  | Diamante               |\n",
        "| `'d'`  | Diamante delgado       |\n",
        "| `'x'`  | Cruz diagonal          |\n",
        "| `'+'`  | Cruz                   |\n",
        "| `'|'`  | Línea vertical         |\n",
        "| `'_'`  | Línea horizontal       |\n",
        "\n",
        "---\n",
        "\n",
        "### ➤ Tipos de `color` (colores)\n",
        "\n",
        "#### Por nombre (string):\n",
        "- `'red'`, `'blue'`, `'green'`, `'orange'`, `'purple'`, `'black'`, `'white'`, `'gray'`, `'yellow'`, `'cyan'`, `'magenta'`, etc.\n",
        "\n",
        "#### Por inicial:\n",
        "- `'r'` = rojo  \n",
        "- `'g'` = verde  \n",
        "- `'b'` = azul  \n",
        "- `'c'` = cian  \n",
        "- `'m'` = magenta  \n",
        "- `'y'` = amarillo  \n",
        "- `'k'` = negro  \n",
        "- `'w'` = blanco  \n",
        "\n",
        "#### Por código hexadecimal:\n",
        "- `'#FF5733'`, `'#33FFBD'`, etc.\n",
        "\n",
        "#### Por escala de grises (0 a 1 como string):\n",
        "- `'0.0'` = negro  \n",
        "- `'0.5'` = gris  \n",
        "- `'1.0'` = blanco  \n",
        "\n",
        "---\n",
        "\n"
      ],
      "metadata": {
        "id": "0tCtuPV32Seb"
      }
    },
    {
      "cell_type": "code",
      "source": [
        "plt.plot(x, y, color='green', linestyle='--', marker='o', label='Línea 1')\n",
        "plt.title(\"Personalización de gráfico\")\n",
        "plt.xlabel(\"X\")\n",
        "plt.ylabel(\"Y\")\n",
        "plt.legend()\n",
        "plt.grid(True)\n",
        "plt.show()\n"
      ],
      "metadata": {
        "colab": {
          "base_uri": "https://localhost:8080/",
          "height": 472
        },
        "id": "e-MoOFHZzQyq",
        "outputId": "d8459e67-43c8-40a3-9202-129c4db972b8"
      },
      "execution_count": 5,
      "outputs": [
        {
          "output_type": "display_data",
          "data": {
            "text/plain": [
              "<Figure size 640x480 with 1 Axes>"
            ],
            "image/png": "[encoded data removed]"
          },
          "metadata": {}
        }
      ]
    },
    {
      "cell_type": "code",
      "source": [
        "import seaborn as sns\n",
        "import pandas as pd\n",
        "\n",
        "# Dataset de ejemplo\n",
        "df = sns.load_dataset(\"tips\")"
      ],
      "metadata": {
        "id": "mHCubvg2zZw_"
      },
      "execution_count": 6,
      "outputs": []
    },
    {
      "cell_type": "markdown",
      "source": [
        "| **Columna**       | **Descripción**                                                  |\n",
        "|-------------------|------------------------------------------------------------------|\n",
        "| `total_bill`      | Cuenta total (en dólares) de la comida                           |\n",
        "| `tip`             | Propina dada (en dólares)                                        |\n",
        "| `sex`             | Género del cliente (`Male` / `Female`)                           |\n",
        "| `smoker`          | Si el cliente fumaba (`Yes` / `No`)                              |\n",
        "| `day`             | Día de la semana (`Thur`, `Fri`, `Sat`, `Sun`)                   |\n",
        "| `time`            | Momento del día (`Lunch` / `Dinner`)                             |\n",
        "| `size`            | Número de personas en la mesa                                     |\n"
      ],
      "metadata": {
        "id": "Cl4fBlI1z2T3"
      }
    },
    {
      "cell_type": "code",
      "source": [
        "sns.scatterplot(data=df, x=\"total_bill\", y=\"tip\", hue=\"sex\")\n",
        "plt.title(\"Scatterplot with Seaborn\")\n",
        "plt.show()"
      ],
      "metadata": {
        "colab": {
          "base_uri": "https://localhost:8080/",
          "height": 472
        },
        "id": "UH-8AXXPz3P5",
        "outputId": "e7c70c43-4600-4b3c-c69b-958c17ea631c"
      },
      "execution_count": 7,
      "outputs": [
        {
          "output_type": "display_data",
          "data": {
            "text/plain": [
              "<Figure size 640x480 with 1 Axes>"
            ],
            "image/png": "[encoded data removed]"
          },
          "metadata": {}
        }
      ]
    },
    {
      "cell_type": "code",
      "source": [
        "sns.boxplot(x=\"day\", y=\"total_bill\", data=df)\n",
        "plt.title(\"Boxplot por día\")\n",
        "plt.show()\n"
      ],
      "metadata": {
        "colab": {
          "base_uri": "https://localhost:8080/",
          "height": 472
        },
        "id": "A1eNkHW4z5Ln",
        "outputId": "be55a0a1-f6be-4de7-df30-a472f48457b3"
      },
      "execution_count": 8,
      "outputs": [
        {
          "output_type": "display_data",
          "data": {
            "text/plain": [
              "<Figure size 640x480 with 1 Axes>"
            ],
            "image/png": "[encoded data removed]"
          },
          "metadata": {}
        }
      ]
    },
    {
      "cell_type": "code",
      "source": [
        "sns.histplot(df[\"total_bill\"], kde=True)\n",
        "plt.title(\"Histograma con KDE\")\n",
        "plt.show()"
      ],
      "metadata": {
        "colab": {
          "base_uri": "https://localhost:8080/",
          "height": 472
        },
        "id": "jxh4hIp3z75Q",
        "outputId": "39dba788-c487-4316-b520-30e3931dc7bb"
      },
      "execution_count": 9,
      "outputs": [
        {
          "output_type": "display_data",
          "data": {
            "text/plain": [
              "<Figure size 640x480 with 1 Axes>"
            ],
            "image/png": "[encoded data removed]"
          },
          "metadata": {}
        }
      ]
    },
    {
      "cell_type": "code",
      "source": [
        "correlation = df.corr(numeric_only=True)\n",
        "sns.heatmap(correlation, annot=True, cmap=\"coolwarm\")\n",
        "plt.title(\"Mapa de calor de correlación\")\n",
        "plt.show()"
      ],
      "metadata": {
        "colab": {
          "base_uri": "https://localhost:8080/",
          "height": 453
        },
        "id": "ufUrm2zLz9Ix",
        "outputId": "54db4ff1-d084-43fe-f792-43ff1b464f87"
      },
      "execution_count": 10,
      "outputs": [
        {
          "output_type": "display_data",
          "data": {
            "text/plain": [
              "<Figure size 640x480 with 2 Axes>"
            ],
            "image/png": "[encoded data removed]"
          },
          "metadata": {}
        }
      ]
    },
    {
      "cell_type": "code",
      "source": [
        "import seaborn as sns\n",
        "titanic = sns.load_dataset(\"titanic\")\n",
        "titanic.head()"
      ],
      "metadata": {
        "colab": {
          "base_uri": "https://localhost:8080/",
          "height": 206
        },
        "id": "Xjqjh24-0AXr",
        "outputId": "6f894c54-087c-4a6e-a6b4-530cec66ff37"
      },
      "execution_count": 11,
      "outputs": [
        {
          "output_type": "execute_result",
          "data": {
            "text/plain": [
              "   survived  pclass     sex   age  sibsp  parch     fare embarked  class  \\\n",
              "0         0       3    male  22.0      1      0   7.2500        S  Third   \n",
              "1         1       1  female  38.0      1      0  71.2833        C  First   \n",
              "2         1       3  female  26.0      0      0   7.9250        S  Third   \n",
              "3         1       1  female  35.0      1      0  53.1000        S  First   \n",
              "4         0       3    male  35.0      0      0   8.0500        S  Third   \n",
              "\n",
              "     who  adult_male deck  embark_town alive  alone  \n",
              "0    man        True  NaN  Southampton    no  False  \n",
              "1  woman       False    C    Cherbourg   yes  False  \n",
              "2  woman       False  NaN  Southampton   yes   True  \n",
              "3  woman       False    C  Southampton   yes  False  \n",
              "4    man        True  NaN  Southampton    no   True  "
            ],
            "text/html": [
              "\n",
              "  <div id=\"df-cce2577e-b172-4ebd-a550-a6305859b6e9\" class=\"colab-df-container\">\n",
              "    <div>\n",
              "<style scoped>\n",
              "    .dataframe tbody tr th:only-of-type {\n",
              "        vertical-align: middle;\n",
              "    }\n",
              "\n",
              "    .dataframe tbody tr th {\n",
              "        vertical-align: top;\n",
              "    }\n",
              "\n",
              "    .dataframe thead th {\n",
              "        text-align: right;\n",
              "    }\n",
              "</style>\n",
              "<table border=\"1\" class=\"dataframe\">\n",
              "  <thead>\n",
              "    <tr style=\"text-align: right;\">\n",
              "      <th></th>\n",
              "      <th>survived</th>\n",
              "      <th>pclass</th>\n",
              "      <th>sex</th>\n",
              "      <th>age</th>\n",
              "      <th>sibsp</th>\n",
              "      <th>parch</th>\n",
              "      <th>fare</th>\n",
              "      <th>embarked</th>\n",
              "      <th>class</th>\n",
              "      <th>who</th>\n",
              "      <th>adult_male</th>\n",
              "      <th>deck</th>\n",
              "      <th>embark_town</th>\n",
              "      <th>alive</th>\n",
              "      <th>alone</th>\n",
              "    </tr>\n",
              "  </thead>\n",
              "  <tbody>\n",
              "    <tr>\n",
              "      <th>0</th>\n",
              "      <td>0</td>\n",
              "      <td>3</td>\n",
              "      <td>male</td>\n",
              "      <td>22.0</td>\n",
              "      <td>1</td>\n",
              "      <td>0</td>\n",
              "      <td>7.2500</td>\n",
              "      <td>S</td>\n",
              "      <td>Third</td>\n",
              "      <td>man</td>\n",
              "      <td>True</td>\n",
              "      <td>NaN</td>\n",
              "      <td>Southampton</td>\n",
              "      <td>no</td>\n",
              "      <td>False</td>\n",
              "    </tr>\n",
              "    <tr>\n",
              "      <th>1</th>\n",
              "      <td>1</td>\n",
              "      <td>1</td>\n",
              "      <td>female</td>\n",
              "      <td>38.0</td>\n",
              "      <td>1</td>\n",
              "      <td>0</td>\n",
              "      <td>71.2833</td>\n",
              "      <td>C</td>\n",
              "      <td>First</td>\n",
              "      <td>woman</td>\n",
              "      <td>False</td>\n",
              "      <td>C</td>\n",
              "      <td>Cherbourg</td>\n",
              "      <td>yes</td>\n",
              "      <td>False</td>\n",
              "    </tr>\n",
              "    <tr>\n",
              "      <th>2</th>\n",
              "      <td>1</td>\n",
              "      <td>3</td>\n",
              "      <td>female</td>\n",
              "      <td>26.0</td>\n",
              "      <td>0</td>\n",
              "      <td>0</td>\n",
              "      <td>7.9250</td>\n",
              "      <td>S</td>\n",
              "      <td>Third</td>\n",
              "      <td>woman</td>\n",
              "      <td>False</td>\n",
              "      <td>NaN</td>\n",
              "      <td>Southampton</td>\n",
              "      <td>yes</td>\n",
              "      <td>True</td>\n",
              "    </tr>\n",
              "    <tr>\n",
              "      <th>3</th>\n",
              "      <td>1</td>\n",
              "      <td>1</td>\n",
              "      <td>female</td>\n",
              "      <td>35.0</td>\n",
              "      <td>1</td>\n",
              "      <td>0</td>\n",
              "      <td>53.1000</td>\n",
              "      <td>S</td>\n",
              "      <td>First</td>\n",
              "      <td>woman</td>\n",
              "      <td>False</td>\n",
              "      <td>C</td>\n",
              "      <td>Southampton</td>\n",
              "      <td>yes</td>\n",
              "      <td>False</td>\n",
              "    </tr>\n",
              "    <tr>\n",
              "      <th>4</th>\n",
              "      <td>0</td>\n",
              "      <td>3</td>\n",
              "      <td>male</td>\n",
              "      <td>35.0</td>\n",
              "      <td>0</td>\n",
              "      <td>0</td>\n",
              "      <td>8.0500</td>\n",
              "      <td>S</td>\n",
              "      <td>Third</td>\n",
              "      <td>man</td>\n",
              "      <td>True</td>\n",
              "      <td>NaN</td>\n",
              "      <td>Southampton</td>\n",
              "      <td>no</td>\n",
              "      <td>True</td>\n",
              "    </tr>\n",
              "  </tbody>\n",
              "</table>\n",
              "</div>\n",
              "    <div class=\"colab-df-buttons\">\n",
              "\n",
              "  <div class=\"colab-df-container\">\n",
              "    <button class=\"colab-df-convert\" onclick=\"convertToInteractive('df-cce2577e-b172-4ebd-a550-a6305859b6e9')\"\n",
              "            title=\"Convert this dataframe to an interactive table.\"\n",
              "            style=\"display:none;\">\n",
              "\n",
              "  <svg xmlns=\"http://www.w3.org/2000/svg\" height=\"24px\" viewBox=\"0 -960 960 960\">\n",
              "    <path d=\"M120-120v-720h720v720H120Zm60-500h600v-160H180v160Zm220 220h160v-160H400v160Zm0 220h160v-160H400v160ZM180-400h160v-160H180v160Zm440 0h160v-160H620v160ZM180-180h160v-160H180v160Zm440 0h160v-160H620v160Z\"/>\n",
              "  </svg>\n",
              "    </button>\n",
              "\n",
              "  <style>\n",
              "    .colab-df-container {\n",
              "      display:flex;\n",
              "      gap: 12px;\n",
              "    }\n",
              "\n",
              "    .colab-df-convert {\n",
              "      background-color: #E8F0FE;\n",
              "      border: none;\n",
              "      border-radius: 50%;\n",
              "      cursor: pointer;\n",
              "      display: none;\n",
              "      fill: #1967D2;\n",
              "      height: 32px;\n",
              "      padding: 0 0 0 0;\n",
              "      width: 32px;\n",
              "    }\n",
              "\n",
              "    .colab-df-convert:hover {\n",
              "      background-color: #E2EBFA;\n",
              "      box-shadow: 0px 1px 2px rgba(60, 64, 67, 0.3), 0px 1px 3px 1px rgba(60, 64, 67, 0.15);\n",
              "      fill: #174EA6;\n",
              "    }\n",
              "\n",
              "    .colab-df-buttons div {\n",
              "      margin-bottom: 4px;\n",
              "    }\n",
              "\n",
              "    [theme=dark] .colab-df-convert {\n",
              "      background-color: #3B4455;\n",
              "      fill: #D2E3FC;\n",
              "    }\n",
              "\n",
              "    [theme=dark] .colab-df-convert:hover {\n",
              "      background-color: #434B5C;\n",
              "      box-shadow: 0px 1px 3px 1px rgba(0, 0, 0, 0.15);\n",
              "      filter: drop-shadow(0px 1px 2px rgba(0, 0, 0, 0.3));\n",
              "      fill: #FFFFFF;\n",
              "    }\n",
              "  </style>\n",
              "\n",
              "    <script>\n",
              "      const buttonEl =\n",
              "        document.querySelector('#df-cce2577e-b172-4ebd-a550-a6305859b6e9 button.colab-df-convert');\n",
              "      buttonEl.style.display =\n",
              "        google.colab.kernel.accessAllowed ? 'block' : 'none';\n",
              "\n",
              "      async function convertToInteractive(key) {\n",
              "        const element = document.querySelector('#df-cce2577e-b172-4ebd-a550-a6305859b6e9');\n",
              "        const dataTable =\n",
              "          await google.colab.kernel.invokeFunction('convertToInteractive',\n",
              "                                                    [key], {});\n",
              "        if (!dataTable) return;\n",
              "\n",
              "        const docLinkHtml = 'Like what you see? Visit the ' +\n",
              "          '<a target=\"_blank\" href=https://colab.research.google.com/notebooks/data_table.ipynb>data table notebook</a>'\n",
              "          + ' to learn more about interactive tables.';\n",
              "        element.innerHTML = '';\n",
              "        dataTable['output_type'] = 'display_data';\n",
              "        await google.colab.output.renderOutput(dataTable, element);\n",
              "        const docLink = document.createElement('div');\n",
              "        docLink.innerHTML = docLinkHtml;\n",
              "        element.appendChild(docLink);\n",
              "      }\n",
              "    </script>\n",
              "  </div>\n",
              "\n",
              "\n",
              "    <div id=\"df-3744448d-69ec-4192-b53b-27ccd667d99e\">\n",
              "      <button class=\"colab-df-quickchart\" onclick=\"quickchart('df-3744448d-69ec-4192-b53b-27ccd667d99e')\"\n",
              "                title=\"Suggest charts\"\n",
              "                style=\"display:none;\">\n",
              "\n",
              "<svg xmlns=\"http://www.w3.org/2000/svg\" height=\"24px\"viewBox=\"0 0 24 24\"\n",
              "     width=\"24px\">\n",
              "    <g>\n",
              "        <path d=\"M19 3H5c-1.1 0-2 .9-2 2v14c0 1.1.9 2 2 2h14c1.1 0 2-.9 2-2V5c0-1.1-.9-2-2-2zM9 17H7v-7h2v7zm4 0h-2V7h2v10zm4 0h-2v-4h2v4z\"/>\n",
              "    </g>\n",
              "</svg>\n",
              "      </button>\n",
              "\n",
              "<style>\n",
              "  .colab-df-quickchart {\n",
              "      --bg-color: #E8F0FE;\n",
              "      --fill-color: #1967D2;\n",
              "      --hover-bg-color: #E2EBFA;\n",
              "      --hover-fill-color: #174EA6;\n",
              "      --disabled-fill-color: #AAA;\n",
              "      --disabled-bg-color: #DDD;\n",
              "  }\n",
              "\n",
              "  [theme=dark] .colab-df-quickchart {\n",
              "      --bg-color: #3B4455;\n",
              "      --fill-color: #D2E3FC;\n",
              "      --hover-bg-color: #434B5C;\n",
              "      --hover-fill-color: #FFFFFF;\n",
              "      --disabled-bg-color: #3B4455;\n",
              "      --disabled-fill-color: #666;\n",
              "  }\n",
              "\n",
              "  .colab-df-quickchart {\n",
              "    background-color: var(--bg-color);\n",
              "    border: none;\n",
              "    border-radius: 50%;\n",
              "    cursor: pointer;\n",
              "    display: none;\n",
              "    fill: var(--fill-color);\n",
              "    height: 32px;\n",
              "    padding: 0;\n",
              "    width: 32px;\n",
              "  }\n",
              "\n",
              "  .colab-df-quickchart:hover {\n",
              "    background-color: var(--hover-bg-color);\n",
              "    box-shadow: 0 1px 2px rgba(60, 64, 67, 0.3), 0 1px 3px 1px rgba(60, 64, 67, 0.15);\n",
              "    fill: var(--button-hover-fill-color);\n",
              "  }\n",
              "\n",
              "  .colab-df-quickchart-complete:disabled,\n",
              "  .colab-df-quickchart-complete:disabled:hover {\n",
              "    background-color: var(--disabled-bg-color);\n",
              "    fill: var(--disabled-fill-color);\n",
              "    box-shadow: none;\n",
              "  }\n",
              "\n",
              "  .colab-df-spinner {\n",
              "    border: 2px solid var(--fill-color);\n",
              "    border-color: transparent;\n",
              "    border-bottom-color: var(--fill-color);\n",
              "    animation:\n",
              "      spin 1s steps(1) infinite;\n",
              "  }\n",
              "\n",
              "  @keyframes spin {\n",
              "    0% {\n",
              "      border-color: transparent;\n",
              "      border-bottom-color: var(--fill-color);\n",
              "      border-left-color: var(--fill-color);\n",
              "    }\n",
              "    20% {\n",
              "      border-color: transparent;\n",
              "      border-left-color: var(--fill-color);\n",
              "      border-top-color: var(--fill-color);\n",
              "    }\n",
              "    30% {\n",
              "      border-color: transparent;\n",
              "      border-left-color: var(--fill-color);\n",
              "      border-top-color: var(--fill-color);\n",
              "      border-right-color: var(--fill-color);\n",
              "    }\n",
              "    40% {\n",
              "      border-color: transparent;\n",
              "      border-right-color: var(--fill-color);\n",
              "      border-top-color: var(--fill-color);\n",
              "    }\n",
              "    60% {\n",
              "      border-color: transparent;\n",
              "      border-right-color: var(--fill-color);\n",
              "    }\n",
              "    80% {\n",
              "      border-color: transparent;\n",
              "      border-right-color: var(--fill-color);\n",
              "      border-bottom-color: var(--fill-color);\n",
              "    }\n",
              "    90% {\n",
              "      border-color: transparent;\n",
              "      border-bottom-color: var(--fill-color);\n",
              "    }\n",
              "  }\n",
              "</style>\n",
              "\n",
              "      <script>\n",
              "        async function quickchart(key) {\n",
              "          const quickchartButtonEl =\n",
              "            document.querySelector('#' + key + ' button');\n",
              "          quickchartButtonEl.disabled = true;  // To prevent multiple clicks.\n",
              "          quickchartButtonEl.classList.add('colab-df-spinner');\n",
              "          try {\n",
              "            const charts = await google.colab.kernel.invokeFunction(\n",
              "                'suggestCharts', [key], {});\n",
              "          } catch (error) {\n",
              "            console.error('Error during call to suggestCharts:', error);\n",
              "          }\n",
              "          quickchartButtonEl.classList.remove('colab-df-spinner');\n",
              "          quickchartButtonEl.classList.add('colab-df-quickchart-complete');\n",
              "        }\n",
              "        (() => {\n",
              "          let quickchartButtonEl =\n",
              "            document.querySelector('#df-3744448d-69ec-4192-b53b-27ccd667d99e button');\n",
              "          quickchartButtonEl.style.display =\n",
              "            google.colab.kernel.accessAllowed ? 'block' : 'none';\n",
              "        })();\n",
              "      </script>\n",
              "    </div>\n",
              "\n",
              "    </div>\n",
              "  </div>\n"
            ],
            "application/vnd.google.colaboratory.intrinsic+json": {
              "type": "dataframe",
              "variable_name": "titanic",
              "summary": "{\n  \"name\": \"titanic\",\n  \"rows\": 891,\n  \"fields\": [\n    {\n      \"column\": \"survived\",\n      \"properties\": {\n        \"dtype\": \"number\",\n        \"std\": 0,\n        \"min\": 0,\n        \"max\": 1,\n        \"num_unique_values\": 2,\n        \"samples\": [\n          1,\n          0\n        ],\n        \"semantic_type\": \"\",\n        \"description\": \"\"\n      }\n    },\n    {\n      \"column\": \"pclass\",\n      \"properties\": {\n        \"dtype\": \"number\",\n        \"std\": 0,\n        \"min\": 1,\n        \"max\": 3,\n        \"num_unique_values\": 3,\n        \"samples\": [\n          3,\n          1\n        ],\n        \"semantic_type\": \"\",\n        \"description\": \"\"\n      }\n    },\n    {\n      \"column\": \"sex\",\n      \"properties\": {\n        \"dtype\": \"category\",\n        \"num_unique_values\": 2,\n        \"samples\": [\n          \"female\",\n          \"male\"\n        ],\n        \"semantic_type\": \"\",\n        \"description\": \"\"\n      }\n    },\n    {\n      \"column\": \"age\",\n      \"properties\": {\n        \"dtype\": \"number\",\n        \"std\": 14.526497332334044,\n        \"min\": 0.42,\n        \"max\": 80.0,\n        \"num_unique_values\": 88,\n        \"samples\": [\n          0.75,\n          22.0\n        ],\n        \"semantic_type\": \"\",\n        \"description\": \"\"\n      }\n    },\n    {\n      \"column\": \"sibsp\",\n      \"properties\": {\n        \"dtype\": \"number\",\n        \"std\": 1,\n        \"min\": 0,\n        \"max\": 8,\n        \"num_unique_values\": 7,\n        \"samples\": [\n          1,\n          0\n        ],\n        \"semantic_type\": \"\",\n        \"description\": \"\"\n      }\n    },\n    {\n      \"column\": \"parch\",\n      \"properties\": {\n        \"dtype\": \"number\",\n        \"std\": 0,\n        \"min\": 0,\n        \"max\": 6,\n        \"num_unique_values\": 7,\n        \"samples\": [\n          0,\n          1\n        ],\n        \"semantic_type\": \"\",\n        \"description\": \"\"\n      }\n    },\n    {\n      \"column\": \"fare\",\n      \"properties\": {\n        \"dtype\": \"number\",\n        \"std\": 49.693428597180905,\n        \"min\": 0.0,\n        \"max\": 512.3292,\n        \"num_unique_values\": 248,\n        \"samples\": [\n          11.2417,\n          51.8625\n        ],\n        \"semantic_type\": \"\",\n        \"description\": \"\"\n      }\n    },\n    {\n      \"column\": \"embarked\",\n      \"properties\": {\n        \"dtype\": \"category\",\n        \"num_unique_values\": 3,\n        \"samples\": [\n          \"S\",\n          \"C\"\n        ],\n        \"semantic_type\": \"\",\n        \"description\": \"\"\n      }\n    },\n    {\n      \"column\": \"class\",\n      \"properties\": {\n        \"dtype\": \"category\",\n        \"num_unique_values\": 3,\n        \"samples\": [\n          \"Third\",\n          \"First\"\n        ],\n        \"semantic_type\": \"\",\n        \"description\": \"\"\n      }\n    },\n    {\n      \"column\": \"who\",\n      \"properties\": {\n        \"dtype\": \"category\",\n        \"num_unique_values\": 3,\n        \"samples\": [\n          \"man\",\n          \"woman\"\n        ],\n        \"semantic_type\": \"\",\n        \"description\": \"\"\n      }\n    },\n    {\n      \"column\": \"adult_male\",\n      \"properties\": {\n        \"dtype\": \"boolean\",\n        \"num_unique_values\": 2,\n        \"samples\": [\n          false,\n          true\n        ],\n        \"semantic_type\": \"\",\n        \"description\": \"\"\n      }\n    },\n    {\n      \"column\": \"deck\",\n      \"properties\": {\n        \"dtype\": \"category\",\n        \"num_unique_values\": 7,\n        \"samples\": [\n          \"C\",\n          \"E\"\n        ],\n        \"semantic_type\": \"\",\n        \"description\": \"\"\n      }\n    },\n    {\n      \"column\": \"embark_town\",\n      \"properties\": {\n        \"dtype\": \"category\",\n        \"num_unique_values\": 3,\n        \"samples\": [\n          \"Southampton\",\n          \"Cherbourg\"\n        ],\n        \"semantic_type\": \"\",\n        \"description\": \"\"\n      }\n    },\n    {\n      \"column\": \"alive\",\n      \"properties\": {\n        \"dtype\": \"category\",\n        \"num_unique_values\": 2,\n        \"samples\": [\n          \"yes\",\n          \"no\"\n        ],\n        \"semantic_type\": \"\",\n        \"description\": \"\"\n      }\n    },\n    {\n      \"column\": \"alone\",\n      \"properties\": {\n        \"dtype\": \"boolean\",\n        \"num_unique_values\": 2,\n        \"samples\": [\n          true,\n          false\n        ],\n        \"semantic_type\": \"\",\n        \"description\": \"\"\n      }\n    }\n  ]\n}"
            }
          },
          "metadata": {},
          "execution_count": 11
        }
      ]
    },
    {
      "cell_type": "code",
      "source": [
        "# Gráfico de barras de supervivencia por clase\n",
        "sns.countplot(x='pclass', hue='survived', data=titanic)\n",
        "plt.title(\"Tasa de Supervivencia por Clase\")\n",
        "plt.xlabel(\"Clase\")\n",
        "plt.ylabel(\"Número de pasajeros\")\n",
        "plt.show()"
      ],
      "metadata": {
        "colab": {
          "base_uri": "https://localhost:8080/",
          "height": 472
        },
        "id": "XlgomQa50GJS",
        "outputId": "f5b5d9c3-fe4a-4fc7-f14f-a665850b941e"
      },
      "execution_count": 12,
      "outputs": [
        {
          "output_type": "display_data",
          "data": {
            "text/plain": [
              "<Figure size 640x480 with 1 Axes>"
            ],
            "image/png": "[encoded data removed]"
          },
          "metadata": {}
        }
      ]
    },
    {
      "cell_type": "code",
      "source": [
        "# Gráfico de distribución de las tarifas con respecto a la supervivencia\n",
        "sns.boxplot(x='survived', y='fare', data=titanic)\n",
        "plt.title(\"Distribución de la Tarifa según Supervivencia\")\n",
        "plt.xlabel(\"Supervivencia (0 = No, 1 = Sí)\")\n",
        "plt.ylabel(\"Tarifa\")\n",
        "plt.show()"
      ],
      "metadata": {
        "colab": {
          "base_uri": "https://localhost:8080/",
          "height": 473
        },
        "id": "-HXnwoWO0HYi",
        "outputId": "06e4a02e-4e08-484b-f52e-2f42a26472c8"
      },
      "execution_count": 13,
      "outputs": [
        {
          "output_type": "display_data",
          "data": {
            "text/plain": [
              "<Figure size 640x480 with 1 Axes>"
            ],
            "image/png": "[encoded data removed]"
          },
          "metadata": {}
        }
      ]
    },
    {
      "cell_type": "code",
      "source": [
        "# ¿Cuál es la relación entre edad y supervivencia?\n",
        "sns.boxplot(x=\"survived\", y=\"age\", data=titanic)\n",
        "plt.title(\"Edad vs Supervivencia\")\n",
        "plt.show()\n"
      ],
      "metadata": {
        "colab": {
          "base_uri": "https://localhost:8080/",
          "height": 472
        },
        "id": "GRbB-AD40Iu2",
        "outputId": "21a33f4a-d3be-472d-ffbc-94d15bc9dbcb"
      },
      "execution_count": 14,
      "outputs": [
        {
          "output_type": "display_data",
          "data": {
            "text/plain": [
              "<Figure size 640x480 with 1 Axes>"
            ],
            "image/png": "[encoded data removed]"
          },
          "metadata": {}
        }
      ]
    },
    {
      "cell_type": "code",
      "source": [
        "# Gráfico de barras de supervivencia por sexo\n",
        "sns.countplot(x='sex', hue='survived', data=titanic)\n",
        "plt.title(\"Supervivencia por Sexo\")\n",
        "plt.xlabel(\"Sexo\")\n",
        "plt.ylabel(\"Número de pasajeros\")\n",
        "plt.show()"
      ],
      "metadata": {
        "colab": {
          "base_uri": "https://localhost:8080/",
          "height": 472
        },
        "id": "kZPonHKK0J4s",
        "outputId": "d0874cec-740c-41ab-de82-a49dc2648dfe"
      },
      "execution_count": 15,
      "outputs": [
        {
          "output_type": "display_data",
          "data": {
            "text/plain": [
              "<Figure size 640x480 with 1 Axes>"
            ],
            "image/png": "[encoded data removed]"
          },
          "metadata": {}
        }
      ]
    },
    {
      "cell_type": "markdown",
      "metadata": {
        "id": "xr7ZMsLRNnHD"
      },
      "source": [
        "# Google Colab y Google Drive\n",
        "\n",
        "En esta clase trabajaremos utilizando **Google Colab** como entorno de programación. Además, guardaremos y gestionaremos nuestros archivos a través de **Google Drive** y exploraremos cómo integrar proyectos con **GitHub** para un mejor control de versiones y colaboración.\n",
        "\n",
        "## Objetivos\n",
        "\n",
        "- Ejecutar notebooks en Google Colab.\n",
        "- Montar Google Drive para guardar y acceder a archivos.\n",
        "- Conectar Google Colab con repositorios de GitHub.\n",
        "\n",
        "---\n",
        "\n",
        "✅ **Recomendaciones iniciales:**\n",
        "- Asegúrate de tener una cuenta activa de Google.\n",
        "- Autoriza el acceso de Colab a tu Google Drive cuando se te solicite.\n",
        "- Si aún no tienes cuenta en GitHub, crea una y familiarízate con su interfaz básica.\n",
        "\n",
        "---\n",
        "\n",
        "https://colab.research.google.com/\n"
      ]
    },
    {
      "cell_type": "code",
      "source": [
        "# Nos conectamos al Drive\n",
        "from google.colab import drive\n",
        "drive.mount('/content/drive', force_remount=True)"
      ],
      "metadata": {
        "id": "4aukx0ltO_YV",
        "outputId": "4aec030b-3edc-41d9-af11-370687a3b3a5",
        "colab": {
          "base_uri": "https://localhost:8080/",
          "height": 321
        }
      },
      "execution_count": 16,
      "outputs": [
        {
          "output_type": "error",
          "ename": "ValueError",
          "evalue": "mount failed",
          "traceback": [
            "\u001b[0;31m---------------------------------------------------------------------------\u001b[0m",
            "\u001b[0;31mValueError\u001b[0m                                Traceback (most recent call last)",
            "\u001b[0;32m<ipython-input-16-0dfedbc11063>\u001b[0m in \u001b[0;36m<cell line: 0>\u001b[0;34m()\u001b[0m\n\u001b[1;32m      1\u001b[0m \u001b[0;31m# Nos conectamos al Drive\u001b[0m\u001b[0;34m\u001b[0m\u001b[0;34m\u001b[0m\u001b[0m\n\u001b[1;32m      2\u001b[0m \u001b[0;32mfrom\u001b[0m \u001b[0mgoogle\u001b[0m\u001b[0;34m.\u001b[0m\u001b[0mcolab\u001b[0m \u001b[0;32mimport\u001b[0m \u001b[0mdrive\u001b[0m\u001b[0;34m\u001b[0m\u001b[0;34m\u001b[0m\u001b[0m\n\u001b[0;32m----> 3\u001b[0;31m \u001b[0mdrive\u001b[0m\u001b[0;34m.\u001b[0m\u001b[0mmount\u001b[0m\u001b[0;34m(\u001b[0m\u001b[0;34m'/content/drive'\u001b[0m\u001b[0;34m,\u001b[0m \u001b[0mforce_remount\u001b[0m\u001b[0;34m=\u001b[0m\u001b[0;32mTrue\u001b[0m\u001b[0;34m)\u001b[0m\u001b[0;34m\u001b[0m\u001b[0;34m\u001b[0m\u001b[0m\n\u001b[0m",
            "\u001b[0;32m/usr/local/lib/python3.11/dist-packages/google/colab/drive.py\u001b[0m in \u001b[0;36mmount\u001b[0;34m(mountpoint, force_remount, timeout_ms, readonly)\u001b[0m\n\u001b[1;32m     98\u001b[0m \u001b[0;32mdef\u001b[0m \u001b[0mmount\u001b[0m\u001b[0;34m(\u001b[0m\u001b[0mmountpoint\u001b[0m\u001b[0;34m,\u001b[0m \u001b[0mforce_remount\u001b[0m\u001b[0;34m=\u001b[0m\u001b[0;32mFalse\u001b[0m\u001b[0;34m,\u001b[0m \u001b[0mtimeout_ms\u001b[0m\u001b[0;34m=\u001b[0m\u001b[0;36m120000\u001b[0m\u001b[0;34m,\u001b[0m \u001b[0mreadonly\u001b[0m\u001b[0;34m=\u001b[0m\u001b[0;32mFalse\u001b[0m\u001b[0;34m)\u001b[0m\u001b[0;34m:\u001b[0m\u001b[0;34m\u001b[0m\u001b[0;34m\u001b[0m\u001b[0m\n\u001b[1;32m     99\u001b[0m   \u001b[0;34m\"\"\"Mount your Google Drive at the specified mountpoint path.\"\"\"\u001b[0m\u001b[0;34m\u001b[0m\u001b[0;34m\u001b[0m\u001b[0m\n\u001b[0;32m--> 100\u001b[0;31m   return _mount(\n\u001b[0m\u001b[1;32m    101\u001b[0m       \u001b[0mmountpoint\u001b[0m\u001b[0;34m,\u001b[0m\u001b[0;34m\u001b[0m\u001b[0;34m\u001b[0m\u001b[0m\n\u001b[1;32m    102\u001b[0m       \u001b[0mforce_remount\u001b[0m\u001b[0;34m=\u001b[0m\u001b[0mforce_remount\u001b[0m\u001b[0;34m,\u001b[0m\u001b[0;34m\u001b[0m\u001b[0;34m\u001b[0m\u001b[0m\n",
            "\u001b[0;32m/usr/local/lib/python3.11/dist-packages/google/colab/drive.py\u001b[0m in \u001b[0;36m_mount\u001b[0;34m(mountpoint, force_remount, timeout_ms, ephemeral, readonly)\u001b[0m\n\u001b[1;32m    277\u001b[0m             \u001b[0;34m'https://research.google.com/colaboratory/faq.html#drive-timeout'\u001b[0m\u001b[0;34m\u001b[0m\u001b[0;34m\u001b[0m\u001b[0m\n\u001b[1;32m    278\u001b[0m         )\n\u001b[0;32m--> 279\u001b[0;31m       \u001b[0;32mraise\u001b[0m \u001b[0mValueError\u001b[0m\u001b[0;34m(\u001b[0m\u001b[0;34m'mount failed'\u001b[0m \u001b[0;34m+\u001b[0m \u001b[0mextra_reason\u001b[0m\u001b[0;34m)\u001b[0m\u001b[0;34m\u001b[0m\u001b[0;34m\u001b[0m\u001b[0m\n\u001b[0m\u001b[1;32m    280\u001b[0m     \u001b[0;32melif\u001b[0m \u001b[0mcase\u001b[0m \u001b[0;34m==\u001b[0m \u001b[0;36m4\u001b[0m\u001b[0;34m:\u001b[0m\u001b[0;34m\u001b[0m\u001b[0;34m\u001b[0m\u001b[0m\n\u001b[1;32m    281\u001b[0m       \u001b[0;31m# Terminate the DriveFS binary before killing bash.\u001b[0m\u001b[0;34m\u001b[0m\u001b[0;34m\u001b[0m\u001b[0m\n",
            "\u001b[0;31mValueError\u001b[0m: mount failed"
          ]
        }
      ]
    },
    {
      "cell_type": "code",
      "source": [
        "import os\n",
        "\n",
        "# Cambiar el directorio de trabajo\n",
        "os.chdir('/content/drive/My Drive/UPAO/input')\n",
        "\n",
        "# Mostrar el directorio actual de trabajo\n",
        "print(\"Directorio actual:\", os.getcwd())\n",
        "\n",
        "# Listar todos los archivos y carpetas en el directorio actual\n",
        "print(\"\\nArchivos y carpetas en el directorio actual:\")\n",
        "print(os.listdir())\n",
        "\n",
        "!ls \"/content/drive/My Drive/UPAO/input\""
      ],
      "metadata": {
        "id": "EQQMw5LgAaAj"
      },
      "execution_count": null,
      "outputs": []
    },
    {
      "cell_type": "code",
      "source": [
        "# Importar archivo Excel\n",
        "base0 = pd.read_excel(\"base1.xlsx\", sheet_name = \"data\")\n",
        "\n",
        "base0.head()"
      ],
      "metadata": {
        "id": "Ns5d0w2T8QaO"
      },
      "execution_count": null,
      "outputs": []
    },
    {
      "cell_type": "code",
      "source": [
        "# Importar archivo CSV\n",
        "base1 = pd.read_csv(\"base.csv\")\n",
        "\n",
        "base1.head()"
      ],
      "metadata": {
        "id": "BW78vaVF8S3d"
      },
      "execution_count": null,
      "outputs": []
    },
    {
      "cell_type": "code",
      "source": [
        "#base1.info()\n",
        "#base1.dtypes"
      ],
      "metadata": {
        "id": "uIWgAY7A8Udt"
      },
      "execution_count": null,
      "outputs": []
    },
    {
      "cell_type": "code",
      "source": [
        "print(base1.columns)"
      ],
      "metadata": {
        "id": "6S_cXxoF8YxJ"
      },
      "execution_count": null,
      "outputs": []
    },
    {
      "cell_type": "code",
      "source": [
        "base1 = base1.rename( columns = { \"wage\":'salario', \"Unnamed: 0\":'id'}  )\n",
        "base1"
      ],
      "metadata": {
        "id": "pFtEY8UZ8fS5"
      },
      "execution_count": null,
      "outputs": []
    },
    {
      "cell_type": "code",
      "source": [
        "base1 = base1.drop([\"id\",\"ind2\"], axis=1)\n",
        "base1\n",
        "# axis 1 : Columnas\n",
        "# axis 0 : Filas"
      ],
      "metadata": {
        "id": "yEG5paNF8hMQ"
      },
      "execution_count": null,
      "outputs": []
    },
    {
      "cell_type": "code",
      "source": [
        "base1 = base1.drop([\"we\",\"exp2\",\"exp3\",\"exp4\",\"occ\",\"occ2\",\"shs\",\"hsg\",\"scl\",\"clg\",\"ad\",\"mw\",\"so\",\"ne\"], axis=1)\n",
        "base1"
      ],
      "metadata": {
        "id": "Pi9y9OVK8iaw"
      },
      "execution_count": null,
      "outputs": []
    },
    {
      "cell_type": "code",
      "source": [
        "# Filas 1 y 3\n",
        "base1.drop([1,3], axis = 0)"
      ],
      "metadata": {
        "id": "YFexzMAU8lDN"
      },
      "execution_count": null,
      "outputs": []
    },
    {
      "cell_type": "markdown",
      "source": [
        "### Rebanado (Slicing) de DataFrames"
      ],
      "metadata": {
        "id": "om9I-3Ci8ntX"
      }
    },
    {
      "cell_type": "code",
      "source": [
        "# Selecciona filas usando posiciones\n",
        "base1.iloc[0:6]"
      ],
      "metadata": {
        "id": "RmyGlcpS8p92"
      },
      "execution_count": null,
      "outputs": []
    },
    {
      "cell_type": "code",
      "source": [
        "# Indice de fila y nombres de columnas\n",
        "\n",
        "base1.loc[:,['salario', 'lwage']]"
      ],
      "metadata": {
        "id": "Yw5-cbYR8rGo"
      },
      "execution_count": null,
      "outputs": []
    },
    {
      "cell_type": "code",
      "source": [
        "base3 = base1[['lwage','salario']]"
      ],
      "metadata": {
        "id": "BL4hOl-v8sas"
      },
      "execution_count": null,
      "outputs": []
    },
    {
      "cell_type": "code",
      "source": [
        "base3"
      ],
      "metadata": {
        "id": "gEtUmj6Z8tYk"
      },
      "execution_count": null,
      "outputs": []
    },
    {
      "cell_type": "code",
      "source": [
        "base1[base1['sex']==1]"
      ],
      "metadata": {
        "id": "0syM7NRA8zo8"
      },
      "execution_count": null,
      "outputs": []
    },
    {
      "cell_type": "code",
      "source": [
        "base1[base1['exp1']>10]"
      ],
      "metadata": {
        "id": "62jUD3zFJxY7"
      },
      "execution_count": null,
      "outputs": []
    },
    {
      "cell_type": "code",
      "source": [
        "base1[base1.exp1 > 10].head(10)"
      ],
      "metadata": {
        "id": "VlWw8yty81Rt"
      },
      "execution_count": null,
      "outputs": []
    },
    {
      "cell_type": "code",
      "source": [
        "base1[base1.exp1 < 5]"
      ],
      "metadata": {
        "id": "PLMIRNz282k5"
      },
      "execution_count": null,
      "outputs": []
    },
    {
      "cell_type": "code",
      "source": [
        "base1[(base1['sex']==1) & (base1.exp1 > 10) ].head(10) #and\n",
        "#base1[(base1['sex']==1) | (base1.exp1 > 10) ].head(10) #or"
      ],
      "metadata": {
        "id": "r2NIoyiC837V"
      },
      "execution_count": null,
      "outputs": []
    },
    {
      "cell_type": "markdown",
      "source": [
        "## 5. Descripción de la base de datos\n",
        "\n",
        "La base de datos que utilizaremos a continuación contiene información proveniente de la **Encuesta Nacional de Hogares (ENAHO)**, correspondiente a los módulos 200, 300 y 500, para el periodo 2011 - 2019. Esta base de datos permite realizar un análisis multidimensional de las características de los hogares peruanos a lo largo del tiempo.\n",
        "\n",
        "- **Módulo 200: Características de los Miembros del Hogar**\n",
        "  \n",
        "  Incluye variables demográficas esenciales, tales como edad, sexo, parentesco con el jefe del hogar, estado civil y otros indicadores relevantes sobre la composición familiar.\n",
        "\n",
        "- **Módulo 300: Educación**\n",
        "  \n",
        "  Proporciona información detallada sobre el nivel educativo alcanzado, asistencia escolar, rezago escolar, entre otros aspectos relacionados con la educación de los miembros del hogar.\n",
        "\n",
        "- **Módulo 500: Empleo e Ingresos**\n",
        "  \n",
        "  Recoge datos sobre la condición de actividad, características del empleo principal y secundario, ingresos laborales y no laborales, permitiendo un análisis integral del mercado laboral y la situación económica de los hogares.\n",
        "\n",
        "Esta base de datos constituye una herramienta robusta para el estudio de temas relacionados con desarrollo humano, pobreza, desigualdad, y dinámicas del mercado de trabajo en el Perú.\n"
      ],
      "metadata": {
        "id": "fBQaQe6JTtUb"
      }
    },
    {
      "cell_type": "code",
      "source": [
        "# Importar las librerías necesarias\n",
        "import pandas as pd\n",
        "import matplotlib.pyplot as plt\n",
        "import seaborn as sns\n",
        "\n",
        "\n",
        "\n",
        "# Importar la base de datos ENAHO y asignarla al DataFrame 'df'\n",
        "df = pd.read_stata(\"enaho.dta\")\n",
        "\n",
        "# Mostrar las primeras filas para verificar la correcta importación\n",
        "df.head()\n"
      ],
      "metadata": {
        "id": "T7ctvJNTTfcJ"
      },
      "execution_count": null,
      "outputs": []
    },
    {
      "cell_type": "code",
      "source": [
        "df['empresa']"
      ],
      "metadata": {
        "id": "LS8MKqR2VhmN"
      },
      "execution_count": null,
      "outputs": []
    },
    {
      "cell_type": "markdown",
      "source": [
        "## Clasificación de empresas según el número de trabajadores contratados\n",
        "\n",
        "A continuación, se presenta la clasificación empresarial basada en el tamaño de la empresa, determinada por la cantidad de trabajadores contratados:\n",
        "\n",
        "- **Microempresas:** menos de 10 trabajadores.\n",
        "- **Pequeñas empresas:** entre 10 y 20 trabajadores.\n",
        "- **Medianas empresas:** entre 21 y 100 trabajadores.\n",
        "- **Grandes empresas:** más de 100 trabajadores.\n",
        "\n",
        "Esta clasificación es ampliamente utilizada en estudios económicos y análisis sectoriales para segmentar y comparar el comportamiento empresarial según su tamaño.\n",
        "\n",
        "---\n"
      ],
      "metadata": {
        "id": "Br-ZmL6xV3w3"
      }
    },
    {
      "cell_type": "code",
      "source": [
        "sns.countplot(x=\"empresa\", data=df[df['year'] == \"2019\"])\n",
        "plt.show()"
      ],
      "metadata": {
        "id": "qehhuJQzOcAA"
      },
      "execution_count": null,
      "outputs": []
    },
    {
      "cell_type": "code",
      "source": [
        "sns.set(style=\"darkgrid\")\n",
        "# sns.set(style=\"whitegrid\")\n",
        "# sns.set(style=\"white\")\n",
        "#figure size\n",
        "\n",
        "fig, ax = plt.subplots( figsize=(7,4) )\n",
        "\n",
        "x = sns.countplot( x=\"empresa\", data=df[df['year'] == \"2019\"], palette=\"pastel\")\n",
        "\n",
        "\n",
        "\n",
        "# Iterar sobre las barras\n",
        "for p in ax.patches:\n",
        "    # Obtener la posición y la altura de la barra\n",
        "    height = p.get_height()\n",
        "    # Colocar el texto sobre la barra\n",
        "    ax.text(p.get_x() + p.get_width() / 2., height + 0.1, '{}'.format(height), ha='center', va='bottom')\n",
        "\n",
        "plt.title('Cantidad de empresas según clasificación en el 2019')\n",
        "plt.xlabel('Tipo de empresa ')\n",
        "plt.ylabel('Número de Observaciones ')\n",
        "\n",
        "# ax.grid(False)"
      ],
      "metadata": {
        "id": "Pj-GxCt4WSY5"
      },
      "execution_count": null,
      "outputs": []
    },
    {
      "cell_type": "markdown",
      "source": [
        "###### Gráfico de recuento vertical y un color (rojo)"
      ],
      "metadata": {
        "id": "3QjsWL9WW969"
      }
    },
    {
      "cell_type": "code",
      "source": [
        "sns.set(style=\"darkgrid\")\n",
        "fig, ax = plt.subplots(figsize=(7,4))\n",
        "\n",
        "x = sns.countplot(y = \"empresa\", data=df[df['year'] == \"2019\" ], color = 'red')\n",
        "\n",
        "plt.title('Cantidad de empresas según clasificación en el 2019')\n",
        "plt.xlabel('Número de Observaciones')\n",
        "plt.ylabel('Tipo de empresa')"
      ],
      "metadata": {
        "id": "852D36EvW9jt"
      },
      "execution_count": null,
      "outputs": []
    },
    {
      "cell_type": "markdown",
      "source": [
        "###### Evolución de las empresas en el périodo 2017-2019"
      ],
      "metadata": {
        "id": "oOAe6tb0aIhw"
      }
    },
    {
      "cell_type": "code",
      "source": [
        "df2 = df[df['year'] > \"2016\" ]\n",
        "\n",
        "fig, ax = plt.subplots(figsize=(10,6))\n",
        "\n",
        "# hue: variable descomposition\n",
        "\n",
        "ax = sns.countplot(x=\"empresa\", hue=\"year\", linewidth=1, data=df2)\n",
        "\n",
        "plt.title('Evolución de las empresas en el périodo 2017-2019')\n",
        "plt.xlabel('Tipo de empresa ')\n",
        "plt.ylabel('Número de Observaciones ')\n",
        "\n",
        "txt=\"Fuente: Elboración propia - ENAHO (2011-2019)\"\n",
        "plt.figtext(0.01, 0.01, txt, wrap=True, horizontalalignment='left', va=\"top\", fontsize=10)\n"
      ],
      "metadata": {
        "id": "cVd2Oe1qaR_c"
      },
      "execution_count": null,
      "outputs": []
    },
    {
      "cell_type": "markdown",
      "source": [
        "### Número de empresas por estratos (urbano o rural) y evolución por años\n",
        "\n",
        "hue = divididos en grupos pero en el mismo gráfico <br>\n",
        "col = crear dos nuevos grupos base en id grupo"
      ],
      "metadata": {
        "id": "dRw9WHdiagCx"
      }
    },
    {
      "cell_type": "code",
      "source": [
        "df2.area"
      ],
      "metadata": {
        "id": "Tcn_K8Wsal36"
      },
      "execution_count": null,
      "outputs": []
    },
    {
      "cell_type": "code",
      "source": [
        "ag = sns.catplot(x=\"empresa\", hue=\"year\", col= \"area\" , data= df2, kind=\"count\", height=10, aspect=1);\n",
        "\n",
        "(ag.set_axis_labels(\"Tipo de empresa\", \"Número de empresas\")\n",
        "  .set(ylim=(0, 6000))\n",
        "  .despine(left=True))"
      ],
      "metadata": {
        "id": "4e0uuu1daqPj"
      },
      "execution_count": null,
      "outputs": []
    },
    {
      "cell_type": "markdown",
      "source": [
        "#### Número de empresas por estratos - diagrama de barras apiladas"
      ],
      "metadata": {
        "id": "YlPFPfouaxlg"
      }
    },
    {
      "cell_type": "code",
      "source": [
        "df['conglome']"
      ],
      "metadata": {
        "id": "y4AsR83uayGP"
      },
      "execution_count": null,
      "outputs": []
    },
    {
      "cell_type": "code",
      "source": [
        "df[df['year'] == \"2019\" ].groupby( [ 'empresa', 'area' ] ).size().reset_index(name='num_firms')"
      ],
      "metadata": {
        "id": "4lcPl_Ura1UY"
      },
      "execution_count": null,
      "outputs": []
    },
    {
      "cell_type": "code",
      "source": [
        "# count businesses by strata using groubpy (similar collapse - stata)\n",
        "#base_2 = enaho[ enaho['year'] == \"2019\" ].groupby( [ 'empresa', 'area' ], as_index = False )[['conglome'] ].count()\n",
        "base_2 = df[ df['year'] == \"2019\" ].groupby( [ 'empresa', 'area' ] ).size().reset_index(name='num_firms')\n",
        "base_2"
      ],
      "metadata": {
        "id": "T1TXAn66bA-s"
      },
      "execution_count": null,
      "outputs": []
    },
    {
      "cell_type": "code",
      "source": [
        "# stacked information\n",
        "base_3 = base_2.pivot(index = 'empresa', columns = 'area', values = 'num_firms')\n",
        "base_3"
      ],
      "metadata": {
        "id": "gBDmPMM6bEN1"
      },
      "execution_count": null,
      "outputs": []
    },
    {
      "cell_type": "code",
      "source": [
        "base_3.columns"
      ],
      "metadata": {
        "id": "5W9vNaGubFkE"
      },
      "execution_count": null,
      "outputs": []
    },
    {
      "cell_type": "code",
      "source": [
        "base_3_2 = base_3.copy()"
      ],
      "metadata": {
        "id": "TC_MKAzXbG0k"
      },
      "execution_count": null,
      "outputs": []
    },
    {
      "cell_type": "code",
      "source": [
        "base_3_2 = base_3_2[[\"Urbana\", \"Rural\"]]\n",
        "base_3_2"
      ],
      "metadata": {
        "id": "O1Tq8CWJbH_s"
      },
      "execution_count": null,
      "outputs": []
    },
    {
      "cell_type": "code",
      "source": [
        "base_3_2.plot( kind='bar', stacked=True, title='Empresa por estrato', color = ['blue', 'lightblue'] )\n",
        "plt.xlabel(' ')"
      ],
      "metadata": {
        "id": "aCilvivibJMQ"
      },
      "execution_count": null,
      "outputs": []
    },
    {
      "cell_type": "code",
      "source": [
        "base_3.plot( kind='bar', stacked=True, title='Empresa por estrato', color = ['blue', 'lightblue'] )\n",
        "plt.xlabel(' ')"
      ],
      "metadata": {
        "id": "vI4Oj3NlbKeR"
      },
      "execution_count": null,
      "outputs": []
    },
    {
      "cell_type": "code",
      "source": [
        "axes = base_3.plot( kind='bar', rot=0, subplots=True, color = ['blue', 'lightblue'], title='Empresa por estrato')\n",
        "plt.xticks(rotation=90)"
      ],
      "metadata": {
        "id": "JAuM1HLTbL0B"
      },
      "execution_count": null,
      "outputs": []
    },
    {
      "cell_type": "markdown",
      "source": [
        "## 2. Proporciones\n",
        "\n",
        "Gráficos comprensibles para mostrar variables categóricas. Utilice estos gráficos para explicar las participaciones de las categorías."
      ],
      "metadata": {
        "id": "YljrAwcabOU5"
      }
    },
    {
      "cell_type": "markdown",
      "source": [
        "### Pie\n",
        "\n",
        "##### First at all, collapse dataframe to count categories of a variable"
      ],
      "metadata": {
        "id": "Y6g4F4VgbRDZ"
      }
    },
    {
      "cell_type": "code",
      "source": [
        "base = df.groupby([ 'empresa' ]).count()\n",
        "base"
      ],
      "metadata": {
        "id": "PO2pzWKGbUfx"
      },
      "execution_count": null,
      "outputs": []
    },
    {
      "cell_type": "code",
      "source": [
        "# Labels to correct categories names\n",
        "\n",
        "labels=['Microempresa','Pequeña empresa' , 'Mediana empresa', 'Gran empresa']\n",
        "\n",
        "plt.figure(figsize=(5,5))\n",
        "\n",
        "ax = plt.pie(base['conglome'], labels=labels, autopct='%.1f %%')\n",
        "plt.title('Distribución de las empresas peruanas (2019)')\n",
        "plt.show()"
      ],
      "metadata": {
        "id": "YXVUL-MrbWRx"
      },
      "execution_count": null,
      "outputs": []
    },
    {
      "cell_type": "code",
      "source": [
        "df.labor"
      ],
      "metadata": {
        "id": "9b47krtPbXm9"
      },
      "execution_count": null,
      "outputs": []
    },
    {
      "cell_type": "code",
      "source": [
        "base = df.groupby('labor').size()\n",
        "base"
      ],
      "metadata": {
        "id": "b0Xou4b3bYnN"
      },
      "execution_count": null,
      "outputs": []
    },
    {
      "cell_type": "code",
      "source": [
        "base = df.groupby('labor').size()\n",
        "base.plot(kind='pie', subplots=True, figsize=(8, 8))\n",
        "plt.title(\"Ocupaciones laborales\")\n",
        "plt.ylabel(\"\")\n",
        "plt.show()"
      ],
      "metadata": {
        "id": "jCJuDttBbY9d"
      },
      "execution_count": null,
      "outputs": []
    },
    {
      "cell_type": "code",
      "source": [
        "base = df.groupby('labor').size()\n",
        "base.plot(kind='pie', subplots=True, figsize=(8, 8), autopct='%1.1f%%')  # Agregar el formato de porcentaje\n",
        "plt.title(\"Ocupaciones laborales\")\n",
        "plt.ylabel(\"\")\n",
        "plt.show()"
      ],
      "metadata": {
        "id": "M9NkftvzbaIe"
      },
      "execution_count": null,
      "outputs": []
    },
    {
      "cell_type": "markdown",
      "source": [
        "----\n",
        "## Dona"
      ],
      "metadata": {
        "id": "9yrSM09GbczW"
      }
    },
    {
      "cell_type": "code",
      "source": [
        "base2 = df.groupby([ 'sector' ]).count()\n",
        "\n",
        "labels=['Agricultura y pesca','Minería','Manufactura','Construcción','Comercio','Transporte y telecomunicaciones', 'Finanzas', 'Servicios']\n",
        "plt.figure(figsize=(10, 6))\n",
        "\n",
        "ax = plt.pie(base2['conglome'], labels=labels,\n",
        "        autopct='%1.1f%%', pctdistance=0.85)\n",
        "\n",
        "# centroid size and color\n",
        "\n",
        "center_circle = plt.Circle((0, 0), 0.50, fc='white')\n",
        "fig = plt.gcf()\n",
        "\n",
        "fig.gca().add_artist(center_circle)\n",
        "\n",
        "plt.title('Distribución de la mano de obra contratada por sector económico')\n",
        "\n",
        "# Adding notes\n",
        "\n",
        "txt=\"Elboración propia - ENAHO (2011-2019)\"\n",
        "plt.figtext(0.2, 0.01, txt, wrap=True, horizontalalignment='right', fontsize=10)\n",
        "\n",
        "plt.show()"
      ],
      "metadata": {
        "id": "CuL-AaLPbgHt"
      },
      "execution_count": null,
      "outputs": []
    },
    {
      "cell_type": "markdown",
      "source": [],
      "metadata": {
        "id": "4t_UyK23NRRI"
      }
    },
    {
      "cell_type": "markdown",
      "source": [
        "---\n",
        "## Distribuciones\n",
        "\n",
        "Los gráficos de distribución evalúan visualmente la distribución de los datos de la muestra comparando la distribución empírica de los datos con los valores teóricos esperados de una distribución especificada."
      ],
      "metadata": {
        "id": "0oJrD3vBNU3E"
      }
    },
    {
      "cell_type": "code",
      "source": [
        "#filter database to 2019\n",
        "base4 = df[df['year'] == \"2019\" ]"
      ],
      "metadata": {
        "id": "1nWSqe0uNdue"
      },
      "execution_count": null,
      "outputs": []
    },
    {
      "cell_type": "code",
      "source": [
        "base4.l_salario.hist(bins=50)\n"
      ],
      "metadata": {
        "id": "FKHln8aLNgXs"
      },
      "execution_count": null,
      "outputs": []
    },
    {
      "cell_type": "code",
      "source": [
        "#filter database to 2019\n",
        "base4 = df[df['year'] == \"2019\" ]\n",
        "\n",
        "base4['l_salario'].plot(kind = 'hist', bins = 10, figsize = (8,6))\n",
        "plt.title('Logaritmo del salario por hora')\n",
        "\n",
        "txt=\"Elboración propia - ENAHO (2011-2019)\"\n",
        "plt.figtext(0.5, 0.01, txt, wrap=True, horizontalalignment='center', fontsize=12)\n",
        "plt.show()\n"
      ],
      "metadata": {
        "id": "lY7iRYTvNgtP"
      },
      "execution_count": null,
      "outputs": []
    },
    {
      "cell_type": "markdown",
      "source": [
        "### Reduciendo intervalos\n",
        "\n",
        "Distribución de frecuencias con un intervalo más pequeño (menor frecuencia relativa). Por lo tanto, la altura de cada barra representa una cantidad menor.\n"
      ],
      "metadata": {
        "id": "vnXqX0yINv5k"
      }
    },
    {
      "cell_type": "code",
      "source": [
        "base4['l_salario']\n",
        "\n"
      ],
      "metadata": {
        "id": "LXfBE6xQNqi5"
      },
      "execution_count": null,
      "outputs": []
    },
    {
      "cell_type": "code",
      "source": [
        "\n",
        "\n",
        "sns.set('paper')\n",
        "sns.set_style(\"ticks\")\n",
        "\n",
        "base4['l_salario'].plot(kind = 'hist', bins = 40, figsize = (8,6))\n",
        "plt.title('Logaritmo del salario por hora')\n",
        "\n",
        "txt=\"Elboración propia - ENAHO (2011-2019)\"\n",
        "plt.figtext(0.5, 0.01, txt, wrap=True, horizontalalignment='center', fontsize=11)\n",
        "plt.show()\n",
        "\n"
      ],
      "metadata": {
        "id": "tGpzGCKqNuKk"
      },
      "execution_count": null,
      "outputs": []
    },
    {
      "cell_type": "markdown",
      "source": [
        "---\n",
        "### Múltiple histogramas\n",
        "\n"
      ],
      "metadata": {
        "id": "BEcMxFcQN0nV"
      }
    },
    {
      "cell_type": "code",
      "source": [
        "figure1 = sns.FacetGrid(base4, col=\"empresa\", margin_titles=True)\n",
        "figure1.map(plt.hist, 'l_salario', bins=np.linspace(0, 20, 30))"
      ],
      "metadata": {
        "id": "OMBuQgJoN5a5"
      },
      "execution_count": null,
      "outputs": []
    },
    {
      "cell_type": "markdown",
      "source": [
        "### Densidad del salario real por hora:\n",
        "#### La distribución no se parece a una normal estándar. La información se concentra en los valores más bajos y hay algunas observaciones de valores altos."
      ],
      "metadata": {
        "id": "sHbXu2p_N-O7"
      }
    },
    {
      "cell_type": "code",
      "source": [
        "plt.figure(figsize=(8, 8))\n",
        "\n",
        "sns.distplot(base4['salario'], label = \"Densidad\", color = 'blue')\n",
        "plt.title('Salario por hora')\n",
        "plt.xlabel(' ')\n",
        "plt.show()\n"
      ],
      "metadata": {
        "id": "lKaORzEXOAeW"
      },
      "execution_count": null,
      "outputs": []
    },
    {
      "cell_type": "markdown",
      "source": [
        "### Logaritmo del salario real por hora\n",
        "#### Esto permite corregir la asimetría que presentan los datos originales."
      ],
      "metadata": {
        "id": "ss8DAx75OHtL"
      }
    },
    {
      "cell_type": "code",
      "source": [
        "\n",
        "#Alternative figure size\n",
        "plt.figure(figsize=(8, 8))\n",
        "\n",
        "sns.distplot(base4['l_salario'], label = \"Densidad\", color = 'black')\n",
        "plt.title('Logaritmo del salario por hora')\n",
        "plt.xlabel(' ')\n",
        "plt.show()\n"
      ],
      "metadata": {
        "id": "EHP2wvV6OKjA"
      },
      "execution_count": null,
      "outputs": []
    },
    {
      "cell_type": "code",
      "source": [
        "###\n",
        "Salarios reales en tres sectores (construcción, minería y servicios)"
      ],
      "metadata": {
        "id": "dtb3ExEeOP-O"
      },
      "execution_count": null,
      "outputs": []
    },
    {
      "cell_type": "code",
      "source": [
        "\n",
        "base4.sector"
      ],
      "metadata": {
        "id": "FDj69wvdOReb"
      },
      "execution_count": null,
      "outputs": []
    },
    {
      "cell_type": "code",
      "source": [
        "import matplotlib.pyplot as plt\n",
        "import matplotlib.patches as mpatches\n",
        "\n",
        "plt.figure(figsize=(10, 6))\n",
        "\n",
        "#Adding densities\n",
        "\n",
        "sns.kdeplot(base4.l_salario[base4.sector=='Construcción'], label='Construcción', shade=True, color=\"blue\")\n",
        "sns.kdeplot(base4.l_salario[base4.sector=='Comercio, hoteles y restaurantes'], label='Comercio, hoteles y restaurantes', shade=True, color = \"red\")\n",
        "sns.kdeplot(base4.l_salario[base4.sector=='minería'], label='Minería ', shade=True, color=\"gray\")\n",
        "plt.title('Logaritmo del salario by Industry')\n",
        "\n",
        "# Define custom colors\n",
        "color1 = 'blue'\n",
        "color2 = 'red'\n",
        "color3 = \"gray\"\n",
        "# Create legend handles\n",
        "handle1 = mpatches.Patch(color=color1, label='Construcción')\n",
        "handle2 = mpatches.Patch(color=color2, label='Comercio')\n",
        "handle3 = mpatches.Patch(color=color3, label='Minería')\n",
        "\n",
        "# Manually adding a legend with custom colors\n",
        "plt.legend(handles=[handle1, handle2, handle3], title='Industry')\n",
        "# Construction sector shows certain stochastic dominance over mining and services"
      ],
      "metadata": {
        "id": "ooDZCna3Oe3T"
      },
      "execution_count": null,
      "outputs": []
    },
    {
      "cell_type": "markdown",
      "source": [
        "---\n",
        "### Ocupaciones laborales y densidades del salario real por hora\n",
        "Se utiliza un bucle For para incluir en el mismo gráfico la función de densidad de los salarios por hora para diferentes ocupaciones."
      ],
      "metadata": {
        "id": "he9phFVvOlcG"
      }
    },
    {
      "cell_type": "code",
      "source": [
        "fig, ax = plt.subplots(figsize=(8,6))\n",
        "\n",
        "sector = [ 'Ocupaciones elementales', 'Profesionales y fuerzas armadas', 'Operadores de planta y maquinaria',\n",
        "          'Trabajo en actividades agrícolas, selvicultura y pesca']\n",
        "\n",
        "nombre = [ 'Ocupaciones elementales', 'Profesionales', 'Planta y maquinaria','Actividades extractivas']\n",
        "\n",
        "color = [ 'blue', 'gray', 'green','black']\n",
        "\n",
        "\n",
        "for a, b, c in zip(sector, nombre, color):\n",
        "        sns.kdeplot(base4.l_salario[base4.labor==a], label=b, shade=True, color = c)\n",
        "\n",
        "plt.xlabel('Logaritmo del salario por tipo de ocupación')\n",
        "\n",
        "plt.ylabel('Densidad')\n",
        "\n",
        "# Añadir leyenda\n",
        "plt.legend(title='Tipo de ocupación')\n",
        "\n",
        "plt.show()\n",
        "\n",
        "# Two relevant findings: stochastic dominance of the salary of professionals and\n",
        "# concentration in lower levels of salary in the non-active primary sector."
      ],
      "metadata": {
        "id": "0U9Y340KO20Z"
      },
      "execution_count": null,
      "outputs": []
    },
    {
      "cell_type": "markdown",
      "source": [
        "### Box plot salario real y educación"
      ],
      "metadata": {
        "id": "96BEnkA4O7f8"
      }
    },
    {
      "cell_type": "code",
      "source": [
        "\n",
        "fig, ax = plt.subplots(figsize=(10,6))\n",
        "\n",
        "box = sns.boxplot(x=\"educ\", y=\"l_salario\", data=df[df['year'] == \"2019\" ] ,palette='pastel')\n",
        "plt.xlabel('Nivel educativo alcanzado')\n",
        "plt.ylabel('Logaritmo del salario por hora')\n",
        "(box.set_xticklabels([\"Sec. completa\", \"No uni. incompleta\", \"No uni. completa\", \"Uni. incompleta\", \"Uni. completa\", \"Posgrado\"]))\\\n",
        "\n",
        "# The real wage quartiles are increasing with the educational level.\n",
        "# Lower salary dispersion for the postgraduate level. pastel\n"
      ],
      "metadata": {
        "id": "IDUZ2l4pO9SI"
      },
      "execution_count": null,
      "outputs": []
    },
    {
      "cell_type": "markdown",
      "source": [
        "## Relaciones\n",
        "\n",
        "Los gráficos se utilizan tanto para series temporales como para datos transversales. Estos gráficos permiten establecer ciertas pruebas de correlación o relaciones entre variables.\n",
        "\n",
        "**Gráfico de dispersión**\n",
        "En primer lugar, se extrae una muestra aleatoria de la base de datos original."
      ],
      "metadata": {
        "id": "51MIuHxnPHAU"
      }
    },
    {
      "cell_type": "code",
      "source": [
        "#Full sample\n",
        "\n",
        "sns.set('paper')\n",
        "plt.figure(figsize=(8, 8))\n",
        "plot = sns.scatterplot(data=base4, x=\"l_n_labor\", y=\"l_salario\", hue=\"sector\", palette=\"deep\")\n",
        "\n",
        "plt.xlabel('Logaritmo del salario laboral por hora')\n",
        "plt.ylabel('Logaritmo de los ingresos mensuales no laborales')\n",
        "\n",
        "# By default legend inside plot. Following codes allow us to put outside.\n",
        "# bbox_to_anchor: box location\n",
        "# ncol: # columns of legend\n",
        "\n",
        "\n",
        "\n",
        "plot.legend(loc='center left', bbox_to_anchor=(-0.2, -0.2), ncol=3)\n"
      ],
      "metadata": {
        "id": "cPu1ilNwPS3c"
      },
      "execution_count": null,
      "outputs": []
    },
    {
      "cell_type": "code",
      "source": [
        "\n",
        "# Ramdon sample n = 3000\n",
        "\n",
        "base5 = base4.sample(n = 3000)\n",
        "\n",
        "sns.set('paper')\n",
        "plt.figure(figsize=(10, 10))\n",
        "plot = sns.scatterplot(data=base5, x=\"l_n_labor\", y=\"l_salario\", hue=\"sector\", palette=\"flare\")\n",
        "\n",
        "plt.xlabel('Logaritmo del salario laboral por hora')\n",
        "plt.ylabel('Logaritmo de los ingresos mensuales no laborales')\n",
        "\n",
        "plot.legend(loc='center left', bbox_to_anchor=(1, 0.5), ncol=1)\n"
      ],
      "metadata": {
        "id": "c7awzdiiPUeI"
      },
      "execution_count": null,
      "outputs": []
    },
    {
      "cell_type": "markdown",
      "source": [
        "Reggresión salario real por hora e ingresos no laborales por estratos \\\\\n",
        "\n",
        "s = El tamaño del marcador en puntos**2.\n",
        "\n",
        "linewidths = «La anchura de línea de los bordes del marcador»."
      ],
      "metadata": {
        "id": "Y4pANXmPPY6p"
      }
    },
    {
      "cell_type": "code",
      "source": [
        "\n",
        "sns.set_style(\"white\")\n",
        "gridobj = sns.lmplot(x=\"l_salario\", y=\"l_n_labor\",\n",
        "                     data=base5,\n",
        "                     height=7,\n",
        "                     robust=True,\n",
        "                     palette='Set1',\n",
        "                     col=\"area\",\n",
        "                     scatter_kws=dict(s=60, linewidths=0.7, edgecolors='black'))\n",
        "\n",
        "gridobj.set(xlim=(0.5, 7.5), ylim=(0, 50))\n",
        "plt.show()\n"
      ],
      "metadata": {
        "id": "9MwCut1sPevR"
      },
      "execution_count": null,
      "outputs": []
    },
    {
      "cell_type": "code",
      "source": [
        "import numpy as np\n",
        "\n",
        "sns.regplot(data=base5, x=\"l_salario\", y=\"l_n_labor\", x_bins=np.arange(0, 7, 0.5), order=1)\n"
      ],
      "metadata": {
        "id": "hXs_stfNPgGp"
      },
      "execution_count": null,
      "outputs": []
    },
    {
      "cell_type": "markdown",
      "source": [
        "# Semana 3: Estadística descriptiva con Python"
      ],
      "metadata": {
        "id": "LcLMYsXCpTKC"
      }
    },
    {
      "cell_type": "markdown",
      "source": [
        "# 1. Estadística descriptiva\n",
        "\n",
        "Hasta este punto, hemos organizado y representado los datos mediante diversas técnicas de visualización. Sin embargo, surge la pregunta: ¿qué tipo de intuiciones o conclusiones podemos extraer a partir de estas representaciones?\n",
        "\n",
        "Las visualizaciones tales como los histogramas y los gráficos de conteo permiten observar la frecuencia con la que se presenta cada valor dentro de un conjunto de observaciones de una variable aleatoria. Este procedimiento se conoce como análisis de frecuencia y constituye una de las herramientas fundamentales de la estadística descriptiva.\n",
        "\n",
        "Si bien las visualizaciones facilitan la obtención de estimaciones y patrones generales, el análisis directo de los datos sin procesar puede resultar poco práctico debido a su volumen y complejidad. Por este motivo, la estadística descriptiva también introduce medidas numéricas, como las medidas de tendencia central y de dispersión, que permiten resumir y caracterizar de manera cuantitativa las propiedades más relevantes de las observaciones de una variable aleatoria.\n"
      ],
      "metadata": {
        "id": "WsAkhZWiBrPZ"
      }
    },
    {
      "cell_type": "code",
      "source": [
        "import io\n",
        "import matplotlib\n",
        "import matplotlib.pyplot as plt\n",
        "import numpy\n",
        "import pandas as pd\n",
        "import seaborn\n",
        "\n",
        "url = 'https://raw.githubusercontent.com/DiploDatos/AnalisisyVisualizacion/refs/heads/master/sysarmy_survey_2025_processed.csv'\n",
        "df = pd.read_csv(url)"
      ],
      "metadata": {
        "id": "aH0gqTXUtfUV"
      },
      "execution_count": null,
      "outputs": []
    },
    {
      "cell_type": "code",
      "source": [
        "df[:5]"
      ],
      "metadata": {
        "id": "vqWjbrQ_ttX2"
      },
      "execution_count": null,
      "outputs": []
    },
    {
      "cell_type": "code",
      "source": [
        "salary_col='salary_monthly_BRUTO'\n",
        "#salary_col='salary_monthly_NETO'\n",
        "df2= df[df[salary_col] < 15000000]\n",
        "print('Máximo',max(df2[salary_col]),'Mínimo',min(df2[salary_col]))"
      ],
      "metadata": {
        "id": "Edxu6IsJt0Z-"
      },
      "execution_count": null,
      "outputs": []
    },
    {
      "cell_type": "code",
      "source": [
        "df2[salary_col].describe().apply(lambda s: '{0:.2f}'.format(s))"
      ],
      "metadata": {
        "id": "maRM_Fmmt0zz"
      },
      "execution_count": null,
      "outputs": []
    },
    {
      "cell_type": "code",
      "source": [
        "df2[salary_col].mean()"
      ],
      "metadata": {
        "id": "6Wa1vR8lt_A8"
      },
      "execution_count": null,
      "outputs": []
    },
    {
      "cell_type": "markdown",
      "source": [
        "## 3.1. Medidas de tendencia central y dispersión"
      ],
      "metadata": {
        "id": "vNzLvaR-pfH7"
      }
    },
    {
      "cell_type": "markdown",
      "source": [
        "Cuando se quiere obtener un valor representativo de todas las realizaciones de una v.a., o su centro, se utiliza una *medida de tendencia central*.\n",
        "\n",
        "Repasando, dada una característica de interés (modelada por X v.a.) y un conjunto de observaciones $x = \\{ x_1, x_2 ... \\}$ donde $x_i = X(\\omega_i)$ para algún $\\omega_i \\in \\Omega$, y $N = |x|$:\n",
        "\n",
        "* La **media muestral** (aritmética) o promedio se calcula como:\n",
        "\n",
        "$$ \\bar{x} = \\frac{1}{N} \\sum_i^N x_i $$\n",
        "\n",
        "* La **mediana** se calcula:\n",
        "  1. Ordenar las realizaciones tal que $x_j \\leq x_{j+1}$\n",
        "  2. Si la cantidad de datos $N$ es impar, la mediana es el valor central: $median = x_{\\lfloor N / 2 \\rfloor +1}$\n",
        "  3. Si la cantidad de datos $N$ es par, la mediana es e promedio de los dos valores centrales: $median = \\frac{1}{2} (x_{ N / 2 } + x_{ (N / 2) +1})$\n",
        "\n",
        "* La **moda** son los valores o él valor con mayor frecuencia, es decir, los o él que más se repite.\n"
      ],
      "metadata": {
        "id": "plAEoMmkuGUm"
      }
    },
    {
      "cell_type": "code",
      "source": [
        "df2[salary_col].mean(), df2[salary_col].median()"
      ],
      "metadata": {
        "id": "XdXiEFRuua2z"
      },
      "execution_count": null,
      "outputs": []
    },
    {
      "cell_type": "markdown",
      "source": [
        "## Medidas de dispersión\n",
        "\n",
        "Las medidas de dispersión vistas en el teórico son la desviación estándar, la varianza, y el coeficiente de variación. También permiten representar con un número alguna propiedad de los datos.\n"
      ],
      "metadata": {
        "id": "QAv6e4JNBZ49"
      }
    },
    {
      "cell_type": "markdown",
      "source": [
        "**¿Por qué las dos medidas son tan distintas?**\n",
        "\n",
        "* La media se puede interpretar como el *centro de masa* del histograma. Es decir, si el histograma fuera una figura de madera, el punto de equilibrio donde podemos apoyarlo y no se cae es la media.\n",
        "* La media es muy sensible a valores extremos.\n",
        "* La mediana es más robusta a valores extremos.\n",
        "* Si la distribución de los datos es simétrica, las medidas coinciden. (Luego, si no coinciden es porque la distribución no es simétrica)\n"
      ],
      "metadata": {
        "id": "izQXJSeWvU9M"
      }
    },
    {
      "cell_type": "code",
      "source": [
        "max_salaries = [df2[salary_col].max(), 10**7, 5000000, 4000000, 3000000, 2000000]\n",
        "central_tendency = [\n",
        "    (max_salary, df2[df2[salary_col] < max_salary][salary_col].mean(),\n",
        "     df2[df2[salary_col] < max_salary][salary_col].median())\n",
        "    for max_salary in max_salaries\n",
        "]\n",
        "central_tendency"
      ],
      "metadata": {
        "id": "kTyoOISvviW_"
      },
      "execution_count": null,
      "outputs": []
    },
    {
      "cell_type": "code",
      "source": [
        "central_tendency_max = [\n",
        "    (max_salary, df2[df2[salary_col] < max_salary][salary_col].mean(),\n",
        "     df2[df2[salary_col] < max_salary][salary_col].median())\n",
        "    for max_salary in range(1500000, int(df2[salary_col].max()), 10**7)\n",
        "]\n",
        "central_tendency_max_df = pd.DataFrame(central_tendency_max,\n",
        "                                   columns=['max_salary', 'mean', 'median'])\\\n",
        "  .melt(id_vars='max_salary', var_name='metric')\n",
        "\n",
        "central_tendency_max_df[:3]"
      ],
      "metadata": {
        "id": "cMauuOl9vo2r"
      },
      "execution_count": null,
      "outputs": []
    },
    {
      "cell_type": "code",
      "source": [
        "fig = plt.figure(figsize=(15, 5))\n",
        "seaborn.lineplot(data=central_tendency_max_df, x='max_salary', y='value', hue='metric')\n",
        "plt.ticklabel_format(style='plain', axis='x')\n",
        "seaborn.despine()"
      ],
      "metadata": {
        "id": "4_q7LyjbvsDi"
      },
      "execution_count": null,
      "outputs": []
    },
    {
      "cell_type": "code",
      "source": [
        "## La diferencia no siempre se aprecia en los gráficos\n",
        "fig, axes = plt.subplots(nrows=2, figsize=(16, 10))\n",
        "\n",
        "seaborn.histplot(df[salary_col], bins=100, ax=axes[0], color='gray')\n",
        "axes[0].axvline(df[salary_col].mean(), color='orangered',\n",
        "            linestyle='--', label='Media')\n",
        "axes[0].axvline(df[salary_col].median(), color='indigo',\n",
        "            linestyle='-.', label='Mediana')\n",
        "\n",
        "\n",
        "filtered_df = df[df[salary_col] < 15000000]\n",
        "seaborn.histplot(filtered_df[salary_col], bins=100, ax=axes[1], color='gray')\n",
        "axes[1].axvline(filtered_df[salary_col].mean(), color='orangered',\n",
        "            linestyle='--', label='Media')\n",
        "axes[1].axvline(filtered_df[salary_col].median(), color='indigo',\n",
        "            linestyle='-.', label='Mediana')\n",
        "\n",
        "axes[0].legend()\n",
        "seaborn.despine()"
      ],
      "metadata": {
        "id": "K_fUF8V4vuPc"
      },
      "execution_count": null,
      "outputs": []
    },
    {
      "cell_type": "markdown",
      "source": [
        "¿Qué decir de la moda?"
      ],
      "metadata": {
        "id": "yZbwqrOSvxB_"
      }
    },
    {
      "cell_type": "code",
      "source": [
        "df.profile_gender.mode()"
      ],
      "metadata": {
        "id": "BhxJIBALvxU7"
      },
      "execution_count": null,
      "outputs": []
    },
    {
      "cell_type": "code",
      "source": [
        "df.profile_gender.describe()"
      ],
      "metadata": {
        "id": "bD7mBjrcvzea"
      },
      "execution_count": null,
      "outputs": []
    },
    {
      "cell_type": "code",
      "source": [
        "df.profile_age.describe()"
      ],
      "metadata": {
        "id": "OKB5CQFEv0kR"
      },
      "execution_count": null,
      "outputs": []
    },
    {
      "cell_type": "markdown",
      "source": [
        "## Medidas de dispersión\n",
        "\n",
        "Las medidas de dispersión vistas en el teórico son la desviación estándar, la varianza, y el coeficiente de variación. También permiten representar con un número alguna propiedad de los datos.\n",
        "\n",
        "Por ejemplo, comparemos el salario neto con el salario bruto. A priori, **¿deberíamos ver alguna diferencia?**"
      ],
      "metadata": {
        "id": "iA1E4rXuwQnX"
      }
    },
    {
      "cell_type": "code",
      "source": [
        "df[['salary_monthly_NETO', 'salary_monthly_BRUTO']].describe().round()"
      ],
      "metadata": {
        "id": "9jM2xHVPwSK9"
      },
      "execution_count": null,
      "outputs": []
    },
    {
      "cell_type": "markdown",
      "source": [
        "Claramente, ambas distribuciones están centradas en valores distintos, pero ¿podemos decir algo sobre su dispersión?\n",
        "\n",
        "Cuando se comparan dos características diferentes (que pueden tener magnitudes diferentes) puede no ser conveniente comparar directamente los valores de las desviaciones estándar, sino que podemos usar el coeficiente de variación (desviación estándar dividida la media)."
      ],
      "metadata": {
        "id": "lfHOu2VHwTyl"
      }
    },
    {
      "cell_type": "code",
      "source": [
        "import scipy\n",
        "\n",
        "print(\"Coeficiente de variación salario bruto\",\n",
        "      scipy.stats.variation(df.salary_monthly_BRUTO))\n",
        "print(\"Coeficiente de variación salario neto\",\n",
        "      scipy.stats.variation(df.salary_monthly_NETO.dropna()))"
      ],
      "metadata": {
        "id": "rX11eiwPwVoz"
      },
      "execution_count": null,
      "outputs": []
    },
    {
      "cell_type": "markdown",
      "source": [
        "## Percentiles y gráficos de caja\n",
        "\n",
        "Los gráficos de caja son otra forma de representar la distribución de las realizaciones de una v.a. numérica, de una forma más condensada que un histograma.\n",
        "\n",
        "Son muy útiles para comparar muchas distribuciones, pero sólo cuando son muy distintas entre ellas, ya que oscurecen algunas sutilezas. Otros problema de este tipo de gráficos es que *no todo el mundo recuerda cómo leerlos*.\n",
        "\n",
        "En estadística descriptiva, un gráfico de caja es un método para representar gráficamente grupos de datos numéricos a través de sus cuartiles. Los gráficos de caja también pueden tener líneas que se extienden verticalmente desde las cajas (bigotes) indicando la variabilidad fuera de los cuartiles superior e inferior. Los valores atípicos pueden representarse como puntos individuales.\n",
        "\n",
        "La definición anterior sugiere que, si hay un valor atípico, se representará como un punto en el diagrama de caja, mientras que el resto de los datos de la muestra se agrupará y se mostrará en forma de cajas. Intentemos verlo nosotros mismos.\n",
        "<center>\n",
        "<img src=\"https://miro.medium.com/max/1400/1*2c21SkzJMf3frPXPAR_gZA.png\" height=\"300\" />\n",
        "</center>"
      ],
      "metadata": {
        "id": "H7L8W5oNBeJc"
      }
    },
    {
      "cell_type": "code",
      "source": [
        "plt.figure(figsize=(12, 4))\n",
        "seaborn.boxplot(x=df[df[salary_col]<15000000][salary_col])\n",
        "seaborn.despine()"
      ],
      "metadata": {
        "id": "NLBvFIoDwaqR"
      },
      "execution_count": null,
      "outputs": []
    },
    {
      "cell_type": "code",
      "source": [
        "seaborn.displot(x=df[df.profile_age < 60].profile_age)"
      ],
      "metadata": {
        "id": "WeWziIEjwdgT"
      },
      "execution_count": null,
      "outputs": []
    },
    {
      "cell_type": "code",
      "source": [
        "plt.figure(figsize=(12, 4))\n",
        "seaborn.boxplot(x=df[df.profile_age < 60].profile_age)"
      ],
      "metadata": {
        "id": "2goWVeb_we42"
      },
      "execution_count": null,
      "outputs": []
    },
    {
      "cell_type": "markdown",
      "source": [
        "Por ejemplo, podemos comparar la distribución de los salarios netos con respecto al nivel de estudios alcanzado."
      ],
      "metadata": {
        "id": "YR62ejwrwiXE"
      }
    },
    {
      "cell_type": "code",
      "source": [
        "plt.figure(figsize=(12, 6))\n",
        "seaborn.boxplot(data=df, x=salary_col, y='profile_studies_level',\n",
        "                color='orangered')\n",
        "plt.ticklabel_format(style='plain', axis='x')"
      ],
      "metadata": {
        "id": "QLWkESaFwkRa"
      },
      "execution_count": null,
      "outputs": []
    },
    {
      "cell_type": "code",
      "source": [
        "df['profile_studies_level'].describe()"
      ],
      "metadata": {
        "id": "ICPUoVLTwmCD"
      },
      "execution_count": null,
      "outputs": []
    },
    {
      "cell_type": "markdown",
      "source": [
        "### Boxenplots\n",
        "\n",
        "Los boxplots tienen una gran desventaja: ocultan mucha información en la distribución de las colas. Por ejemplo, para la categoría Posdoctorado, sabemos que el 25% de los valores de sueldo neto es mayor que los ~650000 pesos. Pero no conocemos cómo se distribuyen. Para conjuntos de datos de gran tamaño, el 25% de los datos contiene mucha información.\n",
        "\n",
        "Un gráfico más informativo es el **boxenplot**, que visualiza más percentiles. Otra ventaja es la percepción del mismo debido al peso visual de las cajas: los datos en el rango intercuartílico no parecen muuuucho más importantes que los datos en las colas.\n",
        "\n",
        "Sin embargo, es aún más difícil de leer si buscamos exactitud, ya que los percentiles que definen el límite de cada caja se definen recursivamente y no decrecen linealmente.\n",
        "Tarea: averiguar en que cosisten"
      ],
      "metadata": {
        "id": "GMuTdmQxwrOh"
      }
    },
    {
      "cell_type": "code",
      "source": [
        "plt.figure(figsize=(12, 6))\n",
        "seaborn.boxenplot(data=df, x=salary_col, y='profile_studies_level',\n",
        "                color='orangered')\n",
        "plt.ticklabel_format(style='plain', axis='x')"
      ],
      "metadata": {
        "id": "cepZsjkxwqVD"
      },
      "execution_count": null,
      "outputs": []
    },
    {
      "cell_type": "markdown",
      "source": [
        "## 3.2. Distribuciones de frecuencia"
      ],
      "metadata": {
        "id": "VR2gCQXRrLWf"
      }
    },
    {
      "cell_type": "markdown",
      "source": [
        "## 3.3. Análisis exploratorio de datos (EDA)"
      ],
      "metadata": {
        "id": "4hW7Inw4rNV2"
      }
    },
    {
      "cell_type": "code",
      "source": [],
      "metadata": {
        "id": "tJmOmjIarT1-"
      },
      "execution_count": null,
      "outputs": []
    }
  ],
  "metadata": {
    "kernelspec": {
      "display_name": "Python 3",
      "language": "python",
      "name": "python3"
    },
    "language_info": {
      "codemirror_mode": {
        "name": "ipython",
        "version": 3
      },
      "file_extension": ".py",
      "mimetype": "text/x-python",
      "name": "python",
      "nbconvert_exporter": "python",
      "pygments_lexer": "ipython3",
      "version": "3.10.5"
    },
    "colab": {
      "provenance": []
    }
  },
  "nbformat": 4,
  "nbformat_minor": 0
}