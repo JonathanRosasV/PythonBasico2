{
  "cells": [
    {
      "cell_type": "markdown",
      "metadata": {
        "id": "Z2-FxIVmW5Fn"
      },
      "source": [
        "# Python Básico, segunda parte"
      ]
    },
    {
      "cell_type": "markdown",
      "metadata": {
        "id": "OJ4gGWWeW5Fo"
      },
      "source": [
        "# 👋 Bienvenidos al curso introductorio de Python\n",
        "\n",
        "Este notebook está diseñado para ayudarte a dar tus primeros pasos en el mundo de la programación con Python.  \n",
        "\n",
        "## ✅ Primer paso\n",
        "Ejecuta la siguiente celda para imprimir tu primer mensaje en Python:\n",
        "\n",
        "```python\n",
        "print(\"Hola mundo\")\n",
        "\n",
        "\n",
        "print(\"Hola mundo\")\n",
        "\n",
        "B : new lines\n",
        "\n",
        "DD : drop lines\n",
        "\n",
        "shift: select many lines\n",
        "\n",
        "run : ctr + enter"
      ]
    },
    {
      "cell_type": "markdown",
      "metadata": {
        "id": "fHLR0PfqW5Fo"
      },
      "source": [
        "# Libraries\n",
        "\n",
        "A library is a collection of modules or a single module. Modules are python programs that can be imported in another Python program. Libraries are the tools we will use to make our program.\n",
        "\n",
        "Some special libraries such import $TensorFlow, Keras, Geopandas$ requiere of using Conda Promtp. We back this issue later.\n",
        "\n",
        "\n",
        "\\begin{equation}\n",
        "    u_i\n",
        "\\end{equation}"
      ]
    },
    {
      "cell_type": "code",
      "execution_count": null,
      "metadata": {
        "id": "EbCI-Z7xW5Fo"
      },
      "outputs": [],
      "source": [
        "# libraies t use date base and arrays\n",
        "import pandas as pd\n",
        "import numpy as np"
      ]
    },
    {
      "cell_type": "markdown",
      "metadata": {
        "id": "_TIyDyKgW5Fo"
      },
      "source": [
        "np.DataFrame\n",
        "sb.hexibn (c, y)"
      ]
    },
    {
      "cell_type": "markdown",
      "metadata": {
        "id": "NEWDFcq9W5Fp"
      },
      "source": [
        "### Python Types\n",
        "\n",
        "There are three key python types: int, float, string and boolean."
      ]
    },
    {
      "cell_type": "code",
      "execution_count": null,
      "metadata": {
        "id": "b8ffZHXZW5Fp",
        "outputId": "5cdaed37-8b38-456f-995f-04fad472c195"
      },
      "outputs": [
        {
          "data": {
            "text/plain": [
              "int"
            ]
          },
          "execution_count": 269,
          "metadata": {},
          "output_type": "execute_result"
        }
      ],
      "source": [
        "# Int type\n",
        "edad = 25\n",
        "edad\n",
        "\n",
        "type(edad)"
      ]
    },
    {
      "cell_type": "code",
      "execution_count": null,
      "metadata": {
        "id": "4hvKumFSW5Fp",
        "outputId": "30820253-34e5-495d-d17e-d77b128e3af9"
      },
      "outputs": [
        {
          "data": {
            "text/plain": [
              "float"
            ]
          },
          "execution_count": 270,
          "metadata": {},
          "output_type": "execute_result"
        }
      ],
      "source": [
        "# Float type\n",
        "precio = 19.99\n",
        "type(precio)\n"
      ]
    },
    {
      "cell_type": "code",
      "execution_count": null,
      "metadata": {
        "id": "4CZA7zW7W5Fp",
        "outputId": "7eb1f84a-823b-46ce-b26b-5cee055bc56c"
      },
      "outputs": [
        {
          "data": {
            "text/plain": [
              "complex"
            ]
          },
          "execution_count": 14,
          "metadata": {},
          "output_type": "execute_result"
        }
      ],
      "source": [
        "numero_complejo = 3 + 4j  # Parte real + parte imaginaria\n",
        "numero_complejo\n",
        "type(numero_complejo)"
      ]
    },
    {
      "cell_type": "code",
      "execution_count": null,
      "metadata": {
        "id": "J28ATfZSW5Fp",
        "outputId": "d8970333-9ce4-4482-9c52-dc3d34f7773a"
      },
      "outputs": [
        {
          "data": {
            "text/plain": [
              "str"
            ]
          },
          "execution_count": 271,
          "metadata": {},
          "output_type": "execute_result"
        }
      ],
      "source": [
        "#String type\n",
        "mensaje = \"Hola, mundo!\"\n",
        "\n",
        "type(mensaje)"
      ]
    },
    {
      "cell_type": "code",
      "execution_count": null,
      "metadata": {
        "id": "el1hdbKcW5Fp",
        "outputId": "dac1b2a9-c3ca-4a92-a1c5-28717f77c559"
      },
      "outputs": [
        {
          "data": {
            "text/plain": [
              "'H'"
            ]
          },
          "execution_count": 272,
          "metadata": {},
          "output_type": "execute_result"
        }
      ],
      "source": [
        "mensaje[0]"
      ]
    },
    {
      "cell_type": "code",
      "execution_count": null,
      "metadata": {
        "scrolled": true,
        "id": "sQR21Yt4W5Fq",
        "outputId": "49aca1d0-1173-4f65-a96b-1e0d687520df"
      },
      "outputs": [
        {
          "name": "stdout",
          "output_type": "stream",
          "text": [
            "H ; Hola, \n"
          ]
        }
      ],
      "source": [
        "print(mensaje[0], \";\", mensaje[0:6])"
      ]
    },
    {
      "cell_type": "code",
      "execution_count": null,
      "metadata": {
        "id": "-3JFO5eRW5Fq",
        "outputId": "84277004-9427-493f-a744-a31ff9b62fa9"
      },
      "outputs": [
        {
          "name": "stdout",
          "output_type": "stream",
          "text": [
            "<class 'bool'> \n",
            " <class 'bool'>\n"
          ]
        }
      ],
      "source": [
        "# Boolean variables\n",
        "a = True\n",
        "b = False\n",
        "\n",
        "print(type(a), '\\n', type(b))\n",
        "\n"
      ]
    },
    {
      "cell_type": "code",
      "execution_count": null,
      "metadata": {
        "id": "PHC2rO73W5Fq",
        "outputId": "a2e4d5ac-ed99-4bdd-b161-a43e3f1d91fc"
      },
      "outputs": [
        {
          "data": {
            "text/plain": [
              "True"
            ]
          },
          "execution_count": 275,
          "metadata": {},
          "output_type": "execute_result"
        }
      ],
      "source": [
        "\"a\" == \"a\""
      ]
    },
    {
      "cell_type": "code",
      "execution_count": null,
      "metadata": {
        "id": "T-sEZzTOW5Fq",
        "outputId": "c9d7e9b4-d097-4761-80ca-8a7cb37431b6"
      },
      "outputs": [
        {
          "name": "stdout",
          "output_type": "stream",
          "text": [
            "True\n",
            "False\n"
          ]
        }
      ],
      "source": [
        "print(\"a\" != \"b\")  # True, because \"a\" and \"b\" are different\n",
        "print(\"a\" != \"a\")  # False, because \"a\" and \"a\" are the same\n"
      ]
    },
    {
      "cell_type": "code",
      "execution_count": null,
      "metadata": {
        "id": "QnPEnpkMW5Fq",
        "outputId": "469b9576-b6d7-4d4a-e8f0-fcb1e1ddb85d"
      },
      "outputs": [
        {
          "name": "stdout",
          "output_type": "stream",
          "text": [
            "True \n",
            " True\n"
          ]
        }
      ],
      "source": [
        "z1 = (10 < 20)\n",
        "\n",
        "z2 = (1==1)\n",
        "\n",
        "#z1\n",
        "\n",
        "print(z2,'\\n', z1)\n",
        "#int(z1)"
      ]
    },
    {
      "cell_type": "markdown",
      "metadata": {
        "id": "TdBkIvgXW5Fq"
      },
      "source": [
        "## 3.0 Tuple\n",
        "\n",
        "#### It is an ordered and immutable Python object"
      ]
    },
    {
      "cell_type": "code",
      "execution_count": null,
      "metadata": {
        "id": "Q3g6GmtUW5Fq",
        "outputId": "9400e08b-ba06-47a8-8938-04e561b477f4"
      },
      "outputs": [
        {
          "data": {
            "text/plain": [
              "(10, 20, 30)"
            ]
          },
          "execution_count": 284,
          "metadata": {},
          "output_type": "execute_result"
        }
      ],
      "source": [
        "coordenadas = (10, 20, 30)\n",
        "#coordenadas[0] = 50  #  Error: 'tuple' object does not support item assignment\n",
        "coordenadas"
      ]
    },
    {
      "cell_type": "code",
      "execution_count": null,
      "metadata": {
        "scrolled": true,
        "id": "svOw5KP5W5Fq",
        "outputId": "d5509cd8-f686-450a-82c7-80c83f512a31"
      },
      "outputs": [
        {
          "name": "stdout",
          "output_type": "stream",
          "text": [
            "<class 'tuple'>\n",
            "Suma: 83 \n",
            " Minimo: 1 \n",
            " Maximo: 20\n"
          ]
        }
      ],
      "source": [
        "T1 = (1,4,8,10,20,15,4,5,8,8)\n",
        "\n",
        "print(type(T1))\n",
        "\n",
        "\n",
        "print(\"Suma:\", sum(T1),'\\n', \"Minimo:\", min(T1), '\\n', \"Maximo:\", max(T1))"
      ]
    },
    {
      "cell_type": "code",
      "execution_count": null,
      "metadata": {
        "id": "dS3MCBuKW5Fq",
        "outputId": "029f446c-b339-4e12-dd60-f4105fee2767"
      },
      "outputs": [
        {
          "name": "stdout",
          "output_type": "stream",
          "text": [
            "Sum: 83 \n",
            " Minimum: 1 \n",
            " Maximum: 20 \n",
            " Average: 8.3\n"
          ]
        }
      ],
      "source": [
        "print(\"Sum:\", sum(T1), '\\n',\n",
        "      \"Minimum:\", min(T1), '\\n',\n",
        "      \"Maximum:\", max(T1), '\\n',\n",
        "      \"Average:\", sum(T1) / len(T1))\n"
      ]
    },
    {
      "cell_type": "code",
      "execution_count": null,
      "metadata": {
        "id": "AcbQwtkbW5Fq",
        "outputId": "3dbfcc5d-dafa-4cdc-c6e8-18e09a24e48a"
      },
      "outputs": [
        {
          "data": {
            "text/plain": [
              "20"
            ]
          },
          "execution_count": 168,
          "metadata": {},
          "output_type": "execute_result"
        }
      ],
      "source": [
        "T1[4]"
      ]
    },
    {
      "cell_type": "code",
      "execution_count": null,
      "metadata": {
        "id": "NsNRr76NW5Fq",
        "outputId": "7a23d2b5-25d4-4888-e8d0-3b8d1ced86c8"
      },
      "outputs": [
        {
          "data": {
            "text/plain": [
              "(4, 8, 10, 20, 15, 4, 5, 8)"
            ]
          },
          "execution_count": 170,
          "metadata": {},
          "output_type": "execute_result"
        }
      ],
      "source": [
        "T1[1:9] # let us for selecting from 0 to before 4 [0-3]"
      ]
    },
    {
      "cell_type": "markdown",
      "metadata": {
        "id": "QIoyTS6mW5Fr"
      },
      "source": [
        "# 4.0 List\n",
        "\n",
        "#### It is an ordered and mutable Python container."
      ]
    },
    {
      "cell_type": "code",
      "execution_count": null,
      "metadata": {
        "id": "J8tsIV9JW5Fr",
        "outputId": "5e03f6a8-1fdd-427d-83f9-c770737334a5"
      },
      "outputs": [
        {
          "data": {
            "text/plain": [
              "list"
            ]
          },
          "execution_count": 35,
          "metadata": {},
          "output_type": "execute_result"
        }
      ],
      "source": [
        "# Empty List\n",
        "\n",
        "L1 = []\n",
        "\n",
        "type(L1)"
      ]
    },
    {
      "cell_type": "code",
      "execution_count": null,
      "metadata": {
        "id": "VEHIiwfQW5Fr",
        "outputId": "b43cac5e-7d14-4399-ff48-eded24ba1789"
      },
      "outputs": [
        {
          "name": "stdout",
          "output_type": "stream",
          "text": [
            "[3, 4, 5, 'ATE', 'BARRANCO', 'BREÑA', 'CALLAO', 'CARABAYLLO']\n"
          ]
        },
        {
          "data": {
            "text/plain": [
              "[3, 4]"
            ]
          },
          "execution_count": 286,
          "metadata": {},
          "output_type": "execute_result"
        }
      ],
      "source": [
        "a = [3,4,5,\"ATE\", 'BARRANCO','BREÑA', 'CALLAO', 'CARABAYLLO']\n",
        "type(a)\n",
        "print(a)\n",
        "\n",
        "a[0:2]"
      ]
    },
    {
      "cell_type": "code",
      "execution_count": null,
      "metadata": {
        "id": "gSLnVk57W5Fr",
        "outputId": "482a94d6-97ce-454d-8374-96220bb2eeeb"
      },
      "outputs": [
        {
          "name": "stdout",
          "output_type": "stream",
          "text": [
            "[3, 4, 5, 'ATE', 'BARRANCO', 'BREÑA', 'CALLAO', 'CARABAYLLO', ['COMAS']]\n"
          ]
        }
      ],
      "source": [
        "#a.append([\"San Miguel\", \"La marina\"])\n",
        "a.append([\"COMAS\"])\n",
        "\n",
        "print(a)"
      ]
    },
    {
      "cell_type": "markdown",
      "metadata": {
        "id": "XCW-QAc-W5Fr"
      },
      "source": [
        "### Indexing\n",
        "Selecting elements starting from 0. I know it sounds crazy.\n",
        "Selecting takes one position before the last requested column"
      ]
    },
    {
      "cell_type": "code",
      "execution_count": null,
      "metadata": {
        "id": "BWWFJCclW5Fr",
        "outputId": "5fddba75-43b9-44dc-9197-33b02701a4b6"
      },
      "outputs": [
        {
          "name": "stdout",
          "output_type": "stream",
          "text": [
            "first element: 3\n",
            "[4, 5, 'ATE']\n",
            "first 5 element: [3, 4, 5, 'ATE', 'BARRANCO']\n"
          ]
        }
      ],
      "source": [
        "print('first element:',a[0])\n",
        "print(a[1:4]) # takes element position 1° to 3°, NOT 4°\n",
        "print('first 5 element:',a[0:5]) # 0,1,2,3,4"
      ]
    },
    {
      "cell_type": "code",
      "execution_count": null,
      "metadata": {
        "id": "OgTX9D_FW5Fr"
      },
      "outputs": [],
      "source": [
        "# use next line to complete list\n",
        "b = ['ATE', 'BARRANCO','BREÑA', 'CALLAO', 'CARABAYLLO','CHACLACAYO','CHORRILLOS','CIENEGUILLA'\n",
        "     ,'COMAS','EL_AGUSTINO','INDEPENDENCIA']"
      ]
    },
    {
      "cell_type": "code",
      "execution_count": null,
      "metadata": {
        "id": "iydlgW8mW5Fr",
        "outputId": "ebd0abd7-7928-499b-8cf3-ad598b350193"
      },
      "outputs": [
        {
          "name": "stdout",
          "output_type": "stream",
          "text": [
            "INDEPENDENCIA\n"
          ]
        }
      ],
      "source": [
        "# last elements\n",
        "print(b[-1])"
      ]
    },
    {
      "cell_type": "code",
      "execution_count": null,
      "metadata": {
        "id": "ZUC--jazW5Fr",
        "outputId": "5ce7bc4d-8531-4af1-be83-e2a7f0500867"
      },
      "outputs": [
        {
          "name": "stdout",
          "output_type": "stream",
          "text": [
            "['COMAS', 'EL_AGUSTINO', 'INDEPENDENCIA']\n"
          ]
        }
      ],
      "source": [
        "print(b[-3:]) #end"
      ]
    },
    {
      "cell_type": "code",
      "execution_count": null,
      "metadata": {
        "id": "ceG-TUyqW5Fr",
        "outputId": "73388bdf-ac8c-42f7-aca0-805840ace7d0"
      },
      "outputs": [
        {
          "data": {
            "text/plain": [
              "11"
            ]
          },
          "execution_count": 55,
          "metadata": {},
          "output_type": "execute_result"
        }
      ],
      "source": [
        "len(b) # Amount"
      ]
    },
    {
      "cell_type": "code",
      "execution_count": null,
      "metadata": {
        "id": "qmiJsu9GW5Fr",
        "outputId": "10a60af7-45f6-464c-a490-d14d84d835a5"
      },
      "outputs": [
        {
          "name": "stdout",
          "output_type": "stream",
          "text": [
            "['ATE', 'BARRANCO', 'BREÑA', 'CALLAO', 'CARABAYLLO', 'CHACLACAYO', 'CHORRILLOS', 'CIENEGUILLA', 'COMAS', 'EL_AGUSTINO', 'INDEPENDENCIA', 10, 20, 30, 10, 20, 30]\n"
          ]
        },
        {
          "data": {
            "text/plain": [
              "17"
            ]
          },
          "execution_count": 288,
          "metadata": {},
          "output_type": "execute_result"
        }
      ],
      "source": [
        "# add elements to list\n",
        "num = [10,20,30]\n",
        "b.extend(num)\n",
        "print(b)\n",
        "len(b)"
      ]
    },
    {
      "cell_type": "markdown",
      "metadata": {
        "id": "0TSlln9-W5Fr"
      },
      "source": [
        "# Dictionaries - THE WITCH\n",
        "It is a unordered and mutable Python container."
      ]
    },
    {
      "cell_type": "code",
      "execution_count": null,
      "metadata": {
        "id": "CjQkY2CRW5Fr",
        "outputId": "c10ecea2-4592-4985-8f0f-063f9f472d6f"
      },
      "outputs": [
        {
          "data": {
            "text/plain": [
              "dict_keys(['Berlin', 'Hamburg', 'Munich', 'Cologne', 'Frankfurt'])"
            ]
          },
          "execution_count": 57,
          "metadata": {},
          "output_type": "execute_result"
        }
      ],
      "source": [
        "# dictionary containing the population of the 5 largest german cities\n",
        "population = {'Berlin': 3748148, 'Hamburg': 1822445, 'Munich': 1471508, 'Cologne': 1085664, 'Frankfurt': 753056 }\n",
        "population.keys()\n",
        "\n",
        "\n",
        "# enaho.rename( column, {var : ingreso_hora})"
      ]
    },
    {
      "cell_type": "code",
      "execution_count": null,
      "metadata": {
        "id": "U4hu5XnnW5Fr",
        "outputId": "5b6f738f-0f45-4646-af9c-eb86fa3c5e92"
      },
      "outputs": [
        {
          "data": {
            "text/plain": [
              "1822445"
            ]
          },
          "execution_count": 14,
          "metadata": {},
          "output_type": "execute_result"
        }
      ],
      "source": [
        "population['Hamburg']"
      ]
    },
    {
      "cell_type": "code",
      "execution_count": null,
      "metadata": {
        "id": "x-2GoYzWW5Fs"
      },
      "outputs": [],
      "source": [
        "population_18_19 = {'Berlin': [3748148, 38000, \"alex\"], 'Hamburg': [1822445, 1922445],\n",
        "                    'Munich': 1471508, 'Cologne': 1085664, 'Frankfurt': 753056 , 'lima': 1100000}"
      ]
    },
    {
      "cell_type": "code",
      "execution_count": null,
      "metadata": {
        "id": "CbrtGYt_W5Fs",
        "outputId": "5742c104-40c9-4918-a5cb-4879e190095d"
      },
      "outputs": [
        {
          "data": {
            "text/plain": [
              "[3748148, 38000, 'alex']"
            ]
          },
          "execution_count": 59,
          "metadata": {},
          "output_type": "execute_result"
        }
      ],
      "source": [
        "population_18_19['Berlin']"
      ]
    },
    {
      "cell_type": "code",
      "execution_count": null,
      "metadata": {
        "id": "TMDYV91MW5Fs",
        "outputId": "d91785c6-a244-40d3-de73-30c7e929d0e3"
      },
      "outputs": [
        {
          "data": {
            "text/plain": [
              "7795157"
            ]
          },
          "execution_count": 60,
          "metadata": {},
          "output_type": "execute_result"
        }
      ],
      "source": [
        "pop_germnay = population_18_19[\"Berlin\"][0] + population_18_19[\"Munich\"] + population_18_19[\"Hamburg\"][0]+ population_18_19[\"Frankfurt\"]\n",
        "pop_germnay"
      ]
    },
    {
      "cell_type": "markdown",
      "metadata": {
        "id": "vk9zqGFLW5Fv"
      },
      "source": [
        "# Array (vectors and matrix)"
      ]
    },
    {
      "cell_type": "markdown",
      "metadata": {
        "id": "daHhIsIYW5Fv"
      },
      "source": [
        "### [Key Methods](https://cs231n.github.io/python-numpy-tutorial/)\n",
        "\n",
        "| Method | Description |\n",
        "| -------- | ------------ |\n",
        "|dtype  | type of elements in the array|\n",
        "|ndim   |  dimension of array|\n",
        "|shape  |  tuple with the dimmension of the array|\n",
        "|size |  total number of elements in the array|"
      ]
    },
    {
      "cell_type": "code",
      "execution_count": null,
      "metadata": {
        "id": "zKwF5LRAW5Fv"
      },
      "outputs": [],
      "source": [
        "import numpy as np"
      ]
    },
    {
      "cell_type": "code",
      "execution_count": null,
      "metadata": {
        "id": "KLSeTlmwW5Fw",
        "outputId": "852241a6-2178-4f6e-f9c7-5e8b5eb0e8fd"
      },
      "outputs": [
        {
          "data": {
            "text/plain": [
              "numpy.ndarray"
            ]
          },
          "execution_count": 63,
          "metadata": {},
          "output_type": "execute_result"
        }
      ],
      "source": [
        "a = np.array( [1, 2, 3, 4, 5] )\n",
        "a\n",
        "type(a)"
      ]
    },
    {
      "cell_type": "code",
      "execution_count": null,
      "metadata": {
        "id": "rje1z9e4W5Fw",
        "outputId": "28dbb206-89b6-46ff-8388-27ea0ad599c3"
      },
      "outputs": [
        {
          "data": {
            "text/plain": [
              "array([3, 4, 5, 6, 6])"
            ]
          },
          "execution_count": 71,
          "metadata": {},
          "output_type": "execute_result"
        }
      ],
      "source": [
        "c1 = np.array([3,4,5,6,6])\n",
        "c1"
      ]
    },
    {
      "cell_type": "code",
      "execution_count": null,
      "metadata": {
        "id": "che1yOn-W5Fw",
        "outputId": "72aa8702-926b-467d-9ccf-81b7137dea13"
      },
      "outputs": [
        {
          "data": {
            "text/plain": [
              "5"
            ]
          },
          "execution_count": 295,
          "metadata": {},
          "output_type": "execute_result"
        }
      ],
      "source": [
        "a = np.array([1,2,3,4,5])\n",
        "#a = [1,2,3,4,5]\n",
        "#a.size\n",
        "len(a)"
      ]
    },
    {
      "cell_type": "code",
      "execution_count": null,
      "metadata": {
        "id": "IRkVpgjdW5Fw",
        "outputId": "1f9a9052-ee82-40a8-822e-f4d00f55aaf5"
      },
      "outputs": [
        {
          "name": "stdout",
          "output_type": "stream",
          "text": [
            "5\n",
            "(5,)\n",
            "1\n"
          ]
        },
        {
          "data": {
            "text/plain": [
              "5"
            ]
          },
          "execution_count": 296,
          "metadata": {},
          "output_type": "execute_result"
        }
      ],
      "source": [
        "print(a.size)\n",
        "print(a.shape)\n",
        "print(a.ndim)\n",
        "\n",
        "len(a)"
      ]
    },
    {
      "cell_type": "code",
      "execution_count": null,
      "metadata": {
        "id": "NyW_5jNiW5Fw",
        "outputId": "09ad1296-c262-4480-93c4-ac3e2a69a93c"
      },
      "outputs": [
        {
          "name": "stdout",
          "output_type": "stream",
          "text": [
            "[[3 4 2]\n",
            " [1 2 6]]\n",
            "n° elements: 6 \n",
            " rows and columns: (2, 3) \n",
            " n° dimension: 2\n"
          ]
        }
      ],
      "source": [
        "# 2D array\n",
        "M = np.array( [ [3, 4, 2], [1, 2, 6] ] )\n",
        "print(M)\n",
        "\n",
        "M1 = np.nan\n",
        "M1\n",
        "print(\"n° elements:\", M.size, '\\n', \"rows and columns:\", M.shape, '\\n', \"n° dimension:\", M.ndim)"
      ]
    },
    {
      "cell_type": "markdown",
      "metadata": {
        "id": "t1uHa-INW5Fw"
      },
      "source": [
        "### ***[Array Creation Routines](https://numpy.org/doc/stable/reference/routines.array-creation.html)***\n",
        "\n",
        "\n",
        "|Function|Return|\n",
        "| --- | --- |\n",
        "|arange( )|array of sequence|\n",
        "|eye( )|diagonal array|\n",
        "|ones( )|array of ones|\n",
        "|zeros( )|array of zeros|"
      ]
    },
    {
      "cell_type": "code",
      "execution_count": null,
      "metadata": {
        "id": "-GM7sL4FW5Fw",
        "outputId": "3b9d204c-5183-44be-a1e7-e7d34667428c"
      },
      "outputs": [
        {
          "name": "stdout",
          "output_type": "stream",
          "text": [
            "[ 1  6 11]\n"
          ]
        },
        {
          "data": {
            "text/plain": [
              "numpy.ndarray"
            ]
          },
          "execution_count": 297,
          "metadata": {},
          "output_type": "execute_result"
        }
      ],
      "source": [
        "peru = np.arange(start = 1,stop = 13,step = 5)\n",
        "print(peru)\n",
        "type(peru)"
      ]
    },
    {
      "cell_type": "code",
      "execution_count": null,
      "metadata": {
        "id": "Y_9Wb0ESW5Fw",
        "outputId": "42299f61-5096-4c52-f14b-4d972a754063"
      },
      "outputs": [
        {
          "data": {
            "text/plain": [
              "array([ 1,  2,  3,  4,  5,  6,  7,  8,  9, 10])"
            ]
          },
          "execution_count": 298,
          "metadata": {},
          "output_type": "execute_result"
        }
      ],
      "source": [
        "y = np.arange(1,11)\n",
        "y"
      ]
    },
    {
      "cell_type": "code",
      "execution_count": null,
      "metadata": {
        "id": "eBgvZ0HjW5Fw",
        "outputId": "6ed25e0a-2270-4672-884b-80ad40b6d58f"
      },
      "outputs": [
        {
          "name": "stdout",
          "output_type": "stream",
          "text": [
            "[ 0  5 10 15]\n",
            "[ 0  5 10]\n"
          ]
        }
      ],
      "source": [
        "y = np.arange( 0, 20, 5 )\n",
        "print(y)\n",
        "print(y[0:3])"
      ]
    },
    {
      "cell_type": "code",
      "execution_count": null,
      "metadata": {
        "id": "V-eLt9WeW5Fw",
        "outputId": "1468806b-2c56-4db2-dcef-026cde9710e7"
      },
      "outputs": [
        {
          "data": {
            "text/plain": [
              "array([1, 2, 3, 4, 5, 6, 7, 8, 9])"
            ]
          },
          "execution_count": 82,
          "metadata": {},
          "output_type": "execute_result"
        }
      ],
      "source": [
        "y1 = np.arange( 1, 10 ) # one step\n",
        "y1"
      ]
    },
    {
      "cell_type": "code",
      "execution_count": null,
      "metadata": {
        "id": "plS3wP86W5Fw",
        "outputId": "e8396428-8faa-4f97-b020-b1120731125b"
      },
      "outputs": [
        {
          "name": "stdout",
          "output_type": "stream",
          "text": [
            "[1. 1. 1. 1. 1. 1. 1. 1. 1. 1.] \n",
            "\n",
            "[[1. 1. 1. 1. 1. 1. 1. 1. 1. 1.]\n",
            " [1. 1. 1. 1. 1. 1. 1. 1. 1. 1.]\n",
            " [1. 1. 1. 1. 1. 1. 1. 1. 1. 1.]\n",
            " [1. 1. 1. 1. 1. 1. 1. 1. 1. 1.]\n",
            " [1. 1. 1. 1. 1. 1. 1. 1. 1. 1.]\n",
            " [1. 1. 1. 1. 1. 1. 1. 1. 1. 1.]\n",
            " [1. 1. 1. 1. 1. 1. 1. 1. 1. 1.]\n",
            " [1. 1. 1. 1. 1. 1. 1. 1. 1. 1.]\n",
            " [1. 1. 1. 1. 1. 1. 1. 1. 1. 1.]\n",
            " [1. 1. 1. 1. 1. 1. 1. 1. 1. 1.]]\n"
          ]
        }
      ],
      "source": [
        "a4 = np.ones(10)\n",
        "print(a4, '\\n')\n",
        "a5 = np.ones((10,10))\n",
        "print(a5)"
      ]
    },
    {
      "cell_type": "code",
      "execution_count": null,
      "metadata": {
        "scrolled": true,
        "id": "2v9nsbiXW5Fx",
        "outputId": "21ae0624-8ac8-48de-8333-dc78f991e722"
      },
      "outputs": [
        {
          "name": "stdout",
          "output_type": "stream",
          "text": [
            "[0. 0. 0. 0. 0.] \n",
            "\n",
            "[[0. 0. 0. 0. 0. 0. 0. 0. 0. 0.]\n",
            " [0. 0. 0. 0. 0. 0. 0. 0. 0. 0.]\n",
            " [0. 0. 0. 0. 0. 0. 0. 0. 0. 0.]\n",
            " [0. 0. 0. 0. 0. 0. 0. 0. 0. 0.]\n",
            " [0. 0. 0. 0. 0. 0. 0. 0. 0. 0.]\n",
            " [0. 0. 0. 0. 0. 0. 0. 0. 0. 0.]\n",
            " [0. 0. 0. 0. 0. 0. 0. 0. 0. 0.]\n",
            " [0. 0. 0. 0. 0. 0. 0. 0. 0. 0.]\n",
            " [0. 0. 0. 0. 0. 0. 0. 0. 0. 0.]\n",
            " [0. 0. 0. 0. 0. 0. 0. 0. 0. 0.]]\n"
          ]
        }
      ],
      "source": [
        "a6 = np.zeros(5)\n",
        "print(a6,'\\n')\n",
        "a7 = np.zeros((10,10))\n",
        "print(a7)"
      ]
    },
    {
      "cell_type": "code",
      "execution_count": null,
      "metadata": {
        "id": "1r6AlBJ6W5Fx",
        "outputId": "716ac8fb-a10f-4c41-c473-2614930f7d8a"
      },
      "outputs": [
        {
          "data": {
            "text/plain": [
              "array([[  0,   1,   2,   3,   4,   5,   6,   7,   8,   9],\n",
              "       [ 10,  11,  12,  13,  14,  15,  16,  17,  18,  19],\n",
              "       [ 30,  31,  32,  33,  34,  35,  36,  37,  38,  39],\n",
              "       [-20, -19, -18, -17, -16, -15, -14, -13, -12, -11],\n",
              "       [  2,   4,   6,   8,  10,  12,  14,  16,  18,  20]])"
            ]
          },
          "execution_count": 85,
          "metadata": {},
          "output_type": "execute_result"
        }
      ],
      "source": [
        "a8 = np.array([np.arange(0,10), np.arange(10,20), np.arange(30,40), np.arange(-20,-10), np.arange(2,21,2)])\n",
        "a8"
      ]
    },
    {
      "cell_type": "code",
      "execution_count": null,
      "metadata": {
        "id": "Rh2mT4_FW5Fx",
        "outputId": "1c2e6d4e-3efc-465d-d89e-c0c3b1d6fd9a"
      },
      "outputs": [
        {
          "data": {
            "text/plain": [
              "array([[ 30,  31,  32,  33,  34,  35,  36,  37,  38,  39],\n",
              "       [-20, -19, -18, -17, -16, -15, -14, -13, -12, -11],\n",
              "       [  2,   4,   6,   8,  10,  12,  14,  16,  18,  20]])"
            ]
          },
          "execution_count": 301,
          "metadata": {},
          "output_type": "execute_result"
        }
      ],
      "source": [
        "a8[2:5,:]  # rows selection\n",
        "#a8[2:5]  # rows selection"
      ]
    },
    {
      "cell_type": "code",
      "execution_count": null,
      "metadata": {
        "id": "XMNlFxtKW5Fx",
        "outputId": "94bc94e1-c7c9-4689-85d3-91567fa4c0da"
      },
      "outputs": [
        {
          "data": {
            "text/plain": [
              "array([[  0,   1,   2,   3,   4,   5],\n",
              "       [ 10,  11,  12,  13,  14,  15],\n",
              "       [ 30,  31,  32,  33,  34,  35],\n",
              "       [-20, -19, -18, -17, -16, -15],\n",
              "       [  2,   4,   6,   8,  10,  12]])"
            ]
          },
          "execution_count": 31,
          "metadata": {},
          "output_type": "execute_result"
        }
      ],
      "source": [
        "a8[:,0:6]  # columns selecrtion"
      ]
    },
    {
      "cell_type": "markdown",
      "metadata": {
        "id": "79cBMBNLW5Fx"
      },
      "source": [
        "### ***[Array Manipulation](https://numpy.org/doc/stable/reference/routines.array-manipulation.html)***"
      ]
    },
    {
      "cell_type": "code",
      "execution_count": null,
      "metadata": {
        "id": "wEv9EPewW5Fx",
        "outputId": "3687899d-0532-4243-99b5-325aab3cb558"
      },
      "outputs": [
        {
          "name": "stdout",
          "output_type": "stream",
          "text": [
            "[ 0  1  2  3  4  5  6  7  8  9 10 11 12 13 14 15 16 17 18 19 20 21 22 23]\n"
          ]
        }
      ],
      "source": [
        "# Reshape\n",
        "\n",
        "w = np.arange(0,24)\n",
        "print( w )"
      ]
    },
    {
      "cell_type": "code",
      "execution_count": null,
      "metadata": {
        "id": "HYc0w5zzW5Fx",
        "outputId": "3a49f2d1-bc0a-40bf-dfa0-6eef58c7e8e4"
      },
      "outputs": [
        {
          "name": "stdout",
          "output_type": "stream",
          "text": [
            "[[ 0  1  2  3  4  5]\n",
            " [ 6  7  8  9 10 11]\n",
            " [12 13 14 15 16 17]\n",
            " [18 19 20 21 22 23]]\n"
          ]
        }
      ],
      "source": [
        "print(w.reshape(4,6))"
      ]
    },
    {
      "cell_type": "code",
      "execution_count": null,
      "metadata": {
        "id": "MlSvzskCW5Fx",
        "outputId": "d20d848f-e57d-4305-dc6b-20624d20cc0e"
      },
      "outputs": [
        {
          "name": "stdout",
          "output_type": "stream",
          "text": [
            "[[ 0]\n",
            " [ 1]\n",
            " [ 2]\n",
            " [ 3]\n",
            " [ 4]\n",
            " [ 5]\n",
            " [ 6]\n",
            " [ 7]\n",
            " [ 8]\n",
            " [ 9]\n",
            " [10]\n",
            " [11]\n",
            " [12]\n",
            " [13]\n",
            " [14]\n",
            " [15]\n",
            " [16]\n",
            " [17]\n",
            " [18]\n",
            " [19]\n",
            " [20]\n",
            " [21]\n",
            " [22]\n",
            " [23]]\n"
          ]
        }
      ],
      "source": [
        "print(w.reshape(24,1))"
      ]
    },
    {
      "cell_type": "code",
      "execution_count": null,
      "metadata": {
        "id": "VAvbT8D6W5Fx",
        "outputId": "382cba5f-719b-47fb-c938-e5ccde6a9388"
      },
      "outputs": [
        {
          "name": "stdout",
          "output_type": "stream",
          "text": [
            "[[ 0  1  2  3  4  5  6  7  8  9 10 11]\n",
            " [12 13 14 15 16 17 18 19 20 21 22 23]]\n"
          ]
        }
      ],
      "source": [
        "print(w.reshape(2,12))"
      ]
    },
    {
      "cell_type": "code",
      "execution_count": null,
      "metadata": {
        "id": "ucQdGhjbW5Fx",
        "outputId": "90c518b8-c547-4145-ba41-b13d8db4d10d"
      },
      "outputs": [
        {
          "name": "stdout",
          "output_type": "stream",
          "text": [
            "[[0. 0.]\n",
            " [0. 0.]\n",
            " [0. 0.]\n",
            " [0. 0.]\n",
            " [0. 0.]\n",
            " [0. 0.]\n",
            " [0. 0.]\n",
            " [0. 0.]] \n",
            " \n",
            " [[1. 1. 1. 1.]\n",
            " [1. 1. 1. 1.]\n",
            " [1. 1. 1. 1.]\n",
            " [1. 1. 1. 1.]\n",
            " [1. 1. 1. 1.]\n",
            " [1. 1. 1. 1.]\n",
            " [1. 1. 1. 1.]\n",
            " [1. 1. 1. 1.]]\n"
          ]
        }
      ],
      "source": [
        "M1 = np.zeros( (8, 2) )\n",
        "M2 = np.ones( (8, 4) )\n",
        "print(M1,\"\\n\",\"\\n\", M2)\n"
      ]
    },
    {
      "cell_type": "code",
      "execution_count": null,
      "metadata": {
        "scrolled": true,
        "id": "LERvv7HMW5Fx",
        "outputId": "8144dfca-ff0e-415a-cf9a-5bdbdfb77b10"
      },
      "outputs": [
        {
          "data": {
            "text/plain": [
              "array([[0., 0., 1., 1., 1., 1.],\n",
              "       [0., 0., 1., 1., 1., 1.],\n",
              "       [0., 0., 1., 1., 1., 1.],\n",
              "       [0., 0., 1., 1., 1., 1.],\n",
              "       [0., 0., 1., 1., 1., 1.],\n",
              "       [0., 0., 1., 1., 1., 1.],\n",
              "       [0., 0., 1., 1., 1., 1.],\n",
              "       [0., 0., 1., 1., 1., 1.]])"
            ]
          },
          "execution_count": 95,
          "metadata": {},
          "output_type": "execute_result"
        }
      ],
      "source": [
        "M3 = np.hstack((M1,M2))  # add columns in horizontal way\n",
        "M3"
      ]
    },
    {
      "cell_type": "markdown",
      "metadata": {
        "id": "dyZjRkzaW5Fx"
      },
      "source": [
        "## Axis\n",
        "\n",
        "### axis = 0 : vertical operation\n",
        "### axis = 1 : horizontal operation"
      ]
    },
    {
      "cell_type": "code",
      "execution_count": null,
      "metadata": {
        "id": "TYduNq1xW5Fx",
        "outputId": "086d7cb5-1fdc-4c0b-a788-c659318ad9c8"
      },
      "outputs": [
        {
          "data": {
            "text/plain": [
              "array([[0., 0., 1., 1., 1., 1.],\n",
              "       [0., 0., 1., 1., 1., 1.],\n",
              "       [0., 0., 1., 1., 1., 1.],\n",
              "       [0., 0., 1., 1., 1., 1.],\n",
              "       [0., 0., 1., 1., 1., 1.],\n",
              "       [0., 0., 1., 1., 1., 1.],\n",
              "       [0., 0., 1., 1., 1., 1.],\n",
              "       [0., 0., 1., 1., 1., 1.]])"
            ]
          },
          "execution_count": 102,
          "metadata": {},
          "output_type": "execute_result"
        }
      ],
      "source": [
        "con1 = np.concatenate((M1,M2), axis = 1) # add more columns. This is a horizontal operation\n",
        "con1"
      ]
    },
    {
      "cell_type": "code",
      "execution_count": null,
      "metadata": {
        "id": "1cBLr7jTW5Fy",
        "outputId": "f920a346-ea61-40d7-deda-b1e3366d2fe9"
      },
      "outputs": [
        {
          "name": "stdout",
          "output_type": "stream",
          "text": [
            "mat5 \n",
            " [[0. 0. 0. 0. 0. 0. 0. 0.]\n",
            " [0. 0. 0. 0. 0. 0. 0. 0.]\n",
            " [1. 1. 1. 1. 1. 1. 1. 1.]\n",
            " [1. 1. 1. 1. 1. 1. 1. 1.]\n",
            " [1. 1. 1. 1. 1. 1. 1. 1.]\n",
            " [1. 1. 1. 1. 1. 1. 1. 1.]]\n"
          ]
        }
      ],
      "source": [
        "# Transpose\n",
        "mat_3 = M3.T\n",
        "print(\"mat5 \\n\" , mat_3)"
      ]
    },
    {
      "cell_type": "code",
      "execution_count": null,
      "metadata": {
        "id": "5s17JMeGW5Fy",
        "outputId": "c3ce11f3-d5f4-43f9-f715-82b0161cab03"
      },
      "outputs": [
        {
          "name": "stdout",
          "output_type": "stream",
          "text": [
            "[[2 2 3 4 5 1]\n",
            " [1 5 5 9 8 2]]\n"
          ]
        }
      ],
      "source": [
        "M4 = np.array([[2,2,3,4,5,1],[1,5,5,9,8,2]])\n",
        "M4.shape\n",
        "print(M4)"
      ]
    },
    {
      "cell_type": "code",
      "execution_count": null,
      "metadata": {
        "id": "g4MNqZHaW5Fy",
        "outputId": "5bde3254-06b8-418c-a7ea-956d2869e648"
      },
      "outputs": [
        {
          "data": {
            "text/plain": [
              "array([[0., 0., 1., 1., 1., 1.],\n",
              "       [0., 0., 1., 1., 1., 1.],\n",
              "       [0., 0., 1., 1., 1., 1.],\n",
              "       [0., 0., 1., 1., 1., 1.],\n",
              "       [0., 0., 1., 1., 1., 1.],\n",
              "       [0., 0., 1., 1., 1., 1.],\n",
              "       [0., 0., 1., 1., 1., 1.],\n",
              "       [0., 0., 1., 1., 1., 1.],\n",
              "       [2., 2., 3., 4., 5., 1.],\n",
              "       [1., 5., 5., 9., 8., 2.]])"
            ]
          },
          "execution_count": 107,
          "metadata": {},
          "output_type": "execute_result"
        }
      ],
      "source": [
        "M5 = np.vstack((M3,M4))  # add columns in horizontal way\n",
        "M5"
      ]
    },
    {
      "cell_type": "code",
      "execution_count": null,
      "metadata": {
        "id": "ubrlnzWQW5Fy",
        "outputId": "a6fd0863-df76-427d-d2c9-3cc5b1ca666c"
      },
      "outputs": [
        {
          "data": {
            "text/plain": [
              "array([[0., 0., 1., 1., 1., 1.],\n",
              "       [0., 0., 1., 1., 1., 1.],\n",
              "       [0., 0., 1., 1., 1., 1.],\n",
              "       [0., 0., 1., 1., 1., 1.],\n",
              "       [0., 0., 1., 1., 1., 1.],\n",
              "       [0., 0., 1., 1., 1., 1.],\n",
              "       [0., 0., 1., 1., 1., 1.],\n",
              "       [0., 0., 1., 1., 1., 1.],\n",
              "       [2., 2., 3., 4., 5., 1.],\n",
              "       [1., 5., 5., 9., 8., 2.]])"
            ]
          },
          "execution_count": 108,
          "metadata": {},
          "output_type": "execute_result"
        }
      ],
      "source": [
        "con2 = np.concatenate((M3,M4), axis = 0) # add more rows. This is a vertical operation\n",
        "con2"
      ]
    },
    {
      "cell_type": "code",
      "execution_count": null,
      "metadata": {
        "id": "ludcWinGW5Fy",
        "outputId": "bd5e0dc8-6091-422b-ab78-b3e6fb3f3c1f"
      },
      "outputs": [
        {
          "name": "stdout",
          "output_type": "stream",
          "text": [
            "mat4 \n",
            " [[0. 0. 0. 0. 0. 0. 0. 0. 2. 1.]\n",
            " [0. 0. 0. 0. 0. 0. 0. 0. 2. 5.]\n",
            " [1. 1. 1. 1. 1. 1. 1. 1. 3. 5.]\n",
            " [1. 1. 1. 1. 1. 1. 1. 1. 4. 9.]\n",
            " [1. 1. 1. 1. 1. 1. 1. 1. 5. 8.]\n",
            " [1. 1. 1. 1. 1. 1. 1. 1. 1. 2.]]\n"
          ]
        }
      ],
      "source": [
        "\n",
        "mat_5 = M5.T\n",
        "print(\"mat4 \\n\" , mat_5)"
      ]
    },
    {
      "cell_type": "markdown",
      "metadata": {
        "id": "1WScb1FeW5Fy"
      },
      "source": [
        "# [Pandas](https://pandas.pydata.org/docs/user_guide/index.html)\n",
        "It helps us to store data in a 2-dimensional labeled data structure with columns of potentially different types."
      ]
    },
    {
      "cell_type": "code",
      "execution_count": null,
      "metadata": {
        "id": "SiYImDr3W5Fy"
      },
      "outputs": [],
      "source": [
        "import pandas as pd"
      ]
    },
    {
      "cell_type": "code",
      "execution_count": null,
      "metadata": {
        "id": "s81gDNmLW5Fy",
        "outputId": "bdd5e7c3-5de0-411a-81a9-3be7da66e181"
      },
      "outputs": [
        {
          "data": {
            "text/plain": [
              "{'Students': ['Alejandro', 'Pedro', 'Ramiro', 'Axel', 'Juan'],\n",
              " 'Math': [15, 16, 10, 12, 13],\n",
              " 'English': [13, 9, 16, 14, 17],\n",
              " 'Art': [12, 16, 15, 19, 10]}"
            ]
          },
          "execution_count": 171,
          "metadata": {},
          "output_type": "execute_result"
        }
      ],
      "source": [
        "# crear lists\n",
        "students = [\"Alejandro\",\"Pedro\",\"Ramiro\",\"Axel\",\"Juan\"]\n",
        "math = [15,16,10,12,13]\n",
        "english = [13,9,16,14,17]\n",
        "art = [12,16,15,19,10]\n",
        "\n",
        "# Make a dictionary\n",
        "grades = {\"Students\": students, \"Math\":math, \"English\":english, \"Art\":art}\n",
        "grades"
      ]
    },
    {
      "cell_type": "code",
      "execution_count": null,
      "metadata": {
        "scrolled": true,
        "id": "cSftoMalW5Fy",
        "outputId": "84d73bf0-37a6-478d-b429-b30c02b4b098"
      },
      "outputs": [
        {
          "data": {
            "text/html": [
              "<div>\n",
              "<style scoped>\n",
              "    .dataframe tbody tr th:only-of-type {\n",
              "        vertical-align: middle;\n",
              "    }\n",
              "\n",
              "    .dataframe tbody tr th {\n",
              "        vertical-align: top;\n",
              "    }\n",
              "\n",
              "    .dataframe thead th {\n",
              "        text-align: right;\n",
              "    }\n",
              "</style>\n",
              "<table border=\"1\" class=\"dataframe\">\n",
              "  <thead>\n",
              "    <tr style=\"text-align: right;\">\n",
              "      <th></th>\n",
              "      <th>Students</th>\n",
              "      <th>Math</th>\n",
              "      <th>English</th>\n",
              "      <th>Art</th>\n",
              "    </tr>\n",
              "  </thead>\n",
              "  <tbody>\n",
              "    <tr>\n",
              "      <th>0</th>\n",
              "      <td>Alejandro</td>\n",
              "      <td>15</td>\n",
              "      <td>13</td>\n",
              "      <td>12</td>\n",
              "    </tr>\n",
              "    <tr>\n",
              "      <th>1</th>\n",
              "      <td>Pedro</td>\n",
              "      <td>16</td>\n",
              "      <td>9</td>\n",
              "      <td>16</td>\n",
              "    </tr>\n",
              "    <tr>\n",
              "      <th>2</th>\n",
              "      <td>Ramiro</td>\n",
              "      <td>10</td>\n",
              "      <td>16</td>\n",
              "      <td>15</td>\n",
              "    </tr>\n",
              "    <tr>\n",
              "      <th>3</th>\n",
              "      <td>Axel</td>\n",
              "      <td>12</td>\n",
              "      <td>14</td>\n",
              "      <td>19</td>\n",
              "    </tr>\n",
              "    <tr>\n",
              "      <th>4</th>\n",
              "      <td>Juan</td>\n",
              "      <td>13</td>\n",
              "      <td>17</td>\n",
              "      <td>10</td>\n",
              "    </tr>\n",
              "  </tbody>\n",
              "</table>\n",
              "</div>"
            ],
            "text/plain": [
              "    Students  Math  English  Art\n",
              "0  Alejandro    15       13   12\n",
              "1      Pedro    16        9   16\n",
              "2     Ramiro    10       16   15\n",
              "3       Axel    12       14   19\n",
              "4       Juan    13       17   10"
            ]
          },
          "execution_count": 115,
          "metadata": {},
          "output_type": "execute_result"
        }
      ],
      "source": [
        "data1 = pd.DataFrame(grades)\n",
        "data1"
      ]
    },
    {
      "cell_type": "code",
      "execution_count": null,
      "metadata": {
        "id": "rLgO4sGUW5Fy",
        "outputId": "65b113db-8b83-4562-c144-8ee96295308a"
      },
      "outputs": [
        {
          "data": {
            "text/html": [
              "<div>\n",
              "<style scoped>\n",
              "    .dataframe tbody tr th:only-of-type {\n",
              "        vertical-align: middle;\n",
              "    }\n",
              "\n",
              "    .dataframe tbody tr th {\n",
              "        vertical-align: top;\n",
              "    }\n",
              "\n",
              "    .dataframe thead th {\n",
              "        text-align: right;\n",
              "    }\n",
              "</style>\n",
              "<table border=\"1\" class=\"dataframe\">\n",
              "  <thead>\n",
              "    <tr style=\"text-align: right;\">\n",
              "      <th></th>\n",
              "      <th>St</th>\n",
              "      <th>Ma</th>\n",
              "      <th>En</th>\n",
              "      <th>Ar</th>\n",
              "    </tr>\n",
              "  </thead>\n",
              "  <tbody>\n",
              "    <tr>\n",
              "      <th>0</th>\n",
              "      <td>Alejandro</td>\n",
              "      <td>15</td>\n",
              "      <td>13</td>\n",
              "      <td>12</td>\n",
              "    </tr>\n",
              "    <tr>\n",
              "      <th>1</th>\n",
              "      <td>Pedro</td>\n",
              "      <td>16</td>\n",
              "      <td>9</td>\n",
              "      <td>16</td>\n",
              "    </tr>\n",
              "    <tr>\n",
              "      <th>2</th>\n",
              "      <td>Ramiro</td>\n",
              "      <td>10</td>\n",
              "      <td>16</td>\n",
              "      <td>15</td>\n",
              "    </tr>\n",
              "    <tr>\n",
              "      <th>3</th>\n",
              "      <td>Axel</td>\n",
              "      <td>12</td>\n",
              "      <td>14</td>\n",
              "      <td>19</td>\n",
              "    </tr>\n",
              "    <tr>\n",
              "      <th>4</th>\n",
              "      <td>Juan</td>\n",
              "      <td>13</td>\n",
              "      <td>17</td>\n",
              "      <td>10</td>\n",
              "    </tr>\n",
              "  </tbody>\n",
              "</table>\n",
              "</div>"
            ],
            "text/plain": [
              "          St  Ma  En  Ar\n",
              "0  Alejandro  15  13  12\n",
              "1      Pedro  16   9  16\n",
              "2     Ramiro  10  16  15\n",
              "3       Axel  12  14  19\n",
              "4       Juan  13  17  10"
            ]
          },
          "execution_count": 116,
          "metadata": {},
          "output_type": "execute_result"
        }
      ],
      "source": [
        "# Change columns names\n",
        "dic1 = { \"Students\":'St', \"Math\":'Ma', \"English\":'En', \"Art\":'Ar'} # dictionary\n",
        "data1.rename( columns = dic1)"
      ]
    },
    {
      "cell_type": "code",
      "execution_count": null,
      "metadata": {
        "id": "c2jC8uC0W5Fy",
        "outputId": "2730685e-e2df-41f4-af40-f3a96d76381a"
      },
      "outputs": [
        {
          "data": {
            "text/html": [
              "<div>\n",
              "<style scoped>\n",
              "    .dataframe tbody tr th:only-of-type {\n",
              "        vertical-align: middle;\n",
              "    }\n",
              "\n",
              "    .dataframe tbody tr th {\n",
              "        vertical-align: top;\n",
              "    }\n",
              "\n",
              "    .dataframe thead th {\n",
              "        text-align: right;\n",
              "    }\n",
              "</style>\n",
              "<table border=\"1\" class=\"dataframe\">\n",
              "  <thead>\n",
              "    <tr style=\"text-align: right;\">\n",
              "      <th></th>\n",
              "      <th>St</th>\n",
              "      <th>Ma</th>\n",
              "      <th>En</th>\n",
              "      <th>Ar</th>\n",
              "    </tr>\n",
              "  </thead>\n",
              "  <tbody>\n",
              "    <tr>\n",
              "      <th>0</th>\n",
              "      <td>Alejandro</td>\n",
              "      <td>15</td>\n",
              "      <td>13</td>\n",
              "      <td>12</td>\n",
              "    </tr>\n",
              "    <tr>\n",
              "      <th>1</th>\n",
              "      <td>Pedro</td>\n",
              "      <td>16</td>\n",
              "      <td>9</td>\n",
              "      <td>16</td>\n",
              "    </tr>\n",
              "    <tr>\n",
              "      <th>2</th>\n",
              "      <td>Ramiro</td>\n",
              "      <td>10</td>\n",
              "      <td>16</td>\n",
              "      <td>15</td>\n",
              "    </tr>\n",
              "    <tr>\n",
              "      <th>3</th>\n",
              "      <td>Axel</td>\n",
              "      <td>12</td>\n",
              "      <td>14</td>\n",
              "      <td>19</td>\n",
              "    </tr>\n",
              "    <tr>\n",
              "      <th>4</th>\n",
              "      <td>Juan</td>\n",
              "      <td>13</td>\n",
              "      <td>17</td>\n",
              "      <td>10</td>\n",
              "    </tr>\n",
              "  </tbody>\n",
              "</table>\n",
              "</div>"
            ],
            "text/plain": [
              "          St  Ma  En  Ar\n",
              "0  Alejandro  15  13  12\n",
              "1      Pedro  16   9  16\n",
              "2     Ramiro  10  16  15\n",
              "3       Axel  12  14  19\n",
              "4       Juan  13  17  10"
            ]
          },
          "execution_count": 172,
          "metadata": {},
          "output_type": "execute_result"
        }
      ],
      "source": [
        "data1.rename( columns = { \"Students\":'St', \"Math\":'Ma', \"English\":'En', \"Art\":'Ar'}  )"
      ]
    },
    {
      "cell_type": "code",
      "execution_count": null,
      "metadata": {
        "id": "dqvVwBpXW5Fy"
      },
      "outputs": [],
      "source": [
        "# Add column and index row name\n",
        "data = {'state': ['Lima', 'Piura', 'Tumbes', 'Cuzco', 'Ica', 'Puno'],\n",
        "        'year': [2000, 2001, 2002, 2001, 2002, 2003],\n",
        "        'pop': [1.5, 1.7, 3.6, 2.4, 2.9, 3.2]}"
      ]
    },
    {
      "cell_type": "code",
      "execution_count": null,
      "metadata": {
        "scrolled": false,
        "id": "d0hPTcLMW5Fy",
        "outputId": "024bfc9b-f3e6-41c8-a73f-25c4d8cb279d"
      },
      "outputs": [
        {
          "data": {
            "text/html": [
              "<div>\n",
              "<style scoped>\n",
              "    .dataframe tbody tr th:only-of-type {\n",
              "        vertical-align: middle;\n",
              "    }\n",
              "\n",
              "    .dataframe tbody tr th {\n",
              "        vertical-align: top;\n",
              "    }\n",
              "\n",
              "    .dataframe thead th {\n",
              "        text-align: right;\n",
              "    }\n",
              "</style>\n",
              "<table border=\"1\" class=\"dataframe\">\n",
              "  <thead>\n",
              "    <tr style=\"text-align: right;\">\n",
              "      <th></th>\n",
              "      <th>year</th>\n",
              "      <th>state</th>\n",
              "      <th>pop</th>\n",
              "      <th>debt</th>\n",
              "    </tr>\n",
              "  </thead>\n",
              "  <tbody>\n",
              "    <tr>\n",
              "      <th>one</th>\n",
              "      <td>2000</td>\n",
              "      <td>Lima</td>\n",
              "      <td>1.5</td>\n",
              "      <td>NaN</td>\n",
              "    </tr>\n",
              "    <tr>\n",
              "      <th>two</th>\n",
              "      <td>2001</td>\n",
              "      <td>Piura</td>\n",
              "      <td>1.7</td>\n",
              "      <td>NaN</td>\n",
              "    </tr>\n",
              "    <tr>\n",
              "      <th>three</th>\n",
              "      <td>2002</td>\n",
              "      <td>Tumbes</td>\n",
              "      <td>3.6</td>\n",
              "      <td>NaN</td>\n",
              "    </tr>\n",
              "    <tr>\n",
              "      <th>four</th>\n",
              "      <td>2001</td>\n",
              "      <td>Cuzco</td>\n",
              "      <td>2.4</td>\n",
              "      <td>NaN</td>\n",
              "    </tr>\n",
              "    <tr>\n",
              "      <th>five</th>\n",
              "      <td>2002</td>\n",
              "      <td>Ica</td>\n",
              "      <td>2.9</td>\n",
              "      <td>NaN</td>\n",
              "    </tr>\n",
              "    <tr>\n",
              "      <th>six</th>\n",
              "      <td>2003</td>\n",
              "      <td>Puno</td>\n",
              "      <td>3.2</td>\n",
              "      <td>NaN</td>\n",
              "    </tr>\n",
              "  </tbody>\n",
              "</table>\n",
              "</div>"
            ],
            "text/plain": [
              "       year   state  pop debt\n",
              "one    2000    Lima  1.5  NaN\n",
              "two    2001   Piura  1.7  NaN\n",
              "three  2002  Tumbes  3.6  NaN\n",
              "four   2001   Cuzco  2.4  NaN\n",
              "five   2002     Ica  2.9  NaN\n",
              "six    2003    Puno  3.2  NaN"
            ]
          },
          "execution_count": 174,
          "metadata": {},
          "output_type": "execute_result"
        }
      ],
      "source": [
        "frame = pd.DataFrame(data,\n",
        "                      columns=[\"year\", 'state', 'pop', 'debt'] ,\n",
        "                      index=['one', 'two', 'three', 'four','five', 'six'] )\n",
        "\n",
        "frame"
      ]
    },
    {
      "cell_type": "markdown",
      "metadata": {
        "id": "E4HBLNkyW5Fz"
      },
      "source": [
        "# Load  files : CSV, Excel"
      ]
    },
    {
      "cell_type": "code",
      "execution_count": null,
      "metadata": {
        "id": "gbifrJGmW5Fz",
        "outputId": "628877fa-c868-4dee-fad1-7700954ca6a8"
      },
      "outputs": [
        {
          "name": "stdout",
          "output_type": "stream",
          "text": [
            "C:\\Users\\melor\\OneDrive\\Documentos\\GitHub\\Python for Data Science\n"
          ]
        }
      ],
      "source": [
        "import os\n",
        "import os\n",
        "print(os.getcwd())  # Muestra la carpeta actual\n"
      ]
    },
    {
      "cell_type": "code",
      "execution_count": null,
      "metadata": {
        "id": "pZB2jUavW5Fz",
        "outputId": "1886f404-0a31-4fa0-eb53-793640a71b37"
      },
      "outputs": [
        {
          "name": "stdout",
          "output_type": "stream",
          "text": [
            "<class 'pandas.core.frame.DataFrame'>\n"
          ]
        },
        {
          "data": {
            "text/html": [
              "<div>\n",
              "<style scoped>\n",
              "    .dataframe tbody tr th:only-of-type {\n",
              "        vertical-align: middle;\n",
              "    }\n",
              "\n",
              "    .dataframe tbody tr th {\n",
              "        vertical-align: top;\n",
              "    }\n",
              "\n",
              "    .dataframe thead th {\n",
              "        text-align: right;\n",
              "    }\n",
              "</style>\n",
              "<table border=\"1\" class=\"dataframe\">\n",
              "  <thead>\n",
              "    <tr style=\"text-align: right;\">\n",
              "      <th></th>\n",
              "      <th>Unnamed: 0</th>\n",
              "      <th>wage</th>\n",
              "      <th>lwage</th>\n",
              "      <th>sex</th>\n",
              "      <th>shs</th>\n",
              "      <th>hsg</th>\n",
              "      <th>scl</th>\n",
              "      <th>clg</th>\n",
              "      <th>ad</th>\n",
              "      <th>mw</th>\n",
              "      <th>...</th>\n",
              "      <th>we</th>\n",
              "      <th>ne</th>\n",
              "      <th>exp1</th>\n",
              "      <th>exp2</th>\n",
              "      <th>exp3</th>\n",
              "      <th>exp4</th>\n",
              "      <th>occ</th>\n",
              "      <th>occ2</th>\n",
              "      <th>ind</th>\n",
              "      <th>ind2</th>\n",
              "    </tr>\n",
              "  </thead>\n",
              "  <tbody>\n",
              "    <tr>\n",
              "      <th>0</th>\n",
              "      <td>10</td>\n",
              "      <td>9.615385</td>\n",
              "      <td>2.263364</td>\n",
              "      <td>1</td>\n",
              "      <td>0</td>\n",
              "      <td>0</td>\n",
              "      <td>0</td>\n",
              "      <td>1</td>\n",
              "      <td>0</td>\n",
              "      <td>0</td>\n",
              "      <td>...</td>\n",
              "      <td>0</td>\n",
              "      <td>1</td>\n",
              "      <td>7.0</td>\n",
              "      <td>0.49</td>\n",
              "      <td>0.343</td>\n",
              "      <td>0.2401</td>\n",
              "      <td>3600</td>\n",
              "      <td>11</td>\n",
              "      <td>8370</td>\n",
              "      <td>18</td>\n",
              "    </tr>\n",
              "    <tr>\n",
              "      <th>1</th>\n",
              "      <td>12</td>\n",
              "      <td>48.076923</td>\n",
              "      <td>3.872802</td>\n",
              "      <td>0</td>\n",
              "      <td>0</td>\n",
              "      <td>0</td>\n",
              "      <td>0</td>\n",
              "      <td>1</td>\n",
              "      <td>0</td>\n",
              "      <td>0</td>\n",
              "      <td>...</td>\n",
              "      <td>0</td>\n",
              "      <td>1</td>\n",
              "      <td>31.0</td>\n",
              "      <td>9.61</td>\n",
              "      <td>29.791</td>\n",
              "      <td>92.3521</td>\n",
              "      <td>3050</td>\n",
              "      <td>10</td>\n",
              "      <td>5070</td>\n",
              "      <td>9</td>\n",
              "    </tr>\n",
              "    <tr>\n",
              "      <th>2</th>\n",
              "      <td>15</td>\n",
              "      <td>11.057692</td>\n",
              "      <td>2.403126</td>\n",
              "      <td>0</td>\n",
              "      <td>0</td>\n",
              "      <td>1</td>\n",
              "      <td>0</td>\n",
              "      <td>0</td>\n",
              "      <td>0</td>\n",
              "      <td>0</td>\n",
              "      <td>...</td>\n",
              "      <td>0</td>\n",
              "      <td>1</td>\n",
              "      <td>18.0</td>\n",
              "      <td>3.24</td>\n",
              "      <td>5.832</td>\n",
              "      <td>10.4976</td>\n",
              "      <td>6260</td>\n",
              "      <td>19</td>\n",
              "      <td>770</td>\n",
              "      <td>4</td>\n",
              "    </tr>\n",
              "    <tr>\n",
              "      <th>3</th>\n",
              "      <td>18</td>\n",
              "      <td>13.942308</td>\n",
              "      <td>2.634928</td>\n",
              "      <td>1</td>\n",
              "      <td>0</td>\n",
              "      <td>0</td>\n",
              "      <td>0</td>\n",
              "      <td>0</td>\n",
              "      <td>1</td>\n",
              "      <td>0</td>\n",
              "      <td>...</td>\n",
              "      <td>0</td>\n",
              "      <td>1</td>\n",
              "      <td>25.0</td>\n",
              "      <td>6.25</td>\n",
              "      <td>15.625</td>\n",
              "      <td>39.0625</td>\n",
              "      <td>420</td>\n",
              "      <td>1</td>\n",
              "      <td>6990</td>\n",
              "      <td>12</td>\n",
              "    </tr>\n",
              "    <tr>\n",
              "      <th>4</th>\n",
              "      <td>19</td>\n",
              "      <td>28.846154</td>\n",
              "      <td>3.361977</td>\n",
              "      <td>1</td>\n",
              "      <td>0</td>\n",
              "      <td>0</td>\n",
              "      <td>0</td>\n",
              "      <td>1</td>\n",
              "      <td>0</td>\n",
              "      <td>0</td>\n",
              "      <td>...</td>\n",
              "      <td>0</td>\n",
              "      <td>1</td>\n",
              "      <td>22.0</td>\n",
              "      <td>4.84</td>\n",
              "      <td>10.648</td>\n",
              "      <td>23.4256</td>\n",
              "      <td>2015</td>\n",
              "      <td>6</td>\n",
              "      <td>9470</td>\n",
              "      <td>22</td>\n",
              "    </tr>\n",
              "  </tbody>\n",
              "</table>\n",
              "<p>5 rows × 21 columns</p>\n",
              "</div>"
            ],
            "text/plain": [
              "   Unnamed: 0       wage     lwage  sex  shs  hsg  scl  clg  ad  mw  ...  we  \\\n",
              "0          10   9.615385  2.263364    1    0    0    0    1   0   0  ...   0   \n",
              "1          12  48.076923  3.872802    0    0    0    0    1   0   0  ...   0   \n",
              "2          15  11.057692  2.403126    0    0    1    0    0   0   0  ...   0   \n",
              "3          18  13.942308  2.634928    1    0    0    0    0   1   0  ...   0   \n",
              "4          19  28.846154  3.361977    1    0    0    0    1   0   0  ...   0   \n",
              "\n",
              "   ne  exp1  exp2    exp3     exp4   occ  occ2   ind  ind2  \n",
              "0   1   7.0  0.49   0.343   0.2401  3600    11  8370    18  \n",
              "1   1  31.0  9.61  29.791  92.3521  3050    10  5070     9  \n",
              "2   1  18.0  3.24   5.832  10.4976  6260    19   770     4  \n",
              "3   1  25.0  6.25  15.625  39.0625   420     1  6990    12  \n",
              "4   1  22.0  4.84  10.648  23.4256  2015     6  9470    22  \n",
              "\n",
              "[5 rows x 21 columns]"
            ]
          },
          "execution_count": 182,
          "metadata": {},
          "output_type": "execute_result"
        }
      ],
      "source": [
        "#using relative path\n",
        "#import pandas as pd\n",
        "#r'..\\data\\base1.xlsx'\n",
        "base0 = pd.read_excel(r'./data/base1.xlsx', sheet_name = \"data\")\n",
        "\n",
        "print(type(base0))\n",
        "base0.head()\n",
        "\n",
        "#base0.to_csv(r'./data/base.csv')"
      ]
    },
    {
      "cell_type": "code",
      "execution_count": null,
      "metadata": {
        "id": "SLkG1OEIW5Fz",
        "outputId": "832b7cf1-d20a-4ac9-db63-3fef5699ed06"
      },
      "outputs": [
        {
          "data": {
            "text/html": [
              "<div>\n",
              "<style scoped>\n",
              "    .dataframe tbody tr th:only-of-type {\n",
              "        vertical-align: middle;\n",
              "    }\n",
              "\n",
              "    .dataframe tbody tr th {\n",
              "        vertical-align: top;\n",
              "    }\n",
              "\n",
              "    .dataframe thead th {\n",
              "        text-align: right;\n",
              "    }\n",
              "</style>\n",
              "<table border=\"1\" class=\"dataframe\">\n",
              "  <thead>\n",
              "    <tr style=\"text-align: right;\">\n",
              "      <th></th>\n",
              "      <th>Unnamed: 0</th>\n",
              "      <th>wage</th>\n",
              "      <th>lwage</th>\n",
              "      <th>sex</th>\n",
              "      <th>shs</th>\n",
              "      <th>hsg</th>\n",
              "      <th>scl</th>\n",
              "      <th>clg</th>\n",
              "      <th>ad</th>\n",
              "      <th>mw</th>\n",
              "      <th>...</th>\n",
              "      <th>we</th>\n",
              "      <th>ne</th>\n",
              "      <th>exp1</th>\n",
              "      <th>exp2</th>\n",
              "      <th>exp3</th>\n",
              "      <th>exp4</th>\n",
              "      <th>occ</th>\n",
              "      <th>occ2</th>\n",
              "      <th>ind</th>\n",
              "      <th>ind2</th>\n",
              "    </tr>\n",
              "  </thead>\n",
              "  <tbody>\n",
              "    <tr>\n",
              "      <th>0</th>\n",
              "      <td>10</td>\n",
              "      <td>9.615385</td>\n",
              "      <td>2.263364</td>\n",
              "      <td>1</td>\n",
              "      <td>0</td>\n",
              "      <td>0</td>\n",
              "      <td>0</td>\n",
              "      <td>1</td>\n",
              "      <td>0</td>\n",
              "      <td>0</td>\n",
              "      <td>...</td>\n",
              "      <td>0</td>\n",
              "      <td>1</td>\n",
              "      <td>7.0</td>\n",
              "      <td>0.49</td>\n",
              "      <td>0.343</td>\n",
              "      <td>0.2401</td>\n",
              "      <td>3600.0</td>\n",
              "      <td>11</td>\n",
              "      <td>8370.0</td>\n",
              "      <td>18</td>\n",
              "    </tr>\n",
              "    <tr>\n",
              "      <th>1</th>\n",
              "      <td>12</td>\n",
              "      <td>48.076923</td>\n",
              "      <td>3.872802</td>\n",
              "      <td>0</td>\n",
              "      <td>0</td>\n",
              "      <td>0</td>\n",
              "      <td>0</td>\n",
              "      <td>1</td>\n",
              "      <td>0</td>\n",
              "      <td>0</td>\n",
              "      <td>...</td>\n",
              "      <td>0</td>\n",
              "      <td>1</td>\n",
              "      <td>31.0</td>\n",
              "      <td>9.61</td>\n",
              "      <td>29.791</td>\n",
              "      <td>92.3521</td>\n",
              "      <td>3050.0</td>\n",
              "      <td>10</td>\n",
              "      <td>5070.0</td>\n",
              "      <td>9</td>\n",
              "    </tr>\n",
              "    <tr>\n",
              "      <th>2</th>\n",
              "      <td>15</td>\n",
              "      <td>11.057692</td>\n",
              "      <td>2.403126</td>\n",
              "      <td>0</td>\n",
              "      <td>0</td>\n",
              "      <td>1</td>\n",
              "      <td>0</td>\n",
              "      <td>0</td>\n",
              "      <td>0</td>\n",
              "      <td>0</td>\n",
              "      <td>...</td>\n",
              "      <td>0</td>\n",
              "      <td>1</td>\n",
              "      <td>18.0</td>\n",
              "      <td>3.24</td>\n",
              "      <td>5.832</td>\n",
              "      <td>10.4976</td>\n",
              "      <td>6260.0</td>\n",
              "      <td>19</td>\n",
              "      <td>770.0</td>\n",
              "      <td>4</td>\n",
              "    </tr>\n",
              "    <tr>\n",
              "      <th>3</th>\n",
              "      <td>18</td>\n",
              "      <td>13.942308</td>\n",
              "      <td>2.634928</td>\n",
              "      <td>1</td>\n",
              "      <td>0</td>\n",
              "      <td>0</td>\n",
              "      <td>0</td>\n",
              "      <td>0</td>\n",
              "      <td>1</td>\n",
              "      <td>0</td>\n",
              "      <td>...</td>\n",
              "      <td>0</td>\n",
              "      <td>1</td>\n",
              "      <td>25.0</td>\n",
              "      <td>6.25</td>\n",
              "      <td>15.625</td>\n",
              "      <td>39.0625</td>\n",
              "      <td>420.0</td>\n",
              "      <td>1</td>\n",
              "      <td>6990.0</td>\n",
              "      <td>12</td>\n",
              "    </tr>\n",
              "    <tr>\n",
              "      <th>4</th>\n",
              "      <td>19</td>\n",
              "      <td>28.846154</td>\n",
              "      <td>3.361977</td>\n",
              "      <td>1</td>\n",
              "      <td>0</td>\n",
              "      <td>0</td>\n",
              "      <td>0</td>\n",
              "      <td>1</td>\n",
              "      <td>0</td>\n",
              "      <td>0</td>\n",
              "      <td>...</td>\n",
              "      <td>0</td>\n",
              "      <td>1</td>\n",
              "      <td>22.0</td>\n",
              "      <td>4.84</td>\n",
              "      <td>10.648</td>\n",
              "      <td>23.4256</td>\n",
              "      <td>2015.0</td>\n",
              "      <td>6</td>\n",
              "      <td>9470.0</td>\n",
              "      <td>22</td>\n",
              "    </tr>\n",
              "    <tr>\n",
              "      <th>...</th>\n",
              "      <td>...</td>\n",
              "      <td>...</td>\n",
              "      <td>...</td>\n",
              "      <td>...</td>\n",
              "      <td>...</td>\n",
              "      <td>...</td>\n",
              "      <td>...</td>\n",
              "      <td>...</td>\n",
              "      <td>...</td>\n",
              "      <td>...</td>\n",
              "      <td>...</td>\n",
              "      <td>...</td>\n",
              "      <td>...</td>\n",
              "      <td>...</td>\n",
              "      <td>...</td>\n",
              "      <td>...</td>\n",
              "      <td>...</td>\n",
              "      <td>...</td>\n",
              "      <td>...</td>\n",
              "      <td>...</td>\n",
              "      <td>...</td>\n",
              "    </tr>\n",
              "    <tr>\n",
              "      <th>5145</th>\n",
              "      <td>32620</td>\n",
              "      <td>14.769231</td>\n",
              "      <td>2.692546</td>\n",
              "      <td>0</td>\n",
              "      <td>0</td>\n",
              "      <td>0</td>\n",
              "      <td>0</td>\n",
              "      <td>1</td>\n",
              "      <td>0</td>\n",
              "      <td>0</td>\n",
              "      <td>...</td>\n",
              "      <td>1</td>\n",
              "      <td>0</td>\n",
              "      <td>9.0</td>\n",
              "      <td>0.81</td>\n",
              "      <td>0.729</td>\n",
              "      <td>0.6561</td>\n",
              "      <td>4700.0</td>\n",
              "      <td>16</td>\n",
              "      <td>4970.0</td>\n",
              "      <td>9</td>\n",
              "    </tr>\n",
              "    <tr>\n",
              "      <th>5146</th>\n",
              "      <td>32624</td>\n",
              "      <td>23.076923</td>\n",
              "      <td>3.138833</td>\n",
              "      <td>1</td>\n",
              "      <td>0</td>\n",
              "      <td>0</td>\n",
              "      <td>1</td>\n",
              "      <td>0</td>\n",
              "      <td>0</td>\n",
              "      <td>0</td>\n",
              "      <td>...</td>\n",
              "      <td>1</td>\n",
              "      <td>0</td>\n",
              "      <td>12.0</td>\n",
              "      <td>1.44</td>\n",
              "      <td>1.728</td>\n",
              "      <td>2.0736</td>\n",
              "      <td>4110.0</td>\n",
              "      <td>13</td>\n",
              "      <td>8680.0</td>\n",
              "      <td>20</td>\n",
              "    </tr>\n",
              "    <tr>\n",
              "      <th>5147</th>\n",
              "      <td>32626</td>\n",
              "      <td>38.461538</td>\n",
              "      <td>3.649659</td>\n",
              "      <td>0</td>\n",
              "      <td>0</td>\n",
              "      <td>0</td>\n",
              "      <td>0</td>\n",
              "      <td>0</td>\n",
              "      <td>1</td>\n",
              "      <td>0</td>\n",
              "      <td>...</td>\n",
              "      <td>1</td>\n",
              "      <td>0</td>\n",
              "      <td>11.0</td>\n",
              "      <td>1.21</td>\n",
              "      <td>1.331</td>\n",
              "      <td>1.4641</td>\n",
              "      <td>1550.0</td>\n",
              "      <td>4</td>\n",
              "      <td>3680.0</td>\n",
              "      <td>6</td>\n",
              "    </tr>\n",
              "    <tr>\n",
              "      <th>5148</th>\n",
              "      <td>32631</td>\n",
              "      <td>32.967033</td>\n",
              "      <td>3.495508</td>\n",
              "      <td>0</td>\n",
              "      <td>0</td>\n",
              "      <td>1</td>\n",
              "      <td>0</td>\n",
              "      <td>0</td>\n",
              "      <td>0</td>\n",
              "      <td>0</td>\n",
              "      <td>...</td>\n",
              "      <td>1</td>\n",
              "      <td>0</td>\n",
              "      <td>10.0</td>\n",
              "      <td>1.00</td>\n",
              "      <td>1.000</td>\n",
              "      <td>1.0000</td>\n",
              "      <td>2920.0</td>\n",
              "      <td>9</td>\n",
              "      <td>6570.0</td>\n",
              "      <td>11</td>\n",
              "    </tr>\n",
              "    <tr>\n",
              "      <th>5149</th>\n",
              "      <td>32643</td>\n",
              "      <td>17.307692</td>\n",
              "      <td>2.851151</td>\n",
              "      <td>0</td>\n",
              "      <td>0</td>\n",
              "      <td>0</td>\n",
              "      <td>0</td>\n",
              "      <td>0</td>\n",
              "      <td>1</td>\n",
              "      <td>0</td>\n",
              "      <td>...</td>\n",
              "      <td>1</td>\n",
              "      <td>0</td>\n",
              "      <td>14.0</td>\n",
              "      <td>1.96</td>\n",
              "      <td>2.744</td>\n",
              "      <td>3.8416</td>\n",
              "      <td>1610.0</td>\n",
              "      <td>5</td>\n",
              "      <td>7460.0</td>\n",
              "      <td>14</td>\n",
              "    </tr>\n",
              "  </tbody>\n",
              "</table>\n",
              "<p>5150 rows × 21 columns</p>\n",
              "</div>"
            ],
            "text/plain": [
              "      Unnamed: 0       wage     lwage  sex  shs  hsg  scl  clg  ad  mw  ...  \\\n",
              "0             10   9.615385  2.263364    1    0    0    0    1   0   0  ...   \n",
              "1             12  48.076923  3.872802    0    0    0    0    1   0   0  ...   \n",
              "2             15  11.057692  2.403126    0    0    1    0    0   0   0  ...   \n",
              "3             18  13.942308  2.634928    1    0    0    0    0   1   0  ...   \n",
              "4             19  28.846154  3.361977    1    0    0    0    1   0   0  ...   \n",
              "...          ...        ...       ...  ...  ...  ...  ...  ...  ..  ..  ...   \n",
              "5145       32620  14.769231  2.692546    0    0    0    0    1   0   0  ...   \n",
              "5146       32624  23.076923  3.138833    1    0    0    1    0   0   0  ...   \n",
              "5147       32626  38.461538  3.649659    0    0    0    0    0   1   0  ...   \n",
              "5148       32631  32.967033  3.495508    0    0    1    0    0   0   0  ...   \n",
              "5149       32643  17.307692  2.851151    0    0    0    0    0   1   0  ...   \n",
              "\n",
              "      we  ne  exp1  exp2    exp3     exp4     occ  occ2     ind  ind2  \n",
              "0      0   1   7.0  0.49   0.343   0.2401  3600.0    11  8370.0    18  \n",
              "1      0   1  31.0  9.61  29.791  92.3521  3050.0    10  5070.0     9  \n",
              "2      0   1  18.0  3.24   5.832  10.4976  6260.0    19   770.0     4  \n",
              "3      0   1  25.0  6.25  15.625  39.0625   420.0     1  6990.0    12  \n",
              "4      0   1  22.0  4.84  10.648  23.4256  2015.0     6  9470.0    22  \n",
              "...   ..  ..   ...   ...     ...      ...     ...   ...     ...   ...  \n",
              "5145   1   0   9.0  0.81   0.729   0.6561  4700.0    16  4970.0     9  \n",
              "5146   1   0  12.0  1.44   1.728   2.0736  4110.0    13  8680.0    20  \n",
              "5147   1   0  11.0  1.21   1.331   1.4641  1550.0     4  3680.0     6  \n",
              "5148   1   0  10.0  1.00   1.000   1.0000  2920.0     9  6570.0    11  \n",
              "5149   1   0  14.0  1.96   2.744   3.8416  1610.0     5  7460.0    14  \n",
              "\n",
              "[5150 rows x 21 columns]"
            ]
          },
          "execution_count": 250,
          "metadata": {},
          "output_type": "execute_result"
        }
      ],
      "source": [
        "\n",
        "base1 = pd.read_csv( r'./data/base0.csv')\n",
        "base1"
      ]
    },
    {
      "cell_type": "code",
      "execution_count": null,
      "metadata": {
        "id": "5DjswilJW5Fz",
        "outputId": "84628dbb-9f5f-4edb-a0a0-21450b305ede"
      },
      "outputs": [
        {
          "name": "stdout",
          "output_type": "stream",
          "text": [
            "<class 'pandas.core.frame.DataFrame'>\n",
            "RangeIndex: 5150 entries, 0 to 5149\n",
            "Data columns (total 5 columns):\n",
            " #   Column   Non-Null Count  Dtype  \n",
            "---  ------   --------------  -----  \n",
            " 0   salario  5150 non-null   float64\n",
            " 1   lwage    5150 non-null   float64\n",
            " 2   sex      5150 non-null   int64  \n",
            " 3   exp1     5150 non-null   float64\n",
            " 4   ind      5150 non-null   float64\n",
            "dtypes: float64(4), int64(1)\n",
            "memory usage: 201.3 KB\n"
          ]
        }
      ],
      "source": [
        "base1.info()\n",
        "#base1.dtypes"
      ]
    },
    {
      "cell_type": "code",
      "execution_count": null,
      "metadata": {
        "scrolled": true,
        "id": "KKP4f0SqW5Fz",
        "outputId": "dccadf90-5652-47c1-dd98-827b2e6f921d"
      },
      "outputs": [
        {
          "data": {
            "text/html": [
              "<div>\n",
              "<style scoped>\n",
              "    .dataframe tbody tr th:only-of-type {\n",
              "        vertical-align: middle;\n",
              "    }\n",
              "\n",
              "    .dataframe tbody tr th {\n",
              "        vertical-align: top;\n",
              "    }\n",
              "\n",
              "    .dataframe thead th {\n",
              "        text-align: right;\n",
              "    }\n",
              "</style>\n",
              "<table border=\"1\" class=\"dataframe\">\n",
              "  <thead>\n",
              "    <tr style=\"text-align: right;\">\n",
              "      <th></th>\n",
              "      <th>id</th>\n",
              "      <th>salario</th>\n",
              "      <th>lwage</th>\n",
              "      <th>sex</th>\n",
              "      <th>shs</th>\n",
              "      <th>hsg</th>\n",
              "      <th>scl</th>\n",
              "      <th>clg</th>\n",
              "      <th>ad</th>\n",
              "      <th>mw</th>\n",
              "      <th>...</th>\n",
              "      <th>we</th>\n",
              "      <th>ne</th>\n",
              "      <th>exp1</th>\n",
              "      <th>exp2</th>\n",
              "      <th>exp3</th>\n",
              "      <th>exp4</th>\n",
              "      <th>occ</th>\n",
              "      <th>occ2</th>\n",
              "      <th>ind</th>\n",
              "      <th>ind2</th>\n",
              "    </tr>\n",
              "  </thead>\n",
              "  <tbody>\n",
              "    <tr>\n",
              "      <th>0</th>\n",
              "      <td>10</td>\n",
              "      <td>9.615385</td>\n",
              "      <td>2.263364</td>\n",
              "      <td>1</td>\n",
              "      <td>0</td>\n",
              "      <td>0</td>\n",
              "      <td>0</td>\n",
              "      <td>1</td>\n",
              "      <td>0</td>\n",
              "      <td>0</td>\n",
              "      <td>...</td>\n",
              "      <td>0</td>\n",
              "      <td>1</td>\n",
              "      <td>7.0</td>\n",
              "      <td>0.49</td>\n",
              "      <td>0.343</td>\n",
              "      <td>0.2401</td>\n",
              "      <td>3600.0</td>\n",
              "      <td>11</td>\n",
              "      <td>8370.0</td>\n",
              "      <td>18</td>\n",
              "    </tr>\n",
              "    <tr>\n",
              "      <th>1</th>\n",
              "      <td>12</td>\n",
              "      <td>48.076923</td>\n",
              "      <td>3.872802</td>\n",
              "      <td>0</td>\n",
              "      <td>0</td>\n",
              "      <td>0</td>\n",
              "      <td>0</td>\n",
              "      <td>1</td>\n",
              "      <td>0</td>\n",
              "      <td>0</td>\n",
              "      <td>...</td>\n",
              "      <td>0</td>\n",
              "      <td>1</td>\n",
              "      <td>31.0</td>\n",
              "      <td>9.61</td>\n",
              "      <td>29.791</td>\n",
              "      <td>92.3521</td>\n",
              "      <td>3050.0</td>\n",
              "      <td>10</td>\n",
              "      <td>5070.0</td>\n",
              "      <td>9</td>\n",
              "    </tr>\n",
              "    <tr>\n",
              "      <th>2</th>\n",
              "      <td>15</td>\n",
              "      <td>11.057692</td>\n",
              "      <td>2.403126</td>\n",
              "      <td>0</td>\n",
              "      <td>0</td>\n",
              "      <td>1</td>\n",
              "      <td>0</td>\n",
              "      <td>0</td>\n",
              "      <td>0</td>\n",
              "      <td>0</td>\n",
              "      <td>...</td>\n",
              "      <td>0</td>\n",
              "      <td>1</td>\n",
              "      <td>18.0</td>\n",
              "      <td>3.24</td>\n",
              "      <td>5.832</td>\n",
              "      <td>10.4976</td>\n",
              "      <td>6260.0</td>\n",
              "      <td>19</td>\n",
              "      <td>770.0</td>\n",
              "      <td>4</td>\n",
              "    </tr>\n",
              "    <tr>\n",
              "      <th>3</th>\n",
              "      <td>18</td>\n",
              "      <td>13.942308</td>\n",
              "      <td>2.634928</td>\n",
              "      <td>1</td>\n",
              "      <td>0</td>\n",
              "      <td>0</td>\n",
              "      <td>0</td>\n",
              "      <td>0</td>\n",
              "      <td>1</td>\n",
              "      <td>0</td>\n",
              "      <td>...</td>\n",
              "      <td>0</td>\n",
              "      <td>1</td>\n",
              "      <td>25.0</td>\n",
              "      <td>6.25</td>\n",
              "      <td>15.625</td>\n",
              "      <td>39.0625</td>\n",
              "      <td>420.0</td>\n",
              "      <td>1</td>\n",
              "      <td>6990.0</td>\n",
              "      <td>12</td>\n",
              "    </tr>\n",
              "    <tr>\n",
              "      <th>4</th>\n",
              "      <td>19</td>\n",
              "      <td>28.846154</td>\n",
              "      <td>3.361977</td>\n",
              "      <td>1</td>\n",
              "      <td>0</td>\n",
              "      <td>0</td>\n",
              "      <td>0</td>\n",
              "      <td>1</td>\n",
              "      <td>0</td>\n",
              "      <td>0</td>\n",
              "      <td>...</td>\n",
              "      <td>0</td>\n",
              "      <td>1</td>\n",
              "      <td>22.0</td>\n",
              "      <td>4.84</td>\n",
              "      <td>10.648</td>\n",
              "      <td>23.4256</td>\n",
              "      <td>2015.0</td>\n",
              "      <td>6</td>\n",
              "      <td>9470.0</td>\n",
              "      <td>22</td>\n",
              "    </tr>\n",
              "    <tr>\n",
              "      <th>...</th>\n",
              "      <td>...</td>\n",
              "      <td>...</td>\n",
              "      <td>...</td>\n",
              "      <td>...</td>\n",
              "      <td>...</td>\n",
              "      <td>...</td>\n",
              "      <td>...</td>\n",
              "      <td>...</td>\n",
              "      <td>...</td>\n",
              "      <td>...</td>\n",
              "      <td>...</td>\n",
              "      <td>...</td>\n",
              "      <td>...</td>\n",
              "      <td>...</td>\n",
              "      <td>...</td>\n",
              "      <td>...</td>\n",
              "      <td>...</td>\n",
              "      <td>...</td>\n",
              "      <td>...</td>\n",
              "      <td>...</td>\n",
              "      <td>...</td>\n",
              "    </tr>\n",
              "    <tr>\n",
              "      <th>5145</th>\n",
              "      <td>32620</td>\n",
              "      <td>14.769231</td>\n",
              "      <td>2.692546</td>\n",
              "      <td>0</td>\n",
              "      <td>0</td>\n",
              "      <td>0</td>\n",
              "      <td>0</td>\n",
              "      <td>1</td>\n",
              "      <td>0</td>\n",
              "      <td>0</td>\n",
              "      <td>...</td>\n",
              "      <td>1</td>\n",
              "      <td>0</td>\n",
              "      <td>9.0</td>\n",
              "      <td>0.81</td>\n",
              "      <td>0.729</td>\n",
              "      <td>0.6561</td>\n",
              "      <td>4700.0</td>\n",
              "      <td>16</td>\n",
              "      <td>4970.0</td>\n",
              "      <td>9</td>\n",
              "    </tr>\n",
              "    <tr>\n",
              "      <th>5146</th>\n",
              "      <td>32624</td>\n",
              "      <td>23.076923</td>\n",
              "      <td>3.138833</td>\n",
              "      <td>1</td>\n",
              "      <td>0</td>\n",
              "      <td>0</td>\n",
              "      <td>1</td>\n",
              "      <td>0</td>\n",
              "      <td>0</td>\n",
              "      <td>0</td>\n",
              "      <td>...</td>\n",
              "      <td>1</td>\n",
              "      <td>0</td>\n",
              "      <td>12.0</td>\n",
              "      <td>1.44</td>\n",
              "      <td>1.728</td>\n",
              "      <td>2.0736</td>\n",
              "      <td>4110.0</td>\n",
              "      <td>13</td>\n",
              "      <td>8680.0</td>\n",
              "      <td>20</td>\n",
              "    </tr>\n",
              "    <tr>\n",
              "      <th>5147</th>\n",
              "      <td>32626</td>\n",
              "      <td>38.461538</td>\n",
              "      <td>3.649659</td>\n",
              "      <td>0</td>\n",
              "      <td>0</td>\n",
              "      <td>0</td>\n",
              "      <td>0</td>\n",
              "      <td>0</td>\n",
              "      <td>1</td>\n",
              "      <td>0</td>\n",
              "      <td>...</td>\n",
              "      <td>1</td>\n",
              "      <td>0</td>\n",
              "      <td>11.0</td>\n",
              "      <td>1.21</td>\n",
              "      <td>1.331</td>\n",
              "      <td>1.4641</td>\n",
              "      <td>1550.0</td>\n",
              "      <td>4</td>\n",
              "      <td>3680.0</td>\n",
              "      <td>6</td>\n",
              "    </tr>\n",
              "    <tr>\n",
              "      <th>5148</th>\n",
              "      <td>32631</td>\n",
              "      <td>32.967033</td>\n",
              "      <td>3.495508</td>\n",
              "      <td>0</td>\n",
              "      <td>0</td>\n",
              "      <td>1</td>\n",
              "      <td>0</td>\n",
              "      <td>0</td>\n",
              "      <td>0</td>\n",
              "      <td>0</td>\n",
              "      <td>...</td>\n",
              "      <td>1</td>\n",
              "      <td>0</td>\n",
              "      <td>10.0</td>\n",
              "      <td>1.00</td>\n",
              "      <td>1.000</td>\n",
              "      <td>1.0000</td>\n",
              "      <td>2920.0</td>\n",
              "      <td>9</td>\n",
              "      <td>6570.0</td>\n",
              "      <td>11</td>\n",
              "    </tr>\n",
              "    <tr>\n",
              "      <th>5149</th>\n",
              "      <td>32643</td>\n",
              "      <td>17.307692</td>\n",
              "      <td>2.851151</td>\n",
              "      <td>0</td>\n",
              "      <td>0</td>\n",
              "      <td>0</td>\n",
              "      <td>0</td>\n",
              "      <td>0</td>\n",
              "      <td>1</td>\n",
              "      <td>0</td>\n",
              "      <td>...</td>\n",
              "      <td>1</td>\n",
              "      <td>0</td>\n",
              "      <td>14.0</td>\n",
              "      <td>1.96</td>\n",
              "      <td>2.744</td>\n",
              "      <td>3.8416</td>\n",
              "      <td>1610.0</td>\n",
              "      <td>5</td>\n",
              "      <td>7460.0</td>\n",
              "      <td>14</td>\n",
              "    </tr>\n",
              "  </tbody>\n",
              "</table>\n",
              "<p>5150 rows × 21 columns</p>\n",
              "</div>"
            ],
            "text/plain": [
              "         id    salario     lwage  sex  shs  hsg  scl  clg  ad  mw  ...  we  \\\n",
              "0        10   9.615385  2.263364    1    0    0    0    1   0   0  ...   0   \n",
              "1        12  48.076923  3.872802    0    0    0    0    1   0   0  ...   0   \n",
              "2        15  11.057692  2.403126    0    0    1    0    0   0   0  ...   0   \n",
              "3        18  13.942308  2.634928    1    0    0    0    0   1   0  ...   0   \n",
              "4        19  28.846154  3.361977    1    0    0    0    1   0   0  ...   0   \n",
              "...     ...        ...       ...  ...  ...  ...  ...  ...  ..  ..  ...  ..   \n",
              "5145  32620  14.769231  2.692546    0    0    0    0    1   0   0  ...   1   \n",
              "5146  32624  23.076923  3.138833    1    0    0    1    0   0   0  ...   1   \n",
              "5147  32626  38.461538  3.649659    0    0    0    0    0   1   0  ...   1   \n",
              "5148  32631  32.967033  3.495508    0    0    1    0    0   0   0  ...   1   \n",
              "5149  32643  17.307692  2.851151    0    0    0    0    0   1   0  ...   1   \n",
              "\n",
              "      ne  exp1  exp2    exp3     exp4     occ  occ2     ind  ind2  \n",
              "0      1   7.0  0.49   0.343   0.2401  3600.0    11  8370.0    18  \n",
              "1      1  31.0  9.61  29.791  92.3521  3050.0    10  5070.0     9  \n",
              "2      1  18.0  3.24   5.832  10.4976  6260.0    19   770.0     4  \n",
              "3      1  25.0  6.25  15.625  39.0625   420.0     1  6990.0    12  \n",
              "4      1  22.0  4.84  10.648  23.4256  2015.0     6  9470.0    22  \n",
              "...   ..   ...   ...     ...      ...     ...   ...     ...   ...  \n",
              "5145   0   9.0  0.81   0.729   0.6561  4700.0    16  4970.0     9  \n",
              "5146   0  12.0  1.44   1.728   2.0736  4110.0    13  8680.0    20  \n",
              "5147   0  11.0  1.21   1.331   1.4641  1550.0     4  3680.0     6  \n",
              "5148   0  10.0  1.00   1.000   1.0000  2920.0     9  6570.0    11  \n",
              "5149   0  14.0  1.96   2.744   3.8416  1610.0     5  7460.0    14  \n",
              "\n",
              "[5150 rows x 21 columns]"
            ]
          },
          "execution_count": 252,
          "metadata": {},
          "output_type": "execute_result"
        }
      ],
      "source": [
        "base1 = base1.rename( columns = { \"wage\":'salario', \"Unnamed: 0\":'id'}  )\n",
        "base1"
      ]
    },
    {
      "cell_type": "code",
      "execution_count": null,
      "metadata": {
        "id": "hVhaChBVW5Fz",
        "outputId": "43eac2cd-5f9a-4331-e9ef-40c3b3bed69a"
      },
      "outputs": [
        {
          "data": {
            "text/html": [
              "<div>\n",
              "<style scoped>\n",
              "    .dataframe tbody tr th:only-of-type {\n",
              "        vertical-align: middle;\n",
              "    }\n",
              "\n",
              "    .dataframe tbody tr th {\n",
              "        vertical-align: top;\n",
              "    }\n",
              "\n",
              "    .dataframe thead th {\n",
              "        text-align: right;\n",
              "    }\n",
              "</style>\n",
              "<table border=\"1\" class=\"dataframe\">\n",
              "  <thead>\n",
              "    <tr style=\"text-align: right;\">\n",
              "      <th></th>\n",
              "      <th>salario</th>\n",
              "      <th>lwage</th>\n",
              "      <th>sex</th>\n",
              "      <th>shs</th>\n",
              "      <th>hsg</th>\n",
              "      <th>scl</th>\n",
              "      <th>clg</th>\n",
              "      <th>ad</th>\n",
              "      <th>mw</th>\n",
              "      <th>so</th>\n",
              "      <th>we</th>\n",
              "      <th>ne</th>\n",
              "      <th>exp1</th>\n",
              "      <th>exp2</th>\n",
              "      <th>exp3</th>\n",
              "      <th>exp4</th>\n",
              "      <th>occ</th>\n",
              "      <th>occ2</th>\n",
              "      <th>ind</th>\n",
              "    </tr>\n",
              "  </thead>\n",
              "  <tbody>\n",
              "    <tr>\n",
              "      <th>0</th>\n",
              "      <td>9.615385</td>\n",
              "      <td>2.263364</td>\n",
              "      <td>1</td>\n",
              "      <td>0</td>\n",
              "      <td>0</td>\n",
              "      <td>0</td>\n",
              "      <td>1</td>\n",
              "      <td>0</td>\n",
              "      <td>0</td>\n",
              "      <td>0</td>\n",
              "      <td>0</td>\n",
              "      <td>1</td>\n",
              "      <td>7.0</td>\n",
              "      <td>0.49</td>\n",
              "      <td>0.343</td>\n",
              "      <td>0.2401</td>\n",
              "      <td>3600.0</td>\n",
              "      <td>11</td>\n",
              "      <td>8370.0</td>\n",
              "    </tr>\n",
              "    <tr>\n",
              "      <th>1</th>\n",
              "      <td>48.076923</td>\n",
              "      <td>3.872802</td>\n",
              "      <td>0</td>\n",
              "      <td>0</td>\n",
              "      <td>0</td>\n",
              "      <td>0</td>\n",
              "      <td>1</td>\n",
              "      <td>0</td>\n",
              "      <td>0</td>\n",
              "      <td>0</td>\n",
              "      <td>0</td>\n",
              "      <td>1</td>\n",
              "      <td>31.0</td>\n",
              "      <td>9.61</td>\n",
              "      <td>29.791</td>\n",
              "      <td>92.3521</td>\n",
              "      <td>3050.0</td>\n",
              "      <td>10</td>\n",
              "      <td>5070.0</td>\n",
              "    </tr>\n",
              "    <tr>\n",
              "      <th>2</th>\n",
              "      <td>11.057692</td>\n",
              "      <td>2.403126</td>\n",
              "      <td>0</td>\n",
              "      <td>0</td>\n",
              "      <td>1</td>\n",
              "      <td>0</td>\n",
              "      <td>0</td>\n",
              "      <td>0</td>\n",
              "      <td>0</td>\n",
              "      <td>0</td>\n",
              "      <td>0</td>\n",
              "      <td>1</td>\n",
              "      <td>18.0</td>\n",
              "      <td>3.24</td>\n",
              "      <td>5.832</td>\n",
              "      <td>10.4976</td>\n",
              "      <td>6260.0</td>\n",
              "      <td>19</td>\n",
              "      <td>770.0</td>\n",
              "    </tr>\n",
              "    <tr>\n",
              "      <th>3</th>\n",
              "      <td>13.942308</td>\n",
              "      <td>2.634928</td>\n",
              "      <td>1</td>\n",
              "      <td>0</td>\n",
              "      <td>0</td>\n",
              "      <td>0</td>\n",
              "      <td>0</td>\n",
              "      <td>1</td>\n",
              "      <td>0</td>\n",
              "      <td>0</td>\n",
              "      <td>0</td>\n",
              "      <td>1</td>\n",
              "      <td>25.0</td>\n",
              "      <td>6.25</td>\n",
              "      <td>15.625</td>\n",
              "      <td>39.0625</td>\n",
              "      <td>420.0</td>\n",
              "      <td>1</td>\n",
              "      <td>6990.0</td>\n",
              "    </tr>\n",
              "    <tr>\n",
              "      <th>4</th>\n",
              "      <td>28.846154</td>\n",
              "      <td>3.361977</td>\n",
              "      <td>1</td>\n",
              "      <td>0</td>\n",
              "      <td>0</td>\n",
              "      <td>0</td>\n",
              "      <td>1</td>\n",
              "      <td>0</td>\n",
              "      <td>0</td>\n",
              "      <td>0</td>\n",
              "      <td>0</td>\n",
              "      <td>1</td>\n",
              "      <td>22.0</td>\n",
              "      <td>4.84</td>\n",
              "      <td>10.648</td>\n",
              "      <td>23.4256</td>\n",
              "      <td>2015.0</td>\n",
              "      <td>6</td>\n",
              "      <td>9470.0</td>\n",
              "    </tr>\n",
              "    <tr>\n",
              "      <th>...</th>\n",
              "      <td>...</td>\n",
              "      <td>...</td>\n",
              "      <td>...</td>\n",
              "      <td>...</td>\n",
              "      <td>...</td>\n",
              "      <td>...</td>\n",
              "      <td>...</td>\n",
              "      <td>...</td>\n",
              "      <td>...</td>\n",
              "      <td>...</td>\n",
              "      <td>...</td>\n",
              "      <td>...</td>\n",
              "      <td>...</td>\n",
              "      <td>...</td>\n",
              "      <td>...</td>\n",
              "      <td>...</td>\n",
              "      <td>...</td>\n",
              "      <td>...</td>\n",
              "      <td>...</td>\n",
              "    </tr>\n",
              "    <tr>\n",
              "      <th>5145</th>\n",
              "      <td>14.769231</td>\n",
              "      <td>2.692546</td>\n",
              "      <td>0</td>\n",
              "      <td>0</td>\n",
              "      <td>0</td>\n",
              "      <td>0</td>\n",
              "      <td>1</td>\n",
              "      <td>0</td>\n",
              "      <td>0</td>\n",
              "      <td>0</td>\n",
              "      <td>1</td>\n",
              "      <td>0</td>\n",
              "      <td>9.0</td>\n",
              "      <td>0.81</td>\n",
              "      <td>0.729</td>\n",
              "      <td>0.6561</td>\n",
              "      <td>4700.0</td>\n",
              "      <td>16</td>\n",
              "      <td>4970.0</td>\n",
              "    </tr>\n",
              "    <tr>\n",
              "      <th>5146</th>\n",
              "      <td>23.076923</td>\n",
              "      <td>3.138833</td>\n",
              "      <td>1</td>\n",
              "      <td>0</td>\n",
              "      <td>0</td>\n",
              "      <td>1</td>\n",
              "      <td>0</td>\n",
              "      <td>0</td>\n",
              "      <td>0</td>\n",
              "      <td>0</td>\n",
              "      <td>1</td>\n",
              "      <td>0</td>\n",
              "      <td>12.0</td>\n",
              "      <td>1.44</td>\n",
              "      <td>1.728</td>\n",
              "      <td>2.0736</td>\n",
              "      <td>4110.0</td>\n",
              "      <td>13</td>\n",
              "      <td>8680.0</td>\n",
              "    </tr>\n",
              "    <tr>\n",
              "      <th>5147</th>\n",
              "      <td>38.461538</td>\n",
              "      <td>3.649659</td>\n",
              "      <td>0</td>\n",
              "      <td>0</td>\n",
              "      <td>0</td>\n",
              "      <td>0</td>\n",
              "      <td>0</td>\n",
              "      <td>1</td>\n",
              "      <td>0</td>\n",
              "      <td>0</td>\n",
              "      <td>1</td>\n",
              "      <td>0</td>\n",
              "      <td>11.0</td>\n",
              "      <td>1.21</td>\n",
              "      <td>1.331</td>\n",
              "      <td>1.4641</td>\n",
              "      <td>1550.0</td>\n",
              "      <td>4</td>\n",
              "      <td>3680.0</td>\n",
              "    </tr>\n",
              "    <tr>\n",
              "      <th>5148</th>\n",
              "      <td>32.967033</td>\n",
              "      <td>3.495508</td>\n",
              "      <td>0</td>\n",
              "      <td>0</td>\n",
              "      <td>1</td>\n",
              "      <td>0</td>\n",
              "      <td>0</td>\n",
              "      <td>0</td>\n",
              "      <td>0</td>\n",
              "      <td>0</td>\n",
              "      <td>1</td>\n",
              "      <td>0</td>\n",
              "      <td>10.0</td>\n",
              "      <td>1.00</td>\n",
              "      <td>1.000</td>\n",
              "      <td>1.0000</td>\n",
              "      <td>2920.0</td>\n",
              "      <td>9</td>\n",
              "      <td>6570.0</td>\n",
              "    </tr>\n",
              "    <tr>\n",
              "      <th>5149</th>\n",
              "      <td>17.307692</td>\n",
              "      <td>2.851151</td>\n",
              "      <td>0</td>\n",
              "      <td>0</td>\n",
              "      <td>0</td>\n",
              "      <td>0</td>\n",
              "      <td>0</td>\n",
              "      <td>1</td>\n",
              "      <td>0</td>\n",
              "      <td>0</td>\n",
              "      <td>1</td>\n",
              "      <td>0</td>\n",
              "      <td>14.0</td>\n",
              "      <td>1.96</td>\n",
              "      <td>2.744</td>\n",
              "      <td>3.8416</td>\n",
              "      <td>1610.0</td>\n",
              "      <td>5</td>\n",
              "      <td>7460.0</td>\n",
              "    </tr>\n",
              "  </tbody>\n",
              "</table>\n",
              "<p>5150 rows × 19 columns</p>\n",
              "</div>"
            ],
            "text/plain": [
              "        salario     lwage  sex  shs  hsg  scl  clg  ad  mw  so  we  ne  exp1  \\\n",
              "0      9.615385  2.263364    1    0    0    0    1   0   0   0   0   1   7.0   \n",
              "1     48.076923  3.872802    0    0    0    0    1   0   0   0   0   1  31.0   \n",
              "2     11.057692  2.403126    0    0    1    0    0   0   0   0   0   1  18.0   \n",
              "3     13.942308  2.634928    1    0    0    0    0   1   0   0   0   1  25.0   \n",
              "4     28.846154  3.361977    1    0    0    0    1   0   0   0   0   1  22.0   \n",
              "...         ...       ...  ...  ...  ...  ...  ...  ..  ..  ..  ..  ..   ...   \n",
              "5145  14.769231  2.692546    0    0    0    0    1   0   0   0   1   0   9.0   \n",
              "5146  23.076923  3.138833    1    0    0    1    0   0   0   0   1   0  12.0   \n",
              "5147  38.461538  3.649659    0    0    0    0    0   1   0   0   1   0  11.0   \n",
              "5148  32.967033  3.495508    0    0    1    0    0   0   0   0   1   0  10.0   \n",
              "5149  17.307692  2.851151    0    0    0    0    0   1   0   0   1   0  14.0   \n",
              "\n",
              "      exp2    exp3     exp4     occ  occ2     ind  \n",
              "0     0.49   0.343   0.2401  3600.0    11  8370.0  \n",
              "1     9.61  29.791  92.3521  3050.0    10  5070.0  \n",
              "2     3.24   5.832  10.4976  6260.0    19   770.0  \n",
              "3     6.25  15.625  39.0625   420.0     1  6990.0  \n",
              "4     4.84  10.648  23.4256  2015.0     6  9470.0  \n",
              "...    ...     ...      ...     ...   ...     ...  \n",
              "5145  0.81   0.729   0.6561  4700.0    16  4970.0  \n",
              "5146  1.44   1.728   2.0736  4110.0    13  8680.0  \n",
              "5147  1.21   1.331   1.4641  1550.0     4  3680.0  \n",
              "5148  1.00   1.000   1.0000  2920.0     9  6570.0  \n",
              "5149  1.96   2.744   3.8416  1610.0     5  7460.0  \n",
              "\n",
              "[5150 rows x 19 columns]"
            ]
          },
          "execution_count": 253,
          "metadata": {},
          "output_type": "execute_result"
        }
      ],
      "source": [
        "base1 = base1.drop([\"id\",\"ind2\"], axis=1)\n",
        "base1\n",
        "# axis 1 : columns\n",
        "# axis 0 : rows"
      ]
    },
    {
      "cell_type": "code",
      "execution_count": null,
      "metadata": {
        "id": "Bi3VfVKwW5Fz",
        "outputId": "dd8eb201-5ff2-4a77-d44b-e3b39cf00b29"
      },
      "outputs": [
        {
          "data": {
            "text/html": [
              "<div>\n",
              "<style scoped>\n",
              "    .dataframe tbody tr th:only-of-type {\n",
              "        vertical-align: middle;\n",
              "    }\n",
              "\n",
              "    .dataframe tbody tr th {\n",
              "        vertical-align: top;\n",
              "    }\n",
              "\n",
              "    .dataframe thead th {\n",
              "        text-align: right;\n",
              "    }\n",
              "</style>\n",
              "<table border=\"1\" class=\"dataframe\">\n",
              "  <thead>\n",
              "    <tr style=\"text-align: right;\">\n",
              "      <th></th>\n",
              "      <th>salario</th>\n",
              "      <th>lwage</th>\n",
              "      <th>sex</th>\n",
              "      <th>exp1</th>\n",
              "      <th>ind</th>\n",
              "    </tr>\n",
              "  </thead>\n",
              "  <tbody>\n",
              "    <tr>\n",
              "      <th>0</th>\n",
              "      <td>9.615385</td>\n",
              "      <td>2.263364</td>\n",
              "      <td>1</td>\n",
              "      <td>7.0</td>\n",
              "      <td>8370.0</td>\n",
              "    </tr>\n",
              "    <tr>\n",
              "      <th>1</th>\n",
              "      <td>48.076923</td>\n",
              "      <td>3.872802</td>\n",
              "      <td>0</td>\n",
              "      <td>31.0</td>\n",
              "      <td>5070.0</td>\n",
              "    </tr>\n",
              "    <tr>\n",
              "      <th>2</th>\n",
              "      <td>11.057692</td>\n",
              "      <td>2.403126</td>\n",
              "      <td>0</td>\n",
              "      <td>18.0</td>\n",
              "      <td>770.0</td>\n",
              "    </tr>\n",
              "    <tr>\n",
              "      <th>3</th>\n",
              "      <td>13.942308</td>\n",
              "      <td>2.634928</td>\n",
              "      <td>1</td>\n",
              "      <td>25.0</td>\n",
              "      <td>6990.0</td>\n",
              "    </tr>\n",
              "    <tr>\n",
              "      <th>4</th>\n",
              "      <td>28.846154</td>\n",
              "      <td>3.361977</td>\n",
              "      <td>1</td>\n",
              "      <td>22.0</td>\n",
              "      <td>9470.0</td>\n",
              "    </tr>\n",
              "    <tr>\n",
              "      <th>...</th>\n",
              "      <td>...</td>\n",
              "      <td>...</td>\n",
              "      <td>...</td>\n",
              "      <td>...</td>\n",
              "      <td>...</td>\n",
              "    </tr>\n",
              "    <tr>\n",
              "      <th>5145</th>\n",
              "      <td>14.769231</td>\n",
              "      <td>2.692546</td>\n",
              "      <td>0</td>\n",
              "      <td>9.0</td>\n",
              "      <td>4970.0</td>\n",
              "    </tr>\n",
              "    <tr>\n",
              "      <th>5146</th>\n",
              "      <td>23.076923</td>\n",
              "      <td>3.138833</td>\n",
              "      <td>1</td>\n",
              "      <td>12.0</td>\n",
              "      <td>8680.0</td>\n",
              "    </tr>\n",
              "    <tr>\n",
              "      <th>5147</th>\n",
              "      <td>38.461538</td>\n",
              "      <td>3.649659</td>\n",
              "      <td>0</td>\n",
              "      <td>11.0</td>\n",
              "      <td>3680.0</td>\n",
              "    </tr>\n",
              "    <tr>\n",
              "      <th>5148</th>\n",
              "      <td>32.967033</td>\n",
              "      <td>3.495508</td>\n",
              "      <td>0</td>\n",
              "      <td>10.0</td>\n",
              "      <td>6570.0</td>\n",
              "    </tr>\n",
              "    <tr>\n",
              "      <th>5149</th>\n",
              "      <td>17.307692</td>\n",
              "      <td>2.851151</td>\n",
              "      <td>0</td>\n",
              "      <td>14.0</td>\n",
              "      <td>7460.0</td>\n",
              "    </tr>\n",
              "  </tbody>\n",
              "</table>\n",
              "<p>5150 rows × 5 columns</p>\n",
              "</div>"
            ],
            "text/plain": [
              "        salario     lwage  sex  exp1     ind\n",
              "0      9.615385  2.263364    1   7.0  8370.0\n",
              "1     48.076923  3.872802    0  31.0  5070.0\n",
              "2     11.057692  2.403126    0  18.0   770.0\n",
              "3     13.942308  2.634928    1  25.0  6990.0\n",
              "4     28.846154  3.361977    1  22.0  9470.0\n",
              "...         ...       ...  ...   ...     ...\n",
              "5145  14.769231  2.692546    0   9.0  4970.0\n",
              "5146  23.076923  3.138833    1  12.0  8680.0\n",
              "5147  38.461538  3.649659    0  11.0  3680.0\n",
              "5148  32.967033  3.495508    0  10.0  6570.0\n",
              "5149  17.307692  2.851151    0  14.0  7460.0\n",
              "\n",
              "[5150 rows x 5 columns]"
            ]
          },
          "execution_count": 254,
          "metadata": {},
          "output_type": "execute_result"
        }
      ],
      "source": [
        "base1 = base1.drop([\"we\",\"exp2\",\"exp3\",\"exp4\",\"occ\",\"occ2\",\"shs\",\"hsg\",\"scl\",\"clg\",\"ad\",\"mw\",\"so\",\"ne\"], axis=1)\n",
        "base1"
      ]
    },
    {
      "cell_type": "code",
      "execution_count": null,
      "metadata": {
        "scrolled": false,
        "id": "Ck4-QVpyW5Fz",
        "outputId": "c0a27eea-d2a7-4f0d-baf0-6dcfcbccb435"
      },
      "outputs": [
        {
          "data": {
            "text/html": [
              "<div>\n",
              "<style scoped>\n",
              "    .dataframe tbody tr th:only-of-type {\n",
              "        vertical-align: middle;\n",
              "    }\n",
              "\n",
              "    .dataframe tbody tr th {\n",
              "        vertical-align: top;\n",
              "    }\n",
              "\n",
              "    .dataframe thead th {\n",
              "        text-align: right;\n",
              "    }\n",
              "</style>\n",
              "<table border=\"1\" class=\"dataframe\">\n",
              "  <thead>\n",
              "    <tr style=\"text-align: right;\">\n",
              "      <th></th>\n",
              "      <th>salario</th>\n",
              "      <th>lwage</th>\n",
              "      <th>sex</th>\n",
              "      <th>exp1</th>\n",
              "      <th>ind</th>\n",
              "    </tr>\n",
              "  </thead>\n",
              "  <tbody>\n",
              "    <tr>\n",
              "      <th>0</th>\n",
              "      <td>9.615385</td>\n",
              "      <td>2.263364</td>\n",
              "      <td>1</td>\n",
              "      <td>7.0</td>\n",
              "      <td>8370.0</td>\n",
              "    </tr>\n",
              "    <tr>\n",
              "      <th>2</th>\n",
              "      <td>11.057692</td>\n",
              "      <td>2.403126</td>\n",
              "      <td>0</td>\n",
              "      <td>18.0</td>\n",
              "      <td>770.0</td>\n",
              "    </tr>\n",
              "    <tr>\n",
              "      <th>4</th>\n",
              "      <td>28.846154</td>\n",
              "      <td>3.361977</td>\n",
              "      <td>1</td>\n",
              "      <td>22.0</td>\n",
              "      <td>9470.0</td>\n",
              "    </tr>\n",
              "    <tr>\n",
              "      <th>5</th>\n",
              "      <td>11.730769</td>\n",
              "      <td>2.462215</td>\n",
              "      <td>1</td>\n",
              "      <td>1.0</td>\n",
              "      <td>7460.0</td>\n",
              "    </tr>\n",
              "    <tr>\n",
              "      <th>6</th>\n",
              "      <td>19.230769</td>\n",
              "      <td>2.956512</td>\n",
              "      <td>1</td>\n",
              "      <td>42.0</td>\n",
              "      <td>7280.0</td>\n",
              "    </tr>\n",
              "    <tr>\n",
              "      <th>...</th>\n",
              "      <td>...</td>\n",
              "      <td>...</td>\n",
              "      <td>...</td>\n",
              "      <td>...</td>\n",
              "      <td>...</td>\n",
              "    </tr>\n",
              "    <tr>\n",
              "      <th>5145</th>\n",
              "      <td>14.769231</td>\n",
              "      <td>2.692546</td>\n",
              "      <td>0</td>\n",
              "      <td>9.0</td>\n",
              "      <td>4970.0</td>\n",
              "    </tr>\n",
              "    <tr>\n",
              "      <th>5146</th>\n",
              "      <td>23.076923</td>\n",
              "      <td>3.138833</td>\n",
              "      <td>1</td>\n",
              "      <td>12.0</td>\n",
              "      <td>8680.0</td>\n",
              "    </tr>\n",
              "    <tr>\n",
              "      <th>5147</th>\n",
              "      <td>38.461538</td>\n",
              "      <td>3.649659</td>\n",
              "      <td>0</td>\n",
              "      <td>11.0</td>\n",
              "      <td>3680.0</td>\n",
              "    </tr>\n",
              "    <tr>\n",
              "      <th>5148</th>\n",
              "      <td>32.967033</td>\n",
              "      <td>3.495508</td>\n",
              "      <td>0</td>\n",
              "      <td>10.0</td>\n",
              "      <td>6570.0</td>\n",
              "    </tr>\n",
              "    <tr>\n",
              "      <th>5149</th>\n",
              "      <td>17.307692</td>\n",
              "      <td>2.851151</td>\n",
              "      <td>0</td>\n",
              "      <td>14.0</td>\n",
              "      <td>7460.0</td>\n",
              "    </tr>\n",
              "  </tbody>\n",
              "</table>\n",
              "<p>5148 rows × 5 columns</p>\n",
              "</div>"
            ],
            "text/plain": [
              "        salario     lwage  sex  exp1     ind\n",
              "0      9.615385  2.263364    1   7.0  8370.0\n",
              "2     11.057692  2.403126    0  18.0   770.0\n",
              "4     28.846154  3.361977    1  22.0  9470.0\n",
              "5     11.730769  2.462215    1   1.0  7460.0\n",
              "6     19.230769  2.956512    1  42.0  7280.0\n",
              "...         ...       ...  ...   ...     ...\n",
              "5145  14.769231  2.692546    0   9.0  4970.0\n",
              "5146  23.076923  3.138833    1  12.0  8680.0\n",
              "5147  38.461538  3.649659    0  11.0  3680.0\n",
              "5148  32.967033  3.495508    0  10.0  6570.0\n",
              "5149  17.307692  2.851151    0  14.0  7460.0\n",
              "\n",
              "[5148 rows x 5 columns]"
            ]
          },
          "execution_count": 255,
          "metadata": {},
          "output_type": "execute_result"
        }
      ],
      "source": [
        "# row 1 and 3\n",
        "base1.drop([1,3], axis = 0)"
      ]
    },
    {
      "cell_type": "markdown",
      "metadata": {
        "id": "Pqf4g7DwW5Fz"
      },
      "source": [
        "## Slicing  dataframe"
      ]
    },
    {
      "cell_type": "code",
      "execution_count": null,
      "metadata": {
        "id": "Od4SLKuHW5Fz",
        "outputId": "094f4102-d699-4fc0-ce8c-82c7dc28f214"
      },
      "outputs": [
        {
          "data": {
            "text/html": [
              "<div>\n",
              "<style scoped>\n",
              "    .dataframe tbody tr th:only-of-type {\n",
              "        vertical-align: middle;\n",
              "    }\n",
              "\n",
              "    .dataframe tbody tr th {\n",
              "        vertical-align: top;\n",
              "    }\n",
              "\n",
              "    .dataframe thead th {\n",
              "        text-align: right;\n",
              "    }\n",
              "</style>\n",
              "<table border=\"1\" class=\"dataframe\">\n",
              "  <thead>\n",
              "    <tr style=\"text-align: right;\">\n",
              "      <th></th>\n",
              "      <th>salario</th>\n",
              "      <th>lwage</th>\n",
              "      <th>sex</th>\n",
              "      <th>exp1</th>\n",
              "      <th>ind</th>\n",
              "    </tr>\n",
              "  </thead>\n",
              "  <tbody>\n",
              "    <tr>\n",
              "      <th>0</th>\n",
              "      <td>9.615385</td>\n",
              "      <td>2.263364</td>\n",
              "      <td>1</td>\n",
              "      <td>7.0</td>\n",
              "      <td>8370.0</td>\n",
              "    </tr>\n",
              "    <tr>\n",
              "      <th>1</th>\n",
              "      <td>48.076923</td>\n",
              "      <td>3.872802</td>\n",
              "      <td>0</td>\n",
              "      <td>31.0</td>\n",
              "      <td>5070.0</td>\n",
              "    </tr>\n",
              "    <tr>\n",
              "      <th>2</th>\n",
              "      <td>11.057692</td>\n",
              "      <td>2.403126</td>\n",
              "      <td>0</td>\n",
              "      <td>18.0</td>\n",
              "      <td>770.0</td>\n",
              "    </tr>\n",
              "    <tr>\n",
              "      <th>3</th>\n",
              "      <td>13.942308</td>\n",
              "      <td>2.634928</td>\n",
              "      <td>1</td>\n",
              "      <td>25.0</td>\n",
              "      <td>6990.0</td>\n",
              "    </tr>\n",
              "    <tr>\n",
              "      <th>4</th>\n",
              "      <td>28.846154</td>\n",
              "      <td>3.361977</td>\n",
              "      <td>1</td>\n",
              "      <td>22.0</td>\n",
              "      <td>9470.0</td>\n",
              "    </tr>\n",
              "    <tr>\n",
              "      <th>5</th>\n",
              "      <td>11.730769</td>\n",
              "      <td>2.462215</td>\n",
              "      <td>1</td>\n",
              "      <td>1.0</td>\n",
              "      <td>7460.0</td>\n",
              "    </tr>\n",
              "  </tbody>\n",
              "</table>\n",
              "</div>"
            ],
            "text/plain": [
              "     salario     lwage  sex  exp1     ind\n",
              "0   9.615385  2.263364    1   7.0  8370.0\n",
              "1  48.076923  3.872802    0  31.0  5070.0\n",
              "2  11.057692  2.403126    0  18.0   770.0\n",
              "3  13.942308  2.634928    1  25.0  6990.0\n",
              "4  28.846154  3.361977    1  22.0  9470.0\n",
              "5  11.730769  2.462215    1   1.0  7460.0"
            ]
          },
          "execution_count": 256,
          "metadata": {},
          "output_type": "execute_result"
        }
      ],
      "source": [
        "#select rows using positions\n",
        "base1.iloc[0:6]"
      ]
    },
    {
      "cell_type": "code",
      "execution_count": null,
      "metadata": {
        "id": "F-AwtLXXW5Fz",
        "outputId": "378c401c-0d81-4fd6-9ccf-448bb5303e34"
      },
      "outputs": [
        {
          "data": {
            "text/html": [
              "<div>\n",
              "<style scoped>\n",
              "    .dataframe tbody tr th:only-of-type {\n",
              "        vertical-align: middle;\n",
              "    }\n",
              "\n",
              "    .dataframe tbody tr th {\n",
              "        vertical-align: top;\n",
              "    }\n",
              "\n",
              "    .dataframe thead th {\n",
              "        text-align: right;\n",
              "    }\n",
              "</style>\n",
              "<table border=\"1\" class=\"dataframe\">\n",
              "  <thead>\n",
              "    <tr style=\"text-align: right;\">\n",
              "      <th></th>\n",
              "      <th>salario</th>\n",
              "      <th>lwage</th>\n",
              "    </tr>\n",
              "  </thead>\n",
              "  <tbody>\n",
              "    <tr>\n",
              "      <th>0</th>\n",
              "      <td>9.615385</td>\n",
              "      <td>2.263364</td>\n",
              "    </tr>\n",
              "    <tr>\n",
              "      <th>1</th>\n",
              "      <td>48.076923</td>\n",
              "      <td>3.872802</td>\n",
              "    </tr>\n",
              "    <tr>\n",
              "      <th>2</th>\n",
              "      <td>11.057692</td>\n",
              "      <td>2.403126</td>\n",
              "    </tr>\n",
              "    <tr>\n",
              "      <th>3</th>\n",
              "      <td>13.942308</td>\n",
              "      <td>2.634928</td>\n",
              "    </tr>\n",
              "    <tr>\n",
              "      <th>4</th>\n",
              "      <td>28.846154</td>\n",
              "      <td>3.361977</td>\n",
              "    </tr>\n",
              "    <tr>\n",
              "      <th>...</th>\n",
              "      <td>...</td>\n",
              "      <td>...</td>\n",
              "    </tr>\n",
              "    <tr>\n",
              "      <th>5145</th>\n",
              "      <td>14.769231</td>\n",
              "      <td>2.692546</td>\n",
              "    </tr>\n",
              "    <tr>\n",
              "      <th>5146</th>\n",
              "      <td>23.076923</td>\n",
              "      <td>3.138833</td>\n",
              "    </tr>\n",
              "    <tr>\n",
              "      <th>5147</th>\n",
              "      <td>38.461538</td>\n",
              "      <td>3.649659</td>\n",
              "    </tr>\n",
              "    <tr>\n",
              "      <th>5148</th>\n",
              "      <td>32.967033</td>\n",
              "      <td>3.495508</td>\n",
              "    </tr>\n",
              "    <tr>\n",
              "      <th>5149</th>\n",
              "      <td>17.307692</td>\n",
              "      <td>2.851151</td>\n",
              "    </tr>\n",
              "  </tbody>\n",
              "</table>\n",
              "<p>5150 rows × 2 columns</p>\n",
              "</div>"
            ],
            "text/plain": [
              "        salario     lwage\n",
              "0      9.615385  2.263364\n",
              "1     48.076923  3.872802\n",
              "2     11.057692  2.403126\n",
              "3     13.942308  2.634928\n",
              "4     28.846154  3.361977\n",
              "...         ...       ...\n",
              "5145  14.769231  2.692546\n",
              "5146  23.076923  3.138833\n",
              "5147  38.461538  3.649659\n",
              "5148  32.967033  3.495508\n",
              "5149  17.307692  2.851151\n",
              "\n",
              "[5150 rows x 2 columns]"
            ]
          },
          "execution_count": 235,
          "metadata": {},
          "output_type": "execute_result"
        }
      ],
      "source": [
        "# row index and columns names\n",
        "\n",
        "base1.loc[:,['salario', 'lwage']]"
      ]
    },
    {
      "cell_type": "code",
      "execution_count": null,
      "metadata": {
        "id": "VIhFt4h_W5Fz"
      },
      "outputs": [],
      "source": [
        "base3 = base1[['lwage','salario']]"
      ]
    },
    {
      "cell_type": "code",
      "execution_count": null,
      "metadata": {
        "id": "Oc73V91bW5Fz",
        "outputId": "5d0375e3-c050-4a58-b0eb-6fe86efffad8"
      },
      "outputs": [
        {
          "data": {
            "text/html": [
              "<div>\n",
              "<style scoped>\n",
              "    .dataframe tbody tr th:only-of-type {\n",
              "        vertical-align: middle;\n",
              "    }\n",
              "\n",
              "    .dataframe tbody tr th {\n",
              "        vertical-align: top;\n",
              "    }\n",
              "\n",
              "    .dataframe thead th {\n",
              "        text-align: right;\n",
              "    }\n",
              "</style>\n",
              "<table border=\"1\" class=\"dataframe\">\n",
              "  <thead>\n",
              "    <tr style=\"text-align: right;\">\n",
              "      <th></th>\n",
              "      <th>lwage</th>\n",
              "      <th>salario</th>\n",
              "    </tr>\n",
              "  </thead>\n",
              "  <tbody>\n",
              "    <tr>\n",
              "      <th>0</th>\n",
              "      <td>2.263364</td>\n",
              "      <td>9.615385</td>\n",
              "    </tr>\n",
              "    <tr>\n",
              "      <th>1</th>\n",
              "      <td>3.872802</td>\n",
              "      <td>48.076923</td>\n",
              "    </tr>\n",
              "    <tr>\n",
              "      <th>2</th>\n",
              "      <td>2.403126</td>\n",
              "      <td>11.057692</td>\n",
              "    </tr>\n",
              "    <tr>\n",
              "      <th>3</th>\n",
              "      <td>2.634928</td>\n",
              "      <td>13.942308</td>\n",
              "    </tr>\n",
              "    <tr>\n",
              "      <th>4</th>\n",
              "      <td>3.361977</td>\n",
              "      <td>28.846154</td>\n",
              "    </tr>\n",
              "    <tr>\n",
              "      <th>...</th>\n",
              "      <td>...</td>\n",
              "      <td>...</td>\n",
              "    </tr>\n",
              "    <tr>\n",
              "      <th>5145</th>\n",
              "      <td>2.692546</td>\n",
              "      <td>14.769231</td>\n",
              "    </tr>\n",
              "    <tr>\n",
              "      <th>5146</th>\n",
              "      <td>3.138833</td>\n",
              "      <td>23.076923</td>\n",
              "    </tr>\n",
              "    <tr>\n",
              "      <th>5147</th>\n",
              "      <td>3.649659</td>\n",
              "      <td>38.461538</td>\n",
              "    </tr>\n",
              "    <tr>\n",
              "      <th>5148</th>\n",
              "      <td>3.495508</td>\n",
              "      <td>32.967033</td>\n",
              "    </tr>\n",
              "    <tr>\n",
              "      <th>5149</th>\n",
              "      <td>2.851151</td>\n",
              "      <td>17.307692</td>\n",
              "    </tr>\n",
              "  </tbody>\n",
              "</table>\n",
              "<p>5150 rows × 2 columns</p>\n",
              "</div>"
            ],
            "text/plain": [
              "         lwage    salario\n",
              "0     2.263364   9.615385\n",
              "1     3.872802  48.076923\n",
              "2     2.403126  11.057692\n",
              "3     2.634928  13.942308\n",
              "4     3.361977  28.846154\n",
              "...        ...        ...\n",
              "5145  2.692546  14.769231\n",
              "5146  3.138833  23.076923\n",
              "5147  3.649659  38.461538\n",
              "5148  3.495508  32.967033\n",
              "5149  2.851151  17.307692\n",
              "\n",
              "[5150 rows x 2 columns]"
            ]
          },
          "execution_count": 237,
          "metadata": {},
          "output_type": "execute_result"
        }
      ],
      "source": [
        "base3"
      ]
    },
    {
      "cell_type": "code",
      "execution_count": null,
      "metadata": {
        "id": "BIT4Rs9tW5F0",
        "outputId": "589035b3-bad7-4b80-d2f8-44131e20fe0e"
      },
      "outputs": [
        {
          "data": {
            "text/html": [
              "<div>\n",
              "<style scoped>\n",
              "    .dataframe tbody tr th:only-of-type {\n",
              "        vertical-align: middle;\n",
              "    }\n",
              "\n",
              "    .dataframe tbody tr th {\n",
              "        vertical-align: top;\n",
              "    }\n",
              "\n",
              "    .dataframe thead th {\n",
              "        text-align: right;\n",
              "    }\n",
              "</style>\n",
              "<table border=\"1\" class=\"dataframe\">\n",
              "  <thead>\n",
              "    <tr style=\"text-align: right;\">\n",
              "      <th></th>\n",
              "      <th>year</th>\n",
              "      <th>state</th>\n",
              "      <th>pop</th>\n",
              "      <th>debt</th>\n",
              "    </tr>\n",
              "  </thead>\n",
              "  <tbody>\n",
              "    <tr>\n",
              "      <th>one</th>\n",
              "      <td>2000</td>\n",
              "      <td>Lima</td>\n",
              "      <td>1.5</td>\n",
              "      <td>NaN</td>\n",
              "    </tr>\n",
              "    <tr>\n",
              "      <th>two</th>\n",
              "      <td>2001</td>\n",
              "      <td>Piura</td>\n",
              "      <td>1.7</td>\n",
              "      <td>NaN</td>\n",
              "    </tr>\n",
              "  </tbody>\n",
              "</table>\n",
              "</div>"
            ],
            "text/plain": [
              "     year  state  pop debt\n",
              "one  2000   Lima  1.5  NaN\n",
              "two  2001  Piura  1.7  NaN"
            ]
          },
          "execution_count": 196,
          "metadata": {},
          "output_type": "execute_result"
        }
      ],
      "source": [
        "#frame.loc[['one','two']] #selecion for labels\n",
        "\n",
        "#frame.iloc[0:2] #selection for numbers of rows"
      ]
    },
    {
      "cell_type": "code",
      "execution_count": null,
      "metadata": {
        "id": "5D2eI3uXW5F0",
        "outputId": "f9f6ec8e-1162-4d02-b7af-24ec37421b05"
      },
      "outputs": [
        {
          "data": {
            "text/html": [
              "<div>\n",
              "<style scoped>\n",
              "    .dataframe tbody tr th:only-of-type {\n",
              "        vertical-align: middle;\n",
              "    }\n",
              "\n",
              "    .dataframe tbody tr th {\n",
              "        vertical-align: top;\n",
              "    }\n",
              "\n",
              "    .dataframe thead th {\n",
              "        text-align: right;\n",
              "    }\n",
              "</style>\n",
              "<table border=\"1\" class=\"dataframe\">\n",
              "  <thead>\n",
              "    <tr style=\"text-align: right;\">\n",
              "      <th></th>\n",
              "      <th>salario</th>\n",
              "      <th>lwage</th>\n",
              "      <th>sex</th>\n",
              "      <th>exp1</th>\n",
              "      <th>exp2</th>\n",
              "      <th>ind</th>\n",
              "    </tr>\n",
              "  </thead>\n",
              "  <tbody>\n",
              "    <tr>\n",
              "      <th>0</th>\n",
              "      <td>9.615385</td>\n",
              "      <td>2.263364</td>\n",
              "      <td>1</td>\n",
              "      <td>7.0</td>\n",
              "      <td>0.49</td>\n",
              "      <td>8370.0</td>\n",
              "    </tr>\n",
              "    <tr>\n",
              "      <th>3</th>\n",
              "      <td>13.942308</td>\n",
              "      <td>2.634928</td>\n",
              "      <td>1</td>\n",
              "      <td>25.0</td>\n",
              "      <td>6.25</td>\n",
              "      <td>6990.0</td>\n",
              "    </tr>\n",
              "    <tr>\n",
              "      <th>4</th>\n",
              "      <td>28.846154</td>\n",
              "      <td>3.361977</td>\n",
              "      <td>1</td>\n",
              "      <td>22.0</td>\n",
              "      <td>4.84</td>\n",
              "      <td>9470.0</td>\n",
              "    </tr>\n",
              "    <tr>\n",
              "      <th>5</th>\n",
              "      <td>11.730769</td>\n",
              "      <td>2.462215</td>\n",
              "      <td>1</td>\n",
              "      <td>1.0</td>\n",
              "      <td>0.01</td>\n",
              "      <td>7460.0</td>\n",
              "    </tr>\n",
              "    <tr>\n",
              "      <th>6</th>\n",
              "      <td>19.230769</td>\n",
              "      <td>2.956512</td>\n",
              "      <td>1</td>\n",
              "      <td>42.0</td>\n",
              "      <td>17.64</td>\n",
              "      <td>7280.0</td>\n",
              "    </tr>\n",
              "    <tr>\n",
              "      <th>...</th>\n",
              "      <td>...</td>\n",
              "      <td>...</td>\n",
              "      <td>...</td>\n",
              "      <td>...</td>\n",
              "      <td>...</td>\n",
              "      <td>...</td>\n",
              "    </tr>\n",
              "    <tr>\n",
              "      <th>5137</th>\n",
              "      <td>13.461538</td>\n",
              "      <td>2.599837</td>\n",
              "      <td>1</td>\n",
              "      <td>8.0</td>\n",
              "      <td>0.64</td>\n",
              "      <td>8590.0</td>\n",
              "    </tr>\n",
              "    <tr>\n",
              "      <th>5138</th>\n",
              "      <td>19.711538</td>\n",
              "      <td>2.981204</td>\n",
              "      <td>1</td>\n",
              "      <td>8.0</td>\n",
              "      <td>0.64</td>\n",
              "      <td>8090.0</td>\n",
              "    </tr>\n",
              "    <tr>\n",
              "      <th>5140</th>\n",
              "      <td>45.546559</td>\n",
              "      <td>3.818735</td>\n",
              "      <td>1</td>\n",
              "      <td>5.0</td>\n",
              "      <td>0.25</td>\n",
              "      <td>8190.0</td>\n",
              "    </tr>\n",
              "    <tr>\n",
              "      <th>5143</th>\n",
              "      <td>24.038462</td>\n",
              "      <td>3.179655</td>\n",
              "      <td>1</td>\n",
              "      <td>17.0</td>\n",
              "      <td>2.89</td>\n",
              "      <td>9480.0</td>\n",
              "    </tr>\n",
              "    <tr>\n",
              "      <th>5146</th>\n",
              "      <td>23.076923</td>\n",
              "      <td>3.138833</td>\n",
              "      <td>1</td>\n",
              "      <td>12.0</td>\n",
              "      <td>1.44</td>\n",
              "      <td>8680.0</td>\n",
              "    </tr>\n",
              "  </tbody>\n",
              "</table>\n",
              "<p>2289 rows × 6 columns</p>\n",
              "</div>"
            ],
            "text/plain": [
              "        salario     lwage  sex  exp1   exp2     ind\n",
              "0      9.615385  2.263364    1   7.0   0.49  8370.0\n",
              "3     13.942308  2.634928    1  25.0   6.25  6990.0\n",
              "4     28.846154  3.361977    1  22.0   4.84  9470.0\n",
              "5     11.730769  2.462215    1   1.0   0.01  7460.0\n",
              "6     19.230769  2.956512    1  42.0  17.64  7280.0\n",
              "...         ...       ...  ...   ...    ...     ...\n",
              "5137  13.461538  2.599837    1   8.0   0.64  8590.0\n",
              "5138  19.711538  2.981204    1   8.0   0.64  8090.0\n",
              "5140  45.546559  3.818735    1   5.0   0.25  8190.0\n",
              "5143  24.038462  3.179655    1  17.0   2.89  9480.0\n",
              "5146  23.076923  3.138833    1  12.0   1.44  8680.0\n",
              "\n",
              "[2289 rows x 6 columns]"
            ]
          },
          "execution_count": 238,
          "metadata": {},
          "output_type": "execute_result"
        }
      ],
      "source": [
        "base1[base1['sex']==1]"
      ]
    },
    {
      "cell_type": "code",
      "execution_count": null,
      "metadata": {
        "id": "5GfQGoHXW5F0",
        "outputId": "0468ee62-50d2-4c6d-fbfa-9eadad1cabe9"
      },
      "outputs": [
        {
          "data": {
            "text/html": [
              "<div>\n",
              "<style scoped>\n",
              "    .dataframe tbody tr th:only-of-type {\n",
              "        vertical-align: middle;\n",
              "    }\n",
              "\n",
              "    .dataframe tbody tr th {\n",
              "        vertical-align: top;\n",
              "    }\n",
              "\n",
              "    .dataframe thead th {\n",
              "        text-align: right;\n",
              "    }\n",
              "</style>\n",
              "<table border=\"1\" class=\"dataframe\">\n",
              "  <thead>\n",
              "    <tr style=\"text-align: right;\">\n",
              "      <th></th>\n",
              "      <th>salario</th>\n",
              "      <th>lwage</th>\n",
              "      <th>sex</th>\n",
              "      <th>exp1</th>\n",
              "      <th>exp2</th>\n",
              "      <th>ind</th>\n",
              "    </tr>\n",
              "  </thead>\n",
              "  <tbody>\n",
              "    <tr>\n",
              "      <th>1</th>\n",
              "      <td>48.076923</td>\n",
              "      <td>3.872802</td>\n",
              "      <td>0</td>\n",
              "      <td>31.0</td>\n",
              "      <td>9.6100</td>\n",
              "      <td>5070.0</td>\n",
              "    </tr>\n",
              "    <tr>\n",
              "      <th>2</th>\n",
              "      <td>11.057692</td>\n",
              "      <td>2.403126</td>\n",
              "      <td>0</td>\n",
              "      <td>18.0</td>\n",
              "      <td>3.2400</td>\n",
              "      <td>770.0</td>\n",
              "    </tr>\n",
              "    <tr>\n",
              "      <th>3</th>\n",
              "      <td>13.942308</td>\n",
              "      <td>2.634928</td>\n",
              "      <td>1</td>\n",
              "      <td>25.0</td>\n",
              "      <td>6.2500</td>\n",
              "      <td>6990.0</td>\n",
              "    </tr>\n",
              "    <tr>\n",
              "      <th>4</th>\n",
              "      <td>28.846154</td>\n",
              "      <td>3.361977</td>\n",
              "      <td>1</td>\n",
              "      <td>22.0</td>\n",
              "      <td>4.8400</td>\n",
              "      <td>9470.0</td>\n",
              "    </tr>\n",
              "    <tr>\n",
              "      <th>6</th>\n",
              "      <td>19.230769</td>\n",
              "      <td>2.956512</td>\n",
              "      <td>1</td>\n",
              "      <td>42.0</td>\n",
              "      <td>17.6400</td>\n",
              "      <td>7280.0</td>\n",
              "    </tr>\n",
              "    <tr>\n",
              "      <th>7</th>\n",
              "      <td>19.230769</td>\n",
              "      <td>2.956512</td>\n",
              "      <td>0</td>\n",
              "      <td>37.0</td>\n",
              "      <td>13.6900</td>\n",
              "      <td>5680.0</td>\n",
              "    </tr>\n",
              "    <tr>\n",
              "      <th>8</th>\n",
              "      <td>12.000000</td>\n",
              "      <td>2.484907</td>\n",
              "      <td>1</td>\n",
              "      <td>31.0</td>\n",
              "      <td>9.6100</td>\n",
              "      <td>8590.0</td>\n",
              "    </tr>\n",
              "    <tr>\n",
              "      <th>11</th>\n",
              "      <td>12.019231</td>\n",
              "      <td>2.486508</td>\n",
              "      <td>0</td>\n",
              "      <td>30.0</td>\n",
              "      <td>9.0000</td>\n",
              "      <td>8270.0</td>\n",
              "    </tr>\n",
              "    <tr>\n",
              "      <th>13</th>\n",
              "      <td>13.461538</td>\n",
              "      <td>2.599837</td>\n",
              "      <td>1</td>\n",
              "      <td>20.5</td>\n",
              "      <td>4.2025</td>\n",
              "      <td>8190.0</td>\n",
              "    </tr>\n",
              "    <tr>\n",
              "      <th>14</th>\n",
              "      <td>16.346154</td>\n",
              "      <td>2.793993</td>\n",
              "      <td>1</td>\n",
              "      <td>25.0</td>\n",
              "      <td>6.2500</td>\n",
              "      <td>7870.0</td>\n",
              "    </tr>\n",
              "  </tbody>\n",
              "</table>\n",
              "</div>"
            ],
            "text/plain": [
              "      salario     lwage  sex  exp1     exp2     ind\n",
              "1   48.076923  3.872802    0  31.0   9.6100  5070.0\n",
              "2   11.057692  2.403126    0  18.0   3.2400   770.0\n",
              "3   13.942308  2.634928    1  25.0   6.2500  6990.0\n",
              "4   28.846154  3.361977    1  22.0   4.8400  9470.0\n",
              "6   19.230769  2.956512    1  42.0  17.6400  7280.0\n",
              "7   19.230769  2.956512    0  37.0  13.6900  5680.0\n",
              "8   12.000000  2.484907    1  31.0   9.6100  8590.0\n",
              "11  12.019231  2.486508    0  30.0   9.0000  8270.0\n",
              "13  13.461538  2.599837    1  20.5   4.2025  8190.0\n",
              "14  16.346154  2.793993    1  25.0   6.2500  7870.0"
            ]
          },
          "execution_count": 239,
          "metadata": {},
          "output_type": "execute_result"
        }
      ],
      "source": [
        "base1[base1.exp1 > 10].head(10)"
      ]
    },
    {
      "cell_type": "code",
      "execution_count": null,
      "metadata": {
        "id": "a-X1uQaqW5F0",
        "outputId": "608e682f-d33d-4edf-a23f-73e6e6d593f0"
      },
      "outputs": [
        {
          "data": {
            "text/html": [
              "<div>\n",
              "<style scoped>\n",
              "    .dataframe tbody tr th:only-of-type {\n",
              "        vertical-align: middle;\n",
              "    }\n",
              "\n",
              "    .dataframe tbody tr th {\n",
              "        vertical-align: top;\n",
              "    }\n",
              "\n",
              "    .dataframe thead th {\n",
              "        text-align: right;\n",
              "    }\n",
              "</style>\n",
              "<table border=\"1\" class=\"dataframe\">\n",
              "  <thead>\n",
              "    <tr style=\"text-align: right;\">\n",
              "      <th></th>\n",
              "      <th>salario</th>\n",
              "      <th>lwage</th>\n",
              "      <th>sex</th>\n",
              "      <th>exp1</th>\n",
              "      <th>exp2</th>\n",
              "      <th>ind</th>\n",
              "    </tr>\n",
              "  </thead>\n",
              "  <tbody>\n",
              "    <tr>\n",
              "      <th>5</th>\n",
              "      <td>11.730769</td>\n",
              "      <td>2.462215</td>\n",
              "      <td>1</td>\n",
              "      <td>1.0</td>\n",
              "      <td>0.0100</td>\n",
              "      <td>7460.0</td>\n",
              "    </tr>\n",
              "    <tr>\n",
              "      <th>9</th>\n",
              "      <td>19.230769</td>\n",
              "      <td>2.956512</td>\n",
              "      <td>1</td>\n",
              "      <td>4.0</td>\n",
              "      <td>0.1600</td>\n",
              "      <td>8190.0</td>\n",
              "    </tr>\n",
              "    <tr>\n",
              "      <th>17</th>\n",
              "      <td>8.653846</td>\n",
              "      <td>2.158004</td>\n",
              "      <td>0</td>\n",
              "      <td>3.5</td>\n",
              "      <td>0.1225</td>\n",
              "      <td>570.0</td>\n",
              "    </tr>\n",
              "    <tr>\n",
              "      <th>27</th>\n",
              "      <td>12.000000</td>\n",
              "      <td>2.484907</td>\n",
              "      <td>0</td>\n",
              "      <td>4.5</td>\n",
              "      <td>0.2025</td>\n",
              "      <td>770.0</td>\n",
              "    </tr>\n",
              "    <tr>\n",
              "      <th>30</th>\n",
              "      <td>42.307692</td>\n",
              "      <td>3.744969</td>\n",
              "      <td>1</td>\n",
              "      <td>0.0</td>\n",
              "      <td>0.0000</td>\n",
              "      <td>4795.0</td>\n",
              "    </tr>\n",
              "    <tr>\n",
              "      <th>...</th>\n",
              "      <td>...</td>\n",
              "      <td>...</td>\n",
              "      <td>...</td>\n",
              "      <td>...</td>\n",
              "      <td>...</td>\n",
              "      <td>...</td>\n",
              "    </tr>\n",
              "    <tr>\n",
              "      <th>5110</th>\n",
              "      <td>15.865385</td>\n",
              "      <td>2.764140</td>\n",
              "      <td>1</td>\n",
              "      <td>0.0</td>\n",
              "      <td>0.0000</td>\n",
              "      <td>8180.0</td>\n",
              "    </tr>\n",
              "    <tr>\n",
              "      <th>5114</th>\n",
              "      <td>18.750000</td>\n",
              "      <td>2.931194</td>\n",
              "      <td>1</td>\n",
              "      <td>2.0</td>\n",
              "      <td>0.0400</td>\n",
              "      <td>8370.0</td>\n",
              "    </tr>\n",
              "    <tr>\n",
              "      <th>5115</th>\n",
              "      <td>20.913462</td>\n",
              "      <td>3.040393</td>\n",
              "      <td>1</td>\n",
              "      <td>4.5</td>\n",
              "      <td>0.2025</td>\n",
              "      <td>8470.0</td>\n",
              "    </tr>\n",
              "    <tr>\n",
              "      <th>5118</th>\n",
              "      <td>12.019231</td>\n",
              "      <td>2.486508</td>\n",
              "      <td>0</td>\n",
              "      <td>4.0</td>\n",
              "      <td>0.1600</td>\n",
              "      <td>6170.0</td>\n",
              "    </tr>\n",
              "    <tr>\n",
              "      <th>5121</th>\n",
              "      <td>15.865385</td>\n",
              "      <td>2.764140</td>\n",
              "      <td>0</td>\n",
              "      <td>2.0</td>\n",
              "      <td>0.0400</td>\n",
              "      <td>7870.0</td>\n",
              "    </tr>\n",
              "  </tbody>\n",
              "</table>\n",
              "<p>1058 rows × 6 columns</p>\n",
              "</div>"
            ],
            "text/plain": [
              "        salario     lwage  sex  exp1    exp2     ind\n",
              "5     11.730769  2.462215    1   1.0  0.0100  7460.0\n",
              "9     19.230769  2.956512    1   4.0  0.1600  8190.0\n",
              "17     8.653846  2.158004    0   3.5  0.1225   570.0\n",
              "27    12.000000  2.484907    0   4.5  0.2025   770.0\n",
              "30    42.307692  3.744969    1   0.0  0.0000  4795.0\n",
              "...         ...       ...  ...   ...     ...     ...\n",
              "5110  15.865385  2.764140    1   0.0  0.0000  8180.0\n",
              "5114  18.750000  2.931194    1   2.0  0.0400  8370.0\n",
              "5115  20.913462  3.040393    1   4.5  0.2025  8470.0\n",
              "5118  12.019231  2.486508    0   4.0  0.1600  6170.0\n",
              "5121  15.865385  2.764140    0   2.0  0.0400  7870.0\n",
              "\n",
              "[1058 rows x 6 columns]"
            ]
          },
          "execution_count": 240,
          "metadata": {},
          "output_type": "execute_result"
        }
      ],
      "source": [
        "base1[base1.exp1 < 5]"
      ]
    },
    {
      "cell_type": "code",
      "execution_count": null,
      "metadata": {
        "id": "J9NXrZeqW5F0",
        "outputId": "f8f3bebf-565d-49c0-e24a-d415952b5dd5"
      },
      "outputs": [
        {
          "data": {
            "text/html": [
              "<div>\n",
              "<style scoped>\n",
              "    .dataframe tbody tr th:only-of-type {\n",
              "        vertical-align: middle;\n",
              "    }\n",
              "\n",
              "    .dataframe tbody tr th {\n",
              "        vertical-align: top;\n",
              "    }\n",
              "\n",
              "    .dataframe thead th {\n",
              "        text-align: right;\n",
              "    }\n",
              "</style>\n",
              "<table border=\"1\" class=\"dataframe\">\n",
              "  <thead>\n",
              "    <tr style=\"text-align: right;\">\n",
              "      <th></th>\n",
              "      <th>salario</th>\n",
              "      <th>lwage</th>\n",
              "      <th>sex</th>\n",
              "      <th>exp1</th>\n",
              "      <th>exp2</th>\n",
              "      <th>ind</th>\n",
              "    </tr>\n",
              "  </thead>\n",
              "  <tbody>\n",
              "    <tr>\n",
              "      <th>3</th>\n",
              "      <td>13.942308</td>\n",
              "      <td>2.634928</td>\n",
              "      <td>1</td>\n",
              "      <td>25.0</td>\n",
              "      <td>6.2500</td>\n",
              "      <td>6990.0</td>\n",
              "    </tr>\n",
              "    <tr>\n",
              "      <th>4</th>\n",
              "      <td>28.846154</td>\n",
              "      <td>3.361977</td>\n",
              "      <td>1</td>\n",
              "      <td>22.0</td>\n",
              "      <td>4.8400</td>\n",
              "      <td>9470.0</td>\n",
              "    </tr>\n",
              "    <tr>\n",
              "      <th>6</th>\n",
              "      <td>19.230769</td>\n",
              "      <td>2.956512</td>\n",
              "      <td>1</td>\n",
              "      <td>42.0</td>\n",
              "      <td>17.6400</td>\n",
              "      <td>7280.0</td>\n",
              "    </tr>\n",
              "    <tr>\n",
              "      <th>8</th>\n",
              "      <td>12.000000</td>\n",
              "      <td>2.484907</td>\n",
              "      <td>1</td>\n",
              "      <td>31.0</td>\n",
              "      <td>9.6100</td>\n",
              "      <td>8590.0</td>\n",
              "    </tr>\n",
              "    <tr>\n",
              "      <th>13</th>\n",
              "      <td>13.461538</td>\n",
              "      <td>2.599837</td>\n",
              "      <td>1</td>\n",
              "      <td>20.5</td>\n",
              "      <td>4.2025</td>\n",
              "      <td>8190.0</td>\n",
              "    </tr>\n",
              "    <tr>\n",
              "      <th>14</th>\n",
              "      <td>16.346154</td>\n",
              "      <td>2.793993</td>\n",
              "      <td>1</td>\n",
              "      <td>25.0</td>\n",
              "      <td>6.2500</td>\n",
              "      <td>7870.0</td>\n",
              "    </tr>\n",
              "    <tr>\n",
              "      <th>22</th>\n",
              "      <td>17.788462</td>\n",
              "      <td>2.878550</td>\n",
              "      <td>1</td>\n",
              "      <td>11.0</td>\n",
              "      <td>1.2100</td>\n",
              "      <td>7860.0</td>\n",
              "    </tr>\n",
              "    <tr>\n",
              "      <th>24</th>\n",
              "      <td>16.304348</td>\n",
              "      <td>2.791432</td>\n",
              "      <td>1</td>\n",
              "      <td>24.5</td>\n",
              "      <td>6.0025</td>\n",
              "      <td>5480.0</td>\n",
              "    </tr>\n",
              "    <tr>\n",
              "      <th>31</th>\n",
              "      <td>13.942308</td>\n",
              "      <td>2.634928</td>\n",
              "      <td>1</td>\n",
              "      <td>15.5</td>\n",
              "      <td>2.4025</td>\n",
              "      <td>4670.0</td>\n",
              "    </tr>\n",
              "    <tr>\n",
              "      <th>33</th>\n",
              "      <td>14.053254</td>\n",
              "      <td>2.642854</td>\n",
              "      <td>1</td>\n",
              "      <td>14.0</td>\n",
              "      <td>1.9600</td>\n",
              "      <td>7860.0</td>\n",
              "    </tr>\n",
              "  </tbody>\n",
              "</table>\n",
              "</div>"
            ],
            "text/plain": [
              "      salario     lwage  sex  exp1     exp2     ind\n",
              "3   13.942308  2.634928    1  25.0   6.2500  6990.0\n",
              "4   28.846154  3.361977    1  22.0   4.8400  9470.0\n",
              "6   19.230769  2.956512    1  42.0  17.6400  7280.0\n",
              "8   12.000000  2.484907    1  31.0   9.6100  8590.0\n",
              "13  13.461538  2.599837    1  20.5   4.2025  8190.0\n",
              "14  16.346154  2.793993    1  25.0   6.2500  7870.0\n",
              "22  17.788462  2.878550    1  11.0   1.2100  7860.0\n",
              "24  16.304348  2.791432    1  24.5   6.0025  5480.0\n",
              "31  13.942308  2.634928    1  15.5   2.4025  4670.0\n",
              "33  14.053254  2.642854    1  14.0   1.9600  7860.0"
            ]
          },
          "execution_count": 241,
          "metadata": {},
          "output_type": "execute_result"
        }
      ],
      "source": [
        "base1[(base1['sex']==1) & (base1.exp1 > 10) ].head(10) #and\n",
        "#base1[(base1['sex']==1) | (base1.exp1 > 10) ].head(10) #or"
      ]
    },
    {
      "cell_type": "markdown",
      "metadata": {
        "id": "C8FPBv8xW5F0"
      },
      "source": [
        "# If condition\n",
        "\n",
        "Function **if** test conditions.\n",
        "- Equals: a == b\n",
        "- Not Equals: a != b\n",
        "- Less than: a < b\n",
        "- Less than or equal to: a <= b\n",
        "- Greater than: a > b\n",
        "- Greater than or equal to: a >= b\n",
        "\n",
        "<img src=\"https://www.dropbox.com/s/8xwqk2ze1116qvp/if-statement.jpg?dl=1\" alt=\"image info\" />"
      ]
    },
    {
      "cell_type": "code",
      "execution_count": null,
      "metadata": {
        "id": "HJ1PnEwUW5F0",
        "outputId": "35f44b57-0327-4ae3-d774-1c26a4c22a5b"
      },
      "outputs": [
        {
          "name": "stdout",
          "output_type": "stream",
          "text": [
            "Test expresion 4 is True\n"
          ]
        }
      ],
      "source": [
        "A = 20\n",
        "B = 30\n",
        "\n",
        "if A == B:\n",
        "    print( 'Test expresion 1 is True' )\n",
        "\n",
        "elif A > B:\n",
        "    print( 'Test expresion 2 is True' )\n",
        "\n",
        "elif A >= B:\n",
        "    print( 'Test expresion 3 is True' )\n",
        "\n",
        "elif A < B:\n",
        "    print( 'Test expresion 4 is True' )\n",
        "\n",
        "elif A <= B:\n",
        "    print( 'Test expresion 5 is True' )\n",
        "\n",
        "else:\n",
        "    print( 'Test expresion 6 is True' )"
      ]
    },
    {
      "cell_type": "markdown",
      "metadata": {
        "id": "P24WkDVUW5F0"
      },
      "source": [
        "# For Loops\n",
        "\n",
        "A for loop is used for iterating over a sequence. It has the following structure:\n",
        "\n",
        "<img src=\"https://www.dropbox.com/s/a51fbr4m0vpvobe/for_loop.jpg?dl=1\" alt=\"image info\" />\n",
        "\n"
      ]
    },
    {
      "cell_type": "code",
      "execution_count": null,
      "metadata": {
        "id": "KGTBvQqLW5F0",
        "outputId": "7e17fd57-05c1-4719-a15a-605f2ff8bc23"
      },
      "outputs": [
        {
          "data": {
            "text/plain": [
              "array([ 1,  2,  3,  4,  5,  6,  7,  8,  9, 10, 11, 12, 13, 14, 15, 16, 17,\n",
              "       18, 19])"
            ]
          },
          "execution_count": 147,
          "metadata": {},
          "output_type": "execute_result"
        }
      ],
      "source": [
        "secuencia = np.arange(1,20)\n",
        "secuencia"
      ]
    },
    {
      "cell_type": "code",
      "execution_count": null,
      "metadata": {
        "scrolled": true,
        "id": "kBPnQ6-NW5F0",
        "outputId": "957d6ed3-9ae3-4d53-8d17-efb24dfd2105"
      },
      "outputs": [
        {
          "name": "stdout",
          "output_type": "stream",
          "text": [
            "numero 1\n",
            "numero 2\n",
            "numero 3\n",
            "numero 4\n",
            "numero 5\n",
            "numero 6\n",
            "numero 7\n",
            "numero 8\n",
            "numero 9\n",
            "numero 10\n",
            "numero 11\n",
            "numero 12\n",
            "numero 13\n",
            "numero 14\n",
            "numero 15\n",
            "numero 16\n",
            "numero 17\n",
            "numero 18\n",
            "numero 19\n"
          ]
        }
      ],
      "source": [
        "secuencia = np.arange(1,20)\n",
        "\n",
        "for i in secuencia:\n",
        "    print(\"numero\",i)\n"
      ]
    },
    {
      "cell_type": "code",
      "execution_count": null,
      "metadata": {
        "id": "KbsavW6PW5F0",
        "outputId": "29a77501-aafc-43fc-f4bc-d27dd583b739"
      },
      "outputs": [
        {
          "name": "stdout",
          "output_type": "stream",
          "text": [
            "Laptop: Precio original $1200, con descuento $1080.00\n",
            "Celular: Precio original $800, con descuento $720.00\n",
            "Tablet: Precio original $500, con descuento $450.00\n",
            "Monitor: Precio original $300, con descuento $270.00\n"
          ]
        }
      ],
      "source": [
        "productos = [\"Laptop\", \"Celular\", \"Tablet\", \"Monitor\"]\n",
        "precios = [1200, 800, 500, 300]\n",
        "\n",
        "for i in range(len(productos)):\n",
        "    descuento = precios[i] * 0.10  # 10% de descuento\n",
        "    nuevo_precio = precios[i] - descuento\n",
        "    print(f\"{productos[i]}: Precio original ${precios[i]}, con descuento ${nuevo_precio:.2f}\")\n"
      ]
    },
    {
      "cell_type": "code",
      "execution_count": null,
      "metadata": {
        "id": "tr3ng8KUW5F0",
        "outputId": "503d20ae-dd88-4ae1-a078-42f9a99e85a7"
      },
      "outputs": [
        {
          "name": "stdout",
          "output_type": "stream",
          "text": [
            "📜 Registro de Calificaciones:\n",
            "--------------------------------------------------\n",
            "🧑‍🎓 Miguel | Nota: 16 | Semestre: 2018-1 | 🎉 ✅ Aprobó\n",
            "🧑‍🎓 Anthony | Nota: 10 | Semestre: 2018-2 | ❌ Reprobó\n",
            "🧑‍🎓 Paul | Nota: 14 | Semestre: 2019-1 | 🎉 ✅ Aprobó\n",
            "🧑‍🎓 Rodrigo | Nota: 8 | Semestre: 2019-2 | ❌ Reprobó\n",
            "🧑‍🎓 Jason | Nota: 12 | Semestre: 2020-1 | 🎉 ✅ Aprobó\n",
            "--------------------------------------------------\n",
            "🎯 Para aprobar, se necesita una nota mínima de 11.\n"
          ]
        }
      ],
      "source": [
        "# Lista de estudiantes\n",
        "students = ['Miguel', 'Anthony', 'Paul', 'Rodrigo', 'Jason']\n",
        "\n",
        "# Lista de notas\n",
        "grades = [16, 10, 14, 8, 12]  # Notas de los estudiantes\n",
        "\n",
        "# Lista de semestres en los que se matricularon\n",
        "semesters = [\"2023-1\", \"2023-2\", \"2024-1\", \"2024-2\", \"2025-1\"]\n",
        "\n",
        "print(\"📜 Registro de Calificaciones:\")\n",
        "print(\"-\" * 50)\n",
        "\n",
        "# Recorrer las listas al mismo tiempo\n",
        "for student, grade, sem in zip(students, grades, semesters):\n",
        "    status = \"🎉 ✅ Aprobó\" if grade >= 11 else \"❌ Reprobó\"\n",
        "    print(f\"🧑‍🎓 {student} | Nota: {grade} | Semestre: {sem} | {status}\")\n",
        "\n",
        "print(\"-\" * 50)\n",
        "print(\"🎯 Para aprobar, se necesita una nota mínima de 11.\")\n",
        "\n"
      ]
    },
    {
      "cell_type": "markdown",
      "metadata": {
        "id": "41c7ofRiW5F0"
      },
      "source": [
        "# Functions\n",
        "\n",
        "- `Arguments` − Elements that the function will use to make operations. Arguments are optional and can have default values.\n",
        "\n",
        "- `Function Body` − This defines what your function does.\n",
        "- `return` − Specifies the variable that will be the output of the function.\n",
        "\n",
        "Return Value − The return value of a function is the last expression in the function body to be evaluated.\n",
        "<br><br>\n",
        "<font size=\"4\">\n",
        "<font color='green'>def</font> function_name <font color='green'>(arg_1, arg_2, ...) </font>:<br><br>\n",
        "&nbsp;&nbsp;&nbsp;&nbsp;Function body <br>\n",
        "    <br> &nbsp;&nbsp;&nbsp;&nbsp;<font color='green'>return</font> result<br>\n",
        "</font>"
      ]
    },
    {
      "cell_type": "code",
      "execution_count": null,
      "metadata": {
        "id": "enO84kVEW5F1"
      },
      "outputs": [],
      "source": [
        "def suma(x, y):\n",
        "    mate = (x + y)*15\n",
        "    return mate"
      ]
    },
    {
      "cell_type": "code",
      "execution_count": null,
      "metadata": {
        "scrolled": true,
        "id": "_IBBNMffW5F1",
        "outputId": "4eaf0b49-61b3-45ce-ecf1-2243c0f3097f"
      },
      "outputs": [
        {
          "data": {
            "text/plain": [
              "210"
            ]
          },
          "execution_count": 208,
          "metadata": {},
          "output_type": "execute_result"
        }
      ],
      "source": [
        "suma(10,4)"
      ]
    },
    {
      "cell_type": "code",
      "execution_count": null,
      "metadata": {
        "id": "jyfzbt7yW5F1",
        "outputId": "1008de2c-1d96-45c3-e47c-2cc53c76a39c"
      },
      "outputs": [
        {
          "name": "stdout",
          "output_type": "stream",
          "text": [
            "El precio con descuento es: $135.00\n"
          ]
        }
      ],
      "source": [
        "def calcular_descuento(precio, descuento):\n",
        "    precio_final = precio - (precio * descuento / 100)\n",
        "    return precio_final\n",
        "\n",
        "producto = 150  # Precio en dólares\n",
        "descuento = 10  # 10% de descuento\n",
        "\n",
        "precio_con_descuento = calcular_descuento(producto, descuento)\n",
        "print(f\"El precio con descuento es: ${precio_con_descuento:.2f}\")"
      ]
    },
    {
      "cell_type": "code",
      "execution_count": null,
      "metadata": {
        "id": "EhW7PHrnW5F1",
        "outputId": "8d56f9a7-cd83-425e-d4f7-f7678badc44a"
      },
      "outputs": [
        {
          "name": "stdout",
          "output_type": "stream",
          "text": [
            "Ana es un Cliente VIP (gastó $1200).\n",
            "Carlos es un Cliente Regular (gastó $700).\n",
            "Elena es un Cliente Nuevo (gastó $300).\n",
            "Luis es un Cliente VIP (gastó $1500).\n",
            "Marta es un Cliente Regular (gastó $800).\n"
          ]
        }
      ],
      "source": [
        "def clasificar_cliente(gasto):\n",
        "    \"\"\"Clasifica un cliente según su gasto total.\"\"\"\n",
        "    if gasto > 1000:\n",
        "        return \"Cliente VIP\"\n",
        "    elif gasto >= 500:\n",
        "        return \"Cliente Regular\"\n",
        "    else:\n",
        "        return \"Cliente Nuevo\"\n",
        "\n",
        "# Lista de clientes con sus compras totales\n",
        "clientes = [\n",
        "    {\"nombre\": \"Ana\", \"gasto\": 1200},\n",
        "    {\"nombre\": \"Carlos\", \"gasto\": 700},\n",
        "    {\"nombre\": \"Elena\", \"gasto\": 300},\n",
        "    {\"nombre\": \"Luis\", \"gasto\": 1500},\n",
        "    {\"nombre\": \"Marta\", \"gasto\": 800}\n",
        "]\n",
        "\n",
        "# Clasificar clientes y mostrar resultados\n",
        "for cliente in clientes:\n",
        "    categoria = clasificar_cliente(cliente[\"gasto\"])\n",
        "    print(f\"{cliente['nombre']} es un {categoria} (gastó ${cliente['gasto']}).\")"
      ]
    },
    {
      "cell_type": "code",
      "execution_count": null,
      "metadata": {
        "id": "-1a0IBeCW5F1",
        "outputId": "16291a01-fb27-4412-b71a-cffde3807c32"
      },
      "outputs": [
        {
          "name": "stdout",
          "output_type": "stream",
          "text": [
            "📦 El producto 'Aceite Primor' tiene ventas Baja (8000 unidades).\n",
            "📦 El producto 'Harina Blanca Flor' tiene ventas Media (30000 unidades).\n",
            "📦 El producto 'Galletas Casino' tiene ventas Alta (70000 unidades).\n"
          ]
        }
      ],
      "source": [
        "def clasificar_producto(nombre, ventas):\n",
        "    \"\"\"Clasifica un producto de Alicorp según sus ventas.\"\"\"\n",
        "    if ventas < 10000:\n",
        "        categoria = \"Baja\"\n",
        "    elif ventas <= 50000:     #más condiciones cuando if no es verdader\n",
        "        categoria = \"Media\"\n",
        "    else:                    #Ejecuta esto si no se cumplen las condiciones anteriores\n",
        "        categoria = \"Alta\"\n",
        "\n",
        "    return f\"📦 El producto '{nombre}' tiene ventas {categoria} ({ventas} unidades).\"\n",
        "\n",
        "# Prueba con productos de Alicorp\n",
        "productos = [\n",
        "    (\"Aceite Primor\", 8000),\n",
        "    (\"Harina Blanca Flor\", 30000),\n",
        "    (\"Galletas Casino\", 70000)\n",
        "]\n",
        "\n",
        "for producto, ventas in productos:\n",
        "    print(clasificar_producto(producto, ventas))\n"
      ]
    },
    {
      "cell_type": "code",
      "execution_count": null,
      "metadata": {
        "id": "rKMDefpKW5F1",
        "outputId": "1c3a2d96-4014-453e-b1a6-d66c62bbbe1b"
      },
      "outputs": [
        {
          "name": "stdout",
          "output_type": "stream",
          "text": [
            "✅ Rentable: Ganancia de $5,000,000.00\n"
          ]
        }
      ],
      "source": [
        "def es_rentable(toneladas, precio_por_tonelada, costo_operacional):\n",
        "    \"\"\"Determina si la extracción de cobre en Las Bambas es rentable.\"\"\"\n",
        "    ingresos = toneladas * precio_por_tonelada\n",
        "    ganancia = ingresos - costo_operacional\n",
        "\n",
        "    if ganancia > 0:\n",
        "        return f\"✅ Rentable: Ganancia de ${ganancia:,.2f}\"\n",
        "    else:\n",
        "        return f\"❌ No rentable: Pérdida de ${abs(ganancia):,.2f}\"\n",
        "\n",
        "# Prueba con valores de Las Bambas\n",
        "toneladas_extraidas = 5000\n",
        "precio_cobre = 9000  # Precio por tonelada en dólares\n",
        "costo_operacional = 40000000  # Costos totales\n",
        "\n",
        "resultado = es_rentable(toneladas_extraidas, precio_cobre, costo_operacional)\n",
        "print(resultado)"
      ]
    }
  ],
  "metadata": {
    "kernelspec": {
      "display_name": "Python 3 (ipykernel)",
      "language": "python",
      "name": "python3"
    },
    "language_info": {
      "codemirror_mode": {
        "name": "ipython",
        "version": 3
      },
      "file_extension": ".py",
      "mimetype": "text/x-python",
      "name": "python",
      "nbconvert_exporter": "python",
      "pygments_lexer": "ipython3",
      "version": "3.11.4"
    },
    "colab": {
      "provenance": []
    }
  },
  "nbformat": 4,
  "nbformat_minor": 0
}