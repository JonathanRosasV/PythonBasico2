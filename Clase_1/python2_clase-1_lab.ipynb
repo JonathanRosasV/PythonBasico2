{
  "cells": [
    {
      "cell_type": "markdown",
      "metadata": {
        "id": "xr7ZMsLRNnHD"
      },
      "source": [
        "# Google Colab y Google Drive\n",
        "\n",
        "En esta clase trabajaremos utilizando **Google Colab** como entorno de programación. Además, guardaremos y gestionaremos nuestros archivos a través de **Google Drive** y exploraremos cómo integrar proyectos con **GitHub** para un mejor control de versiones y colaboración.\n",
        "\n",
        "## Objetivos\n",
        "\n",
        "- Ejecutar notebooks en Google Colab.\n",
        "- Montar Google Drive para guardar y acceder a archivos.\n",
        "- Conectar Google Colab con repositorios de GitHub.\n",
        "\n",
        "---\n",
        "\n",
        "✅ **Recomendaciones iniciales:**\n",
        "- Asegúrate de tener una cuenta activa de Google.\n",
        "- Autoriza el acceso de Colab a tu Google Drive cuando se te solicite.\n",
        "- Si aún no tienes cuenta en GitHub, crea una y familiarízate con su interfaz básica.\n"
      ]
    },
    {
      "cell_type": "code",
      "source": [
        "# Nos conectamos al Drive\n",
        "from google.colab import drive\n",
        "drive.mount('/content/drive', force_remount=True)"
      ],
      "metadata": {
        "id": "4aukx0ltO_YV",
        "outputId": "2f280154-09ec-4381-bf23-750f1ec0989f",
        "colab": {
          "base_uri": "https://localhost:8080/"
        }
      },
      "execution_count": 4,
      "outputs": [
        {
          "output_type": "stream",
          "name": "stdout",
          "text": [
            "Mounted at /content/drive\n"
          ]
        }
      ]
    },
    {
      "cell_type": "code",
      "source": [
        "import os\n",
        "\n",
        "# Cambiar el directorio de trabajo\n",
        "os.chdir('/content/drive/My Drive/UPAO/input')\n",
        "\n",
        "# Mostrar el directorio actual de trabajo\n",
        "print(\"Directorio actual:\", os.getcwd())\n",
        "\n",
        "# Listar todos los archivos y carpetas en el directorio actual\n",
        "print(\"\\nArchivos y carpetas en el directorio actual:\")\n",
        "print(os.listdir())\n",
        "\n",
        "!ls \"/content/drive/My Drive/UPAO/input\""
      ],
      "metadata": {
        "id": "EQQMw5LgAaAj",
        "outputId": "a0601e4a-5af9-4a7a-d3d6-c9e7a96cc574",
        "colab": {
          "base_uri": "https://localhost:8080/"
        }
      },
      "execution_count": 6,
      "outputs": [
        {
          "output_type": "stream",
          "name": "stdout",
          "text": [
            "Directorio actual: /content/drive/My Drive/UPAO/input\n",
            "\n",
            "Archivos y carpetas en el directorio actual:\n",
            "['enaho.dta']\n",
            "enaho.dta\n"
          ]
        }
      ]
    },
    {
      "cell_type": "markdown",
      "source": [
        "La siguiente tabla resume las mejores prácticas para elegir gráficos adecuados según el objetivo de análisis y la naturaleza de los datos. Esta selección es fundamental para representar la información de manera clara y efectiva, facilitando la interpretación de resultados.\n",
        "\n",
        "| **Objetivo**                             | **Tipo de datos**               | **Gráficos recomendados**                                               |\n",
        "| ---------------------------------------- | ------------------------------- | ----------------------------------------------------------------------- |\n",
        "| Distribución de una variable             | Numérica continua o discreta    | Histograma, Densidad Kernel (KDE), Diagrama de cajas                    |\n",
        "| Comparar categorías                      | Categórica vs. Numérica         | Diagrama de cajas, Diagrama de violín, Diagrama de barras               |\n",
        "| Comparar valores según categoría         | Categórica nominal vs. Numérica | Diagrama de barras, Gráfico de conteo                                   |\n",
        "| Tendencias temporales                    | Fecha + Variable numérica       | Gráfico de líneas                                                       |\n",
        "| Correlación entre dos variables          | Dos variables numéricas         | Diagrama de dispersión, Mapa de calor (para múltiples variables)        |\n",
        "| Relación entre dos variables categóricas | Dos variables categóricas       | Mapa de calor, Gráfico de conteo con diferenciación por tonalidad (hue) |\n"
      ],
      "metadata": {
        "id": "asUocoCfTCtI"
      }
    },
    {
      "cell_type": "markdown",
      "source": [
        "Data:"
      ],
      "metadata": {
        "id": "fBQaQe6JTtUb"
      }
    },
    {
      "cell_type": "code",
      "source": [],
      "metadata": {
        "id": "T7ctvJNTTfcJ"
      },
      "execution_count": null,
      "outputs": []
    }
  ],
  "metadata": {
    "kernelspec": {
      "display_name": "Python 3",
      "language": "python",
      "name": "python3"
    },
    "language_info": {
      "codemirror_mode": {
        "name": "ipython",
        "version": 3
      },
      "file_extension": ".py",
      "mimetype": "text/x-python",
      "name": "python",
      "nbconvert_exporter": "python",
      "pygments_lexer": "ipython3",
      "version": "3.10.5"
    },
    "colab": {
      "provenance": []
    }
  },
  "nbformat": 4,
  "nbformat_minor": 0
}