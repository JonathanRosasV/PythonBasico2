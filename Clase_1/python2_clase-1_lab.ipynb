{
  "cells": [
    {
      "cell_type": "markdown",
      "metadata": {
        "id": "xr7ZMsLRNnHD"
      },
      "source": [
        "# Google Colab y Google Drive\n",
        "\n",
        "En esta clase trabajaremos utilizando **Google Colab** como entorno de programación. Además, guardaremos y gestionaremos nuestros archivos a través de **Google Drive** y exploraremos cómo integrar proyectos con **GitHub** para un mejor control de versiones y colaboración.\n",
        "\n",
        "## Objetivos\n",
        "\n",
        "- Ejecutar notebooks en Google Colab.\n",
        "- Montar Google Drive para guardar y acceder a archivos.\n",
        "- Conectar Google Colab con repositorios de GitHub.\n",
        "\n",
        "---\n",
        "\n",
        "✅ **Recomendaciones iniciales:**\n",
        "- Asegúrate de tener una cuenta activa de Google.\n",
        "- Autoriza el acceso de Colab a tu Google Drive cuando se te solicite.\n",
        "- Si aún no tienes cuenta en GitHub, crea una y familiarízate con su interfaz básica.\n"
      ]
    },
    {
      "cell_type": "code",
      "source": [
        "# Nos conectamos al Drive\n",
        "from google.colab import drive\n",
        "drive.mount('/content/drive', force_remount=True)"
      ],
      "metadata": {
        "id": "4aukx0ltO_YV",
        "outputId": "2f280154-09ec-4381-bf23-750f1ec0989f",
        "colab": {
          "base_uri": "https://localhost:8080/"
        }
      },
      "execution_count": 4,
      "outputs": [
        {
          "output_type": "stream",
          "name": "stdout",
          "text": [
            "Mounted at /content/drive\n"
          ]
        }
      ]
    },
    {
      "cell_type": "code",
      "source": [
        "import os\n",
        "\n",
        "# Cambiar el directorio de trabajo\n",
        "os.chdir('/content/drive/My Drive/UPAO/input')\n",
        "\n",
        "# Mostrar el directorio actual de trabajo\n",
        "print(\"Directorio actual:\", os.getcwd())\n",
        "\n",
        "# Listar todos los archivos y carpetas en el directorio actual\n",
        "print(\"\\nArchivos y carpetas en el directorio actual:\")\n",
        "print(os.listdir())\n",
        "\n",
        "!ls \"/content/drive/My Drive/UPAO/input\""
      ],
      "metadata": {
        "id": "EQQMw5LgAaAj",
        "outputId": "a0601e4a-5af9-4a7a-d3d6-c9e7a96cc574",
        "colab": {
          "base_uri": "https://localhost:8080/"
        }
      },
      "execution_count": 6,
      "outputs": [
        {
          "output_type": "stream",
          "name": "stdout",
          "text": [
            "Directorio actual: /content/drive/My Drive/UPAO/input\n",
            "\n",
            "Archivos y carpetas en el directorio actual:\n",
            "['enaho.dta']\n",
            "enaho.dta\n"
          ]
        }
      ]
    },
    {
      "cell_type": "markdown",
      "source": [
        "La siguiente tabla resume las mejores prácticas para elegir gráficos adecuados según el objetivo de análisis y la naturaleza de los datos. Esta selección es fundamental para representar la información de manera clara y efectiva, facilitando la interpretación de resultados.\n",
        "\n",
        "| **Objetivo**                             | **Tipo de datos**               | **Gráficos recomendados**                                               |\n",
        "| ---------------------------------------- | ------------------------------- | ----------------------------------------------------------------------- |\n",
        "| Distribución de una variable             | Numérica continua o discreta    | Histograma, Densidad Kernel (KDE), Diagrama de cajas                    |\n",
        "| Comparar categorías                      | Categórica vs. Numérica         | Diagrama de cajas, Diagrama de violín, Diagrama de barras               |\n",
        "| Comparar valores según categoría         | Categórica nominal vs. Numérica | Diagrama de barras, Gráfico de conteo                                   |\n",
        "| Tendencias temporales                    | Fecha + Variable numérica       | Gráfico de líneas                                                       |\n",
        "| Correlación entre dos variables          | Dos variables numéricas         | Diagrama de dispersión, Mapa de calor (para múltiples variables)        |\n",
        "| Relación entre dos variables categóricas | Dos variables categóricas       | Mapa de calor, Gráfico de conteo con diferenciación por tonalidad (hue) |\n"
      ],
      "metadata": {
        "id": "asUocoCfTCtI"
      }
    },
    {
      "cell_type": "markdown",
      "source": [
        "## Descripción de la base de datos\n",
        "\n",
        "La base de datos que utilizaremos a continuación contiene información proveniente de la **Encuesta Nacional de Hogares (ENAHO)**, correspondiente a los módulos 200, 300 y 500, para el periodo 2011 - 2019. Esta base de datos permite realizar un análisis multidimensional de las características de los hogares peruanos a lo largo del tiempo.\n",
        "\n",
        "- **Módulo 200: Características de los Miembros del Hogar**\n",
        "  \n",
        "  Incluye variables demográficas esenciales, tales como edad, sexo, parentesco con el jefe del hogar, estado civil y otros indicadores relevantes sobre la composición familiar.\n",
        "\n",
        "- **Módulo 300: Educación**\n",
        "  \n",
        "  Proporciona información detallada sobre el nivel educativo alcanzado, asistencia escolar, rezago escolar, entre otros aspectos relacionados con la educación de los miembros del hogar.\n",
        "\n",
        "- **Módulo 500: Empleo e Ingresos**\n",
        "  \n",
        "  Recoge datos sobre la condición de actividad, características del empleo principal y secundario, ingresos laborales y no laborales, permitiendo un análisis integral del mercado laboral y la situación económica de los hogares.\n",
        "\n",
        "Esta base de datos constituye una herramienta robusta para el estudio de temas relacionados con desarrollo humano, pobreza, desigualdad, y dinámicas del mercado de trabajo en el Perú.\n"
      ],
      "metadata": {
        "id": "fBQaQe6JTtUb"
      }
    },
    {
      "cell_type": "code",
      "source": [
        "# Importar las librerías necesarias\n",
        "import pandas as pd\n",
        "import matplotlib.pyplot as plt\n",
        "import seaborn as sns\n",
        "\n",
        "\n",
        "\n",
        "# Importar la base de datos ENAHO y asignarla al DataFrame 'df'\n",
        "df = pd.read_stata(\"enaho.dta\")\n",
        "\n",
        "# Mostrar las primeras filas para verificar la correcta importación\n",
        "df.head()\n"
      ],
      "metadata": {
        "colab": {
          "base_uri": "https://localhost:8080/",
          "height": 463
        },
        "id": "T7ctvJNTTfcJ",
        "outputId": "3ffb944a-6dc7-4e4a-f6cb-ea69bca3b095"
      },
      "execution_count": 13,
      "outputs": [
        {
          "output_type": "execute_result",
          "data": {
            "text/plain": [
              "   year conglome vivienda hogar  ubigeo codperso dominio  \\\n",
              "0  2011     0061      077    11  010701       04   selva   \n",
              "1  2011     0110      112    11  010705       05   selva   \n",
              "2  2011     0090      076    11  010205       03   selva   \n",
              "3  2011     0118      080    11  010401       03   selva   \n",
              "4  2011     3408      066    11  010402       03   selva   \n",
              "\n",
              "                                         estrato         panel       p203  \\\n",
              "0                    de 4,001 a 10,000 viviendas  2.011006e+14  hijo/hija   \n",
              "1  Área de empadronamiento rural - aer compuesto  2.011011e+14  hijo/hija   \n",
              "2  Área de empadronamiento rural - aer compuesto  2.011009e+14      nieto   \n",
              "3     Área de empadronamiento rural - aer simple  2.011012e+14  hijo/hija   \n",
              "4  Área de empadronamiento rural - aer compuesto  2.011341e+14  hijo/hija   \n",
              "\n",
              "   ... acumulado estud  educa                d_edu  exper exper_2 tenure_2  \\\n",
              "0  ...       6.0   5.0   11.0  Secundaria completa    2.0     4.0      NaN   \n",
              "1  ...       6.0   5.0   11.0  Secundaria completa    3.0     9.0      9.0   \n",
              "2  ...       6.0   5.0   11.0  Secundaria completa    5.0    25.0     36.0   \n",
              "3  ...       6.0   5.0   11.0  Secundaria completa    6.0    36.0      NaN   \n",
              "4  ...       6.0   5.0   11.0  Secundaria completa    3.0     9.0      0.0   \n",
              "\n",
              "   edad_2      jefe ubigeo_2  \n",
              "0   361.0  familiar   010000  \n",
              "1   400.0  familiar   010000  \n",
              "2   484.0  familiar   010000  \n",
              "3   529.0  familiar   010000  \n",
              "4   400.0  familiar   010000  \n",
              "\n",
              "[5 rows x 105 columns]"
            ],
            "text/html": [
              "\n",
              "  <div id=\"df-bca41b2d-17f8-424c-aa08-ff3999ffa72c\" class=\"colab-df-container\">\n",
              "    <div>\n",
              "<style scoped>\n",
              "    .dataframe tbody tr th:only-of-type {\n",
              "        vertical-align: middle;\n",
              "    }\n",
              "\n",
              "    .dataframe tbody tr th {\n",
              "        vertical-align: top;\n",
              "    }\n",
              "\n",
              "    .dataframe thead th {\n",
              "        text-align: right;\n",
              "    }\n",
              "</style>\n",
              "<table border=\"1\" class=\"dataframe\">\n",
              "  <thead>\n",
              "    <tr style=\"text-align: right;\">\n",
              "      <th></th>\n",
              "      <th>year</th>\n",
              "      <th>conglome</th>\n",
              "      <th>vivienda</th>\n",
              "      <th>hogar</th>\n",
              "      <th>ubigeo</th>\n",
              "      <th>codperso</th>\n",
              "      <th>dominio</th>\n",
              "      <th>estrato</th>\n",
              "      <th>panel</th>\n",
              "      <th>p203</th>\n",
              "      <th>...</th>\n",
              "      <th>acumulado</th>\n",
              "      <th>estud</th>\n",
              "      <th>educa</th>\n",
              "      <th>d_edu</th>\n",
              "      <th>exper</th>\n",
              "      <th>exper_2</th>\n",
              "      <th>tenure_2</th>\n",
              "      <th>edad_2</th>\n",
              "      <th>jefe</th>\n",
              "      <th>ubigeo_2</th>\n",
              "    </tr>\n",
              "  </thead>\n",
              "  <tbody>\n",
              "    <tr>\n",
              "      <th>0</th>\n",
              "      <td>2011</td>\n",
              "      <td>0061</td>\n",
              "      <td>077</td>\n",
              "      <td>11</td>\n",
              "      <td>010701</td>\n",
              "      <td>04</td>\n",
              "      <td>selva</td>\n",
              "      <td>de 4,001 a 10,000 viviendas</td>\n",
              "      <td>2.011006e+14</td>\n",
              "      <td>hijo/hija</td>\n",
              "      <td>...</td>\n",
              "      <td>6.0</td>\n",
              "      <td>5.0</td>\n",
              "      <td>11.0</td>\n",
              "      <td>Secundaria completa</td>\n",
              "      <td>2.0</td>\n",
              "      <td>4.0</td>\n",
              "      <td>NaN</td>\n",
              "      <td>361.0</td>\n",
              "      <td>familiar</td>\n",
              "      <td>010000</td>\n",
              "    </tr>\n",
              "    <tr>\n",
              "      <th>1</th>\n",
              "      <td>2011</td>\n",
              "      <td>0110</td>\n",
              "      <td>112</td>\n",
              "      <td>11</td>\n",
              "      <td>010705</td>\n",
              "      <td>05</td>\n",
              "      <td>selva</td>\n",
              "      <td>Área de empadronamiento rural - aer compuesto</td>\n",
              "      <td>2.011011e+14</td>\n",
              "      <td>hijo/hija</td>\n",
              "      <td>...</td>\n",
              "      <td>6.0</td>\n",
              "      <td>5.0</td>\n",
              "      <td>11.0</td>\n",
              "      <td>Secundaria completa</td>\n",
              "      <td>3.0</td>\n",
              "      <td>9.0</td>\n",
              "      <td>9.0</td>\n",
              "      <td>400.0</td>\n",
              "      <td>familiar</td>\n",
              "      <td>010000</td>\n",
              "    </tr>\n",
              "    <tr>\n",
              "      <th>2</th>\n",
              "      <td>2011</td>\n",
              "      <td>0090</td>\n",
              "      <td>076</td>\n",
              "      <td>11</td>\n",
              "      <td>010205</td>\n",
              "      <td>03</td>\n",
              "      <td>selva</td>\n",
              "      <td>Área de empadronamiento rural - aer compuesto</td>\n",
              "      <td>2.011009e+14</td>\n",
              "      <td>nieto</td>\n",
              "      <td>...</td>\n",
              "      <td>6.0</td>\n",
              "      <td>5.0</td>\n",
              "      <td>11.0</td>\n",
              "      <td>Secundaria completa</td>\n",
              "      <td>5.0</td>\n",
              "      <td>25.0</td>\n",
              "      <td>36.0</td>\n",
              "      <td>484.0</td>\n",
              "      <td>familiar</td>\n",
              "      <td>010000</td>\n",
              "    </tr>\n",
              "    <tr>\n",
              "      <th>3</th>\n",
              "      <td>2011</td>\n",
              "      <td>0118</td>\n",
              "      <td>080</td>\n",
              "      <td>11</td>\n",
              "      <td>010401</td>\n",
              "      <td>03</td>\n",
              "      <td>selva</td>\n",
              "      <td>Área de empadronamiento rural - aer simple</td>\n",
              "      <td>2.011012e+14</td>\n",
              "      <td>hijo/hija</td>\n",
              "      <td>...</td>\n",
              "      <td>6.0</td>\n",
              "      <td>5.0</td>\n",
              "      <td>11.0</td>\n",
              "      <td>Secundaria completa</td>\n",
              "      <td>6.0</td>\n",
              "      <td>36.0</td>\n",
              "      <td>NaN</td>\n",
              "      <td>529.0</td>\n",
              "      <td>familiar</td>\n",
              "      <td>010000</td>\n",
              "    </tr>\n",
              "    <tr>\n",
              "      <th>4</th>\n",
              "      <td>2011</td>\n",
              "      <td>3408</td>\n",
              "      <td>066</td>\n",
              "      <td>11</td>\n",
              "      <td>010402</td>\n",
              "      <td>03</td>\n",
              "      <td>selva</td>\n",
              "      <td>Área de empadronamiento rural - aer compuesto</td>\n",
              "      <td>2.011341e+14</td>\n",
              "      <td>hijo/hija</td>\n",
              "      <td>...</td>\n",
              "      <td>6.0</td>\n",
              "      <td>5.0</td>\n",
              "      <td>11.0</td>\n",
              "      <td>Secundaria completa</td>\n",
              "      <td>3.0</td>\n",
              "      <td>9.0</td>\n",
              "      <td>0.0</td>\n",
              "      <td>400.0</td>\n",
              "      <td>familiar</td>\n",
              "      <td>010000</td>\n",
              "    </tr>\n",
              "  </tbody>\n",
              "</table>\n",
              "<p>5 rows × 105 columns</p>\n",
              "</div>\n",
              "    <div class=\"colab-df-buttons\">\n",
              "\n",
              "  <div class=\"colab-df-container\">\n",
              "    <button class=\"colab-df-convert\" onclick=\"convertToInteractive('df-bca41b2d-17f8-424c-aa08-ff3999ffa72c')\"\n",
              "            title=\"Convert this dataframe to an interactive table.\"\n",
              "            style=\"display:none;\">\n",
              "\n",
              "  <svg xmlns=\"http://www.w3.org/2000/svg\" height=\"24px\" viewBox=\"0 -960 960 960\">\n",
              "    <path d=\"M120-120v-720h720v720H120Zm60-500h600v-160H180v160Zm220 220h160v-160H400v160Zm0 220h160v-160H400v160ZM180-400h160v-160H180v160Zm440 0h160v-160H620v160ZM180-180h160v-160H180v160Zm440 0h160v-160H620v160Z\"/>\n",
              "  </svg>\n",
              "    </button>\n",
              "\n",
              "  <style>\n",
              "    .colab-df-container {\n",
              "      display:flex;\n",
              "      gap: 12px;\n",
              "    }\n",
              "\n",
              "    .colab-df-convert {\n",
              "      background-color: #E8F0FE;\n",
              "      border: none;\n",
              "      border-radius: 50%;\n",
              "      cursor: pointer;\n",
              "      display: none;\n",
              "      fill: #1967D2;\n",
              "      height: 32px;\n",
              "      padding: 0 0 0 0;\n",
              "      width: 32px;\n",
              "    }\n",
              "\n",
              "    .colab-df-convert:hover {\n",
              "      background-color: #E2EBFA;\n",
              "      box-shadow: 0px 1px 2px rgba(60, 64, 67, 0.3), 0px 1px 3px 1px rgba(60, 64, 67, 0.15);\n",
              "      fill: #174EA6;\n",
              "    }\n",
              "\n",
              "    .colab-df-buttons div {\n",
              "      margin-bottom: 4px;\n",
              "    }\n",
              "\n",
              "    [theme=dark] .colab-df-convert {\n",
              "      background-color: #3B4455;\n",
              "      fill: #D2E3FC;\n",
              "    }\n",
              "\n",
              "    [theme=dark] .colab-df-convert:hover {\n",
              "      background-color: #434B5C;\n",
              "      box-shadow: 0px 1px 3px 1px rgba(0, 0, 0, 0.15);\n",
              "      filter: drop-shadow(0px 1px 2px rgba(0, 0, 0, 0.3));\n",
              "      fill: #FFFFFF;\n",
              "    }\n",
              "  </style>\n",
              "\n",
              "    <script>\n",
              "      const buttonEl =\n",
              "        document.querySelector('#df-bca41b2d-17f8-424c-aa08-ff3999ffa72c button.colab-df-convert');\n",
              "      buttonEl.style.display =\n",
              "        google.colab.kernel.accessAllowed ? 'block' : 'none';\n",
              "\n",
              "      async function convertToInteractive(key) {\n",
              "        const element = document.querySelector('#df-bca41b2d-17f8-424c-aa08-ff3999ffa72c');\n",
              "        const dataTable =\n",
              "          await google.colab.kernel.invokeFunction('convertToInteractive',\n",
              "                                                    [key], {});\n",
              "        if (!dataTable) return;\n",
              "\n",
              "        const docLinkHtml = 'Like what you see? Visit the ' +\n",
              "          '<a target=\"_blank\" href=https://colab.research.google.com/notebooks/data_table.ipynb>data table notebook</a>'\n",
              "          + ' to learn more about interactive tables.';\n",
              "        element.innerHTML = '';\n",
              "        dataTable['output_type'] = 'display_data';\n",
              "        await google.colab.output.renderOutput(dataTable, element);\n",
              "        const docLink = document.createElement('div');\n",
              "        docLink.innerHTML = docLinkHtml;\n",
              "        element.appendChild(docLink);\n",
              "      }\n",
              "    </script>\n",
              "  </div>\n",
              "\n",
              "\n",
              "    <div id=\"df-b7c819d2-64c0-4eab-b6fa-2bf2096cfd2a\">\n",
              "      <button class=\"colab-df-quickchart\" onclick=\"quickchart('df-b7c819d2-64c0-4eab-b6fa-2bf2096cfd2a')\"\n",
              "                title=\"Suggest charts\"\n",
              "                style=\"display:none;\">\n",
              "\n",
              "<svg xmlns=\"http://www.w3.org/2000/svg\" height=\"24px\"viewBox=\"0 0 24 24\"\n",
              "     width=\"24px\">\n",
              "    <g>\n",
              "        <path d=\"M19 3H5c-1.1 0-2 .9-2 2v14c0 1.1.9 2 2 2h14c1.1 0 2-.9 2-2V5c0-1.1-.9-2-2-2zM9 17H7v-7h2v7zm4 0h-2V7h2v10zm4 0h-2v-4h2v4z\"/>\n",
              "    </g>\n",
              "</svg>\n",
              "      </button>\n",
              "\n",
              "<style>\n",
              "  .colab-df-quickchart {\n",
              "      --bg-color: #E8F0FE;\n",
              "      --fill-color: #1967D2;\n",
              "      --hover-bg-color: #E2EBFA;\n",
              "      --hover-fill-color: #174EA6;\n",
              "      --disabled-fill-color: #AAA;\n",
              "      --disabled-bg-color: #DDD;\n",
              "  }\n",
              "\n",
              "  [theme=dark] .colab-df-quickchart {\n",
              "      --bg-color: #3B4455;\n",
              "      --fill-color: #D2E3FC;\n",
              "      --hover-bg-color: #434B5C;\n",
              "      --hover-fill-color: #FFFFFF;\n",
              "      --disabled-bg-color: #3B4455;\n",
              "      --disabled-fill-color: #666;\n",
              "  }\n",
              "\n",
              "  .colab-df-quickchart {\n",
              "    background-color: var(--bg-color);\n",
              "    border: none;\n",
              "    border-radius: 50%;\n",
              "    cursor: pointer;\n",
              "    display: none;\n",
              "    fill: var(--fill-color);\n",
              "    height: 32px;\n",
              "    padding: 0;\n",
              "    width: 32px;\n",
              "  }\n",
              "\n",
              "  .colab-df-quickchart:hover {\n",
              "    background-color: var(--hover-bg-color);\n",
              "    box-shadow: 0 1px 2px rgba(60, 64, 67, 0.3), 0 1px 3px 1px rgba(60, 64, 67, 0.15);\n",
              "    fill: var(--button-hover-fill-color);\n",
              "  }\n",
              "\n",
              "  .colab-df-quickchart-complete:disabled,\n",
              "  .colab-df-quickchart-complete:disabled:hover {\n",
              "    background-color: var(--disabled-bg-color);\n",
              "    fill: var(--disabled-fill-color);\n",
              "    box-shadow: none;\n",
              "  }\n",
              "\n",
              "  .colab-df-spinner {\n",
              "    border: 2px solid var(--fill-color);\n",
              "    border-color: transparent;\n",
              "    border-bottom-color: var(--fill-color);\n",
              "    animation:\n",
              "      spin 1s steps(1) infinite;\n",
              "  }\n",
              "\n",
              "  @keyframes spin {\n",
              "    0% {\n",
              "      border-color: transparent;\n",
              "      border-bottom-color: var(--fill-color);\n",
              "      border-left-color: var(--fill-color);\n",
              "    }\n",
              "    20% {\n",
              "      border-color: transparent;\n",
              "      border-left-color: var(--fill-color);\n",
              "      border-top-color: var(--fill-color);\n",
              "    }\n",
              "    30% {\n",
              "      border-color: transparent;\n",
              "      border-left-color: var(--fill-color);\n",
              "      border-top-color: var(--fill-color);\n",
              "      border-right-color: var(--fill-color);\n",
              "    }\n",
              "    40% {\n",
              "      border-color: transparent;\n",
              "      border-right-color: var(--fill-color);\n",
              "      border-top-color: var(--fill-color);\n",
              "    }\n",
              "    60% {\n",
              "      border-color: transparent;\n",
              "      border-right-color: var(--fill-color);\n",
              "    }\n",
              "    80% {\n",
              "      border-color: transparent;\n",
              "      border-right-color: var(--fill-color);\n",
              "      border-bottom-color: var(--fill-color);\n",
              "    }\n",
              "    90% {\n",
              "      border-color: transparent;\n",
              "      border-bottom-color: var(--fill-color);\n",
              "    }\n",
              "  }\n",
              "</style>\n",
              "\n",
              "      <script>\n",
              "        async function quickchart(key) {\n",
              "          const quickchartButtonEl =\n",
              "            document.querySelector('#' + key + ' button');\n",
              "          quickchartButtonEl.disabled = true;  // To prevent multiple clicks.\n",
              "          quickchartButtonEl.classList.add('colab-df-spinner');\n",
              "          try {\n",
              "            const charts = await google.colab.kernel.invokeFunction(\n",
              "                'suggestCharts', [key], {});\n",
              "          } catch (error) {\n",
              "            console.error('Error during call to suggestCharts:', error);\n",
              "          }\n",
              "          quickchartButtonEl.classList.remove('colab-df-spinner');\n",
              "          quickchartButtonEl.classList.add('colab-df-quickchart-complete');\n",
              "        }\n",
              "        (() => {\n",
              "          let quickchartButtonEl =\n",
              "            document.querySelector('#df-b7c819d2-64c0-4eab-b6fa-2bf2096cfd2a button');\n",
              "          quickchartButtonEl.style.display =\n",
              "            google.colab.kernel.accessAllowed ? 'block' : 'none';\n",
              "        })();\n",
              "      </script>\n",
              "    </div>\n",
              "\n",
              "    </div>\n",
              "  </div>\n"
            ],
            "application/vnd.google.colaboratory.intrinsic+json": {
              "type": "dataframe",
              "variable_name": "df"
            }
          },
          "metadata": {},
          "execution_count": 13
        }
      ]
    },
    {
      "cell_type": "code",
      "source": [
        "df['empresa']"
      ],
      "metadata": {
        "id": "LS8MKqR2VhmN",
        "outputId": "4b17845a-ec83-4b28-bcd4-4ec3083ec04d",
        "colab": {
          "base_uri": "https://localhost:8080/",
          "height": 458
        }
      },
      "execution_count": 11,
      "outputs": [
        {
          "output_type": "execute_result",
          "data": {
            "text/plain": [
              "0                     NaN\n",
              "1            microempresa\n",
              "2            microempresa\n",
              "3                     NaN\n",
              "4            gran empresa\n",
              "               ...       \n",
              "160767                NaN\n",
              "160768       microempresa\n",
              "160769    mediana empresa\n",
              "160770                NaN\n",
              "160771       microempresa\n",
              "Name: empresa, Length: 160772, dtype: category\n",
              "Categories (4, object): ['microempresa' < 'pequeña empresa' < 'mediana empresa' < 'gran empresa']"
            ],
            "text/html": [
              "<div>\n",
              "<style scoped>\n",
              "    .dataframe tbody tr th:only-of-type {\n",
              "        vertical-align: middle;\n",
              "    }\n",
              "\n",
              "    .dataframe tbody tr th {\n",
              "        vertical-align: top;\n",
              "    }\n",
              "\n",
              "    .dataframe thead th {\n",
              "        text-align: right;\n",
              "    }\n",
              "</style>\n",
              "<table border=\"1\" class=\"dataframe\">\n",
              "  <thead>\n",
              "    <tr style=\"text-align: right;\">\n",
              "      <th></th>\n",
              "      <th>empresa</th>\n",
              "    </tr>\n",
              "  </thead>\n",
              "  <tbody>\n",
              "    <tr>\n",
              "      <th>0</th>\n",
              "      <td>NaN</td>\n",
              "    </tr>\n",
              "    <tr>\n",
              "      <th>1</th>\n",
              "      <td>microempresa</td>\n",
              "    </tr>\n",
              "    <tr>\n",
              "      <th>2</th>\n",
              "      <td>microempresa</td>\n",
              "    </tr>\n",
              "    <tr>\n",
              "      <th>3</th>\n",
              "      <td>NaN</td>\n",
              "    </tr>\n",
              "    <tr>\n",
              "      <th>4</th>\n",
              "      <td>gran empresa</td>\n",
              "    </tr>\n",
              "    <tr>\n",
              "      <th>...</th>\n",
              "      <td>...</td>\n",
              "    </tr>\n",
              "    <tr>\n",
              "      <th>160767</th>\n",
              "      <td>NaN</td>\n",
              "    </tr>\n",
              "    <tr>\n",
              "      <th>160768</th>\n",
              "      <td>microempresa</td>\n",
              "    </tr>\n",
              "    <tr>\n",
              "      <th>160769</th>\n",
              "      <td>mediana empresa</td>\n",
              "    </tr>\n",
              "    <tr>\n",
              "      <th>160770</th>\n",
              "      <td>NaN</td>\n",
              "    </tr>\n",
              "    <tr>\n",
              "      <th>160771</th>\n",
              "      <td>microempresa</td>\n",
              "    </tr>\n",
              "  </tbody>\n",
              "</table>\n",
              "<p>160772 rows × 1 columns</p>\n",
              "</div><br><label><b>dtype:</b> category</label>"
            ]
          },
          "metadata": {},
          "execution_count": 11
        }
      ]
    },
    {
      "cell_type": "markdown",
      "source": [
        "## Clasificación de empresas según el número de trabajadores contratados\n",
        "\n",
        "A continuación, se presenta la clasificación empresarial basada en el tamaño de la empresa, determinada por la cantidad de trabajadores contratados:\n",
        "\n",
        "- **Microempresas:** menos de 10 trabajadores.\n",
        "- **Pequeñas empresas:** entre 10 y 20 trabajadores.\n",
        "- **Medianas empresas:** entre 21 y 100 trabajadores.\n",
        "- **Grandes empresas:** más de 100 trabajadores.\n",
        "\n",
        "Esta clasificación es ampliamente utilizada en estudios económicos y análisis sectoriales para segmentar y comparar el comportamiento empresarial según su tamaño.\n",
        "\n",
        "---\n"
      ],
      "metadata": {
        "id": "Br-ZmL6xV3w3"
      }
    },
    {
      "cell_type": "code",
      "source": [
        "sns.set(style=\"darkgrid\")\n",
        "# sns.set(style=\"whitegrid\")\n",
        "# sns.set(style=\"white\")\n",
        "#figure size\n",
        "\n",
        "fig, ax = plt.subplots( figsize=(7,4) )\n",
        "\n",
        "x = sns.countplot( x=\"empresa\", data=df[df['year'] == \"2019\"], palette=\"pastel\")\n",
        "\n",
        "\n",
        "\n",
        "# Iterar sobre las barras\n",
        "for p in ax.patches:\n",
        "    # Obtener la posición y la altura de la barra\n",
        "    height = p.get_height()\n",
        "    # Colocar el texto sobre la barra\n",
        "    ax.text(p.get_x() + p.get_width() / 2., height + 0.1, '{}'.format(height), ha='center', va='bottom')\n",
        "\n",
        "plt.title('Cantidad de empresas según clasificación en el 2019')\n",
        "plt.xlabel('Tipo de empresa ')\n",
        "plt.ylabel('Número de Observaciones ')\n",
        "\n",
        "# ax.grid(False)"
      ],
      "metadata": {
        "id": "Pj-GxCt4WSY5",
        "outputId": "c24a77b9-bfc7-4909-bc10-88ae3b71053b",
        "colab": {
          "base_uri": "https://localhost:8080/",
          "height": 543
        }
      },
      "execution_count": 29,
      "outputs": [
        {
          "output_type": "stream",
          "name": "stderr",
          "text": [
            "<ipython-input-29-bff207d7a16b>:8: FutureWarning: \n",
            "\n",
            "Passing `palette` without assigning `hue` is deprecated and will be removed in v0.14.0. Assign the `x` variable to `hue` and set `legend=False` for the same effect.\n",
            "\n",
            "  x = sns.countplot( x=\"empresa\", data=df[df['year'] == \"2019\"], palette=\"pastel\")\n"
          ]
        },
        {
          "output_type": "execute_result",
          "data": {
            "text/plain": [
              "Text(0, 0.5, 'Número de Observaciones ')"
            ]
          },
          "metadata": {},
          "execution_count": 29
        },
        {
          "output_type": "display_data",
          "data": {
            "text/plain": [
              "<Figure size 700x400 with 1 Axes>"
            ],
            "image/png": "[encoded data removed]"
          },
          "metadata": {}
        }
      ]
    },
    {
      "cell_type": "markdown",
      "source": [
        "###### Gráfico de recuento vertical y un color (rojo)"
      ],
      "metadata": {
        "id": "3QjsWL9WW969"
      }
    },
    {
      "cell_type": "code",
      "source": [
        "sns.set(style=\"darkgrid\")\n",
        "fig, ax = plt.subplots(figsize=(7,4))\n",
        "\n",
        "x = sns.countplot(y = \"empresa\", data=df[df['year'] == \"2019\" ], color = 'red')\n",
        "\n",
        "plt.title('Cantidad de empresas según clasificación en el 2019')\n",
        "plt.xlabel('Número de Observaciones')\n",
        "plt.ylabel('Tipo de empresa')"
      ],
      "metadata": {
        "id": "852D36EvW9jt",
        "outputId": "716837a4-2749-4fba-f2f4-230587c9c4ea",
        "colab": {
          "base_uri": "https://localhost:8080/",
          "height": 436
        }
      },
      "execution_count": 24,
      "outputs": [
        {
          "output_type": "execute_result",
          "data": {
            "text/plain": [
              "Text(0, 0.5, 'Tipo de empresa')"
            ]
          },
          "metadata": {},
          "execution_count": 24
        },
        {
          "output_type": "display_data",
          "data": {
            "text/plain": [
              "<Figure size 700x400 with 1 Axes>"
            ],
            "image/png": "[encoded data removed]"
          },
          "metadata": {}
        }
      ]
    },
    {
      "cell_type": "markdown",
      "source": [
        "###### Evolutions of business in period 2017-2019"
      ],
      "metadata": {
        "id": "oOAe6tb0aIhw"
      }
    },
    {
      "cell_type": "code",
      "source": [
        "df2 = df[df['year'] > \"2016\" ]\n",
        "\n",
        "fig, ax = plt.subplots(figsize=(10,6))\n",
        "\n",
        "# hue: variable descomposition\n",
        "\n",
        "ax = sns.countplot(x=\"empresa\", hue=\"year\", linewidth=1, data=df2)\n",
        "\n",
        "plt.title('Evolución de las empresas en el périodo 2017-2019')\n",
        "plt.xlabel('Tipo de empresa ')\n",
        "plt.ylabel('Número de Observaciones ')\n",
        "\n",
        "txt=\"Fuente: Elboración propia - ENAHO (2011-2019)\"\n",
        "plt.figtext(0.01, 0.01, txt, wrap=True, horizontalalignment='left', va=\"top\", fontsize=10)\n"
      ],
      "metadata": {
        "id": "cVd2Oe1qaR_c",
        "outputId": "a051d21c-8667-40a5-a7af-c011669e8bdf",
        "colab": {
          "base_uri": "https://localhost:8080/",
          "height": 613
        }
      },
      "execution_count": 31,
      "outputs": [
        {
          "output_type": "execute_result",
          "data": {
            "text/plain": [
              "Text(0.01, 0.01, 'Fuente: Elboración propia - ENAHO (2011-2019)')"
            ]
          },
          "metadata": {},
          "execution_count": 31
        },
        {
          "output_type": "display_data",
          "data": {
            "text/plain": [
              "<Figure size 1000x600 with 1 Axes>"
            ],
            "image/png": "[encoded data removed]"
          },
          "metadata": {}
        }
      ]
    },
    {
      "cell_type": "markdown",
      "source": [
        "### Number of companies by strata (urbano o rural) and evolution by years\n",
        "\n",
        "hue = split in groups but in the same graph <br>\n",
        "col = create two new groups base in id group"
      ],
      "metadata": {
        "id": "dRw9WHdiagCx"
      }
    },
    {
      "cell_type": "code",
      "source": [
        "df2.area"
      ],
      "metadata": {
        "id": "Tcn_K8Wsal36",
        "outputId": "ce3b5384-cb73-409a-dc82-bba46e4246f1",
        "colab": {
          "base_uri": "https://localhost:8080/",
          "height": 458
        }
      },
      "execution_count": 32,
      "outputs": [
        {
          "output_type": "execute_result",
          "data": {
            "text/plain": [
              "103666    Urbana\n",
              "103667     Rural\n",
              "103668    Urbana\n",
              "103669    Urbana\n",
              "103670    Urbana\n",
              "           ...  \n",
              "160767    Urbana\n",
              "160768    Urbana\n",
              "160769    Urbana\n",
              "160770    Urbana\n",
              "160771    Urbana\n",
              "Name: area, Length: 57106, dtype: category\n",
              "Categories (2, object): ['Rural' < 'Urbana']"
            ],
            "text/html": [
              "<div>\n",
              "<style scoped>\n",
              "    .dataframe tbody tr th:only-of-type {\n",
              "        vertical-align: middle;\n",
              "    }\n",
              "\n",
              "    .dataframe tbody tr th {\n",
              "        vertical-align: top;\n",
              "    }\n",
              "\n",
              "    .dataframe thead th {\n",
              "        text-align: right;\n",
              "    }\n",
              "</style>\n",
              "<table border=\"1\" class=\"dataframe\">\n",
              "  <thead>\n",
              "    <tr style=\"text-align: right;\">\n",
              "      <th></th>\n",
              "      <th>area</th>\n",
              "    </tr>\n",
              "  </thead>\n",
              "  <tbody>\n",
              "    <tr>\n",
              "      <th>103666</th>\n",
              "      <td>Urbana</td>\n",
              "    </tr>\n",
              "    <tr>\n",
              "      <th>103667</th>\n",
              "      <td>Rural</td>\n",
              "    </tr>\n",
              "    <tr>\n",
              "      <th>103668</th>\n",
              "      <td>Urbana</td>\n",
              "    </tr>\n",
              "    <tr>\n",
              "      <th>103669</th>\n",
              "      <td>Urbana</td>\n",
              "    </tr>\n",
              "    <tr>\n",
              "      <th>103670</th>\n",
              "      <td>Urbana</td>\n",
              "    </tr>\n",
              "    <tr>\n",
              "      <th>...</th>\n",
              "      <td>...</td>\n",
              "    </tr>\n",
              "    <tr>\n",
              "      <th>160767</th>\n",
              "      <td>Urbana</td>\n",
              "    </tr>\n",
              "    <tr>\n",
              "      <th>160768</th>\n",
              "      <td>Urbana</td>\n",
              "    </tr>\n",
              "    <tr>\n",
              "      <th>160769</th>\n",
              "      <td>Urbana</td>\n",
              "    </tr>\n",
              "    <tr>\n",
              "      <th>160770</th>\n",
              "      <td>Urbana</td>\n",
              "    </tr>\n",
              "    <tr>\n",
              "      <th>160771</th>\n",
              "      <td>Urbana</td>\n",
              "    </tr>\n",
              "  </tbody>\n",
              "</table>\n",
              "<p>57106 rows × 1 columns</p>\n",
              "</div><br><label><b>dtype:</b> category</label>"
            ]
          },
          "metadata": {},
          "execution_count": 32
        }
      ]
    },
    {
      "cell_type": "code",
      "source": [
        "ag = sns.catplot(x=\"empresa\", hue=\"year\", col= \"area\" , data= df2, kind=\"count\", height=10, aspect=1);\n",
        "\n",
        "(ag.set_axis_labels(\"Tipo de empresa\", \"Número de empresas\")\n",
        "  .set(ylim=(0, 6000))\n",
        "  .despine(left=True))"
      ],
      "metadata": {
        "id": "4e0uuu1daqPj",
        "outputId": "9adf0b9c-f3e7-4299-c087-ef634c183487",
        "colab": {
          "base_uri": "https://localhost:8080/",
          "height": 494
        }
      },
      "execution_count": 33,
      "outputs": [
        {
          "output_type": "execute_result",
          "data": {
            "text/plain": [
              "<seaborn.axisgrid.FacetGrid at 0x7e0a508baad0>"
            ]
          },
          "metadata": {},
          "execution_count": 33
        },
        {
          "output_type": "display_data",
          "data": {
            "text/plain": [
              "<Figure size 2093.62x1000 with 2 Axes>"
            ],
            "image/png": "[encoded data removed]"
          },
          "metadata": {}
        }
      ]
    },
    {
      "cell_type": "markdown",
      "source": [
        "#### Number of businesses by strata - stacked bar plot"
      ],
      "metadata": {
        "id": "YlPFPfouaxlg"
      }
    },
    {
      "cell_type": "code",
      "source": [
        "df['conglome']"
      ],
      "metadata": {
        "id": "y4AsR83uayGP",
        "outputId": "c60a530a-93ef-41fb-c1d4-503b41ca2b5b",
        "colab": {
          "base_uri": "https://localhost:8080/",
          "height": 458
        }
      },
      "execution_count": 34,
      "outputs": [
        {
          "output_type": "execute_result",
          "data": {
            "text/plain": [
              "0           0061\n",
              "1           0110\n",
              "2           0090\n",
              "3           0118\n",
              "4           3408\n",
              "           ...  \n",
              "160767    009703\n",
              "160768    009675\n",
              "160769    009703\n",
              "160770    009700\n",
              "160771    009645\n",
              "Name: conglome, Length: 160772, dtype: object"
            ],
            "text/html": [
              "<div>\n",
              "<style scoped>\n",
              "    .dataframe tbody tr th:only-of-type {\n",
              "        vertical-align: middle;\n",
              "    }\n",
              "\n",
              "    .dataframe tbody tr th {\n",
              "        vertical-align: top;\n",
              "    }\n",
              "\n",
              "    .dataframe thead th {\n",
              "        text-align: right;\n",
              "    }\n",
              "</style>\n",
              "<table border=\"1\" class=\"dataframe\">\n",
              "  <thead>\n",
              "    <tr style=\"text-align: right;\">\n",
              "      <th></th>\n",
              "      <th>conglome</th>\n",
              "    </tr>\n",
              "  </thead>\n",
              "  <tbody>\n",
              "    <tr>\n",
              "      <th>0</th>\n",
              "      <td>0061</td>\n",
              "    </tr>\n",
              "    <tr>\n",
              "      <th>1</th>\n",
              "      <td>0110</td>\n",
              "    </tr>\n",
              "    <tr>\n",
              "      <th>2</th>\n",
              "      <td>0090</td>\n",
              "    </tr>\n",
              "    <tr>\n",
              "      <th>3</th>\n",
              "      <td>0118</td>\n",
              "    </tr>\n",
              "    <tr>\n",
              "      <th>4</th>\n",
              "      <td>3408</td>\n",
              "    </tr>\n",
              "    <tr>\n",
              "      <th>...</th>\n",
              "      <td>...</td>\n",
              "    </tr>\n",
              "    <tr>\n",
              "      <th>160767</th>\n",
              "      <td>009703</td>\n",
              "    </tr>\n",
              "    <tr>\n",
              "      <th>160768</th>\n",
              "      <td>009675</td>\n",
              "    </tr>\n",
              "    <tr>\n",
              "      <th>160769</th>\n",
              "      <td>009703</td>\n",
              "    </tr>\n",
              "    <tr>\n",
              "      <th>160770</th>\n",
              "      <td>009700</td>\n",
              "    </tr>\n",
              "    <tr>\n",
              "      <th>160771</th>\n",
              "      <td>009645</td>\n",
              "    </tr>\n",
              "  </tbody>\n",
              "</table>\n",
              "<p>160772 rows × 1 columns</p>\n",
              "</div><br><label><b>dtype:</b> object</label>"
            ]
          },
          "metadata": {},
          "execution_count": 34
        }
      ]
    },
    {
      "cell_type": "code",
      "source": [
        "df[df['year'] == \"2019\" ].groupby( [ 'empresa', 'area' ] ).size().reset_index(name='num_firms')"
      ],
      "metadata": {
        "id": "4lcPl_Ura1UY",
        "outputId": "d610862d-32ab-4c48-c206-ba8f6c528bc6",
        "colab": {
          "base_uri": "https://localhost:8080/",
          "height": 355
        }
      },
      "execution_count": 35,
      "outputs": [
        {
          "output_type": "stream",
          "name": "stderr",
          "text": [
            "<ipython-input-35-b1ff9a668bff>:1: FutureWarning: The default of observed=False is deprecated and will be changed to True in a future version of pandas. Pass observed=False to retain current behavior or observed=True to adopt the future default and silence this warning.\n",
            "  df[df['year'] == \"2019\" ].groupby( [ 'empresa', 'area' ] ).size().reset_index(name='num_firms')\n"
          ]
        },
        {
          "output_type": "execute_result",
          "data": {
            "text/plain": [
              "           empresa    area  num_firms\n",
              "0     microempresa   Rural       1742\n",
              "1     microempresa  Urbana       5056\n",
              "2  pequeña empresa   Rural        169\n",
              "3  pequeña empresa  Urbana        857\n",
              "4  mediana empresa   Rural        145\n",
              "5  mediana empresa  Urbana       1000\n",
              "6     gran empresa   Rural        381\n",
              "7     gran empresa  Urbana       2846"
            ],
            "text/html": [
              "\n",
              "  <div id=\"df-becd6885-c322-4696-bab4-911d1ef745d0\" class=\"colab-df-container\">\n",
              "    <div>\n",
              "<style scoped>\n",
              "    .dataframe tbody tr th:only-of-type {\n",
              "        vertical-align: middle;\n",
              "    }\n",
              "\n",
              "    .dataframe tbody tr th {\n",
              "        vertical-align: top;\n",
              "    }\n",
              "\n",
              "    .dataframe thead th {\n",
              "        text-align: right;\n",
              "    }\n",
              "</style>\n",
              "<table border=\"1\" class=\"dataframe\">\n",
              "  <thead>\n",
              "    <tr style=\"text-align: right;\">\n",
              "      <th></th>\n",
              "      <th>empresa</th>\n",
              "      <th>area</th>\n",
              "      <th>num_firms</th>\n",
              "    </tr>\n",
              "  </thead>\n",
              "  <tbody>\n",
              "    <tr>\n",
              "      <th>0</th>\n",
              "      <td>microempresa</td>\n",
              "      <td>Rural</td>\n",
              "      <td>1742</td>\n",
              "    </tr>\n",
              "    <tr>\n",
              "      <th>1</th>\n",
              "      <td>microempresa</td>\n",
              "      <td>Urbana</td>\n",
              "      <td>5056</td>\n",
              "    </tr>\n",
              "    <tr>\n",
              "      <th>2</th>\n",
              "      <td>pequeña empresa</td>\n",
              "      <td>Rural</td>\n",
              "      <td>169</td>\n",
              "    </tr>\n",
              "    <tr>\n",
              "      <th>3</th>\n",
              "      <td>pequeña empresa</td>\n",
              "      <td>Urbana</td>\n",
              "      <td>857</td>\n",
              "    </tr>\n",
              "    <tr>\n",
              "      <th>4</th>\n",
              "      <td>mediana empresa</td>\n",
              "      <td>Rural</td>\n",
              "      <td>145</td>\n",
              "    </tr>\n",
              "    <tr>\n",
              "      <th>5</th>\n",
              "      <td>mediana empresa</td>\n",
              "      <td>Urbana</td>\n",
              "      <td>1000</td>\n",
              "    </tr>\n",
              "    <tr>\n",
              "      <th>6</th>\n",
              "      <td>gran empresa</td>\n",
              "      <td>Rural</td>\n",
              "      <td>381</td>\n",
              "    </tr>\n",
              "    <tr>\n",
              "      <th>7</th>\n",
              "      <td>gran empresa</td>\n",
              "      <td>Urbana</td>\n",
              "      <td>2846</td>\n",
              "    </tr>\n",
              "  </tbody>\n",
              "</table>\n",
              "</div>\n",
              "    <div class=\"colab-df-buttons\">\n",
              "\n",
              "  <div class=\"colab-df-container\">\n",
              "    <button class=\"colab-df-convert\" onclick=\"convertToInteractive('df-becd6885-c322-4696-bab4-911d1ef745d0')\"\n",
              "            title=\"Convert this dataframe to an interactive table.\"\n",
              "            style=\"display:none;\">\n",
              "\n",
              "  <svg xmlns=\"http://www.w3.org/2000/svg\" height=\"24px\" viewBox=\"0 -960 960 960\">\n",
              "    <path d=\"M120-120v-720h720v720H120Zm60-500h600v-160H180v160Zm220 220h160v-160H400v160Zm0 220h160v-160H400v160ZM180-400h160v-160H180v160Zm440 0h160v-160H620v160ZM180-180h160v-160H180v160Zm440 0h160v-160H620v160Z\"/>\n",
              "  </svg>\n",
              "    </button>\n",
              "\n",
              "  <style>\n",
              "    .colab-df-container {\n",
              "      display:flex;\n",
              "      gap: 12px;\n",
              "    }\n",
              "\n",
              "    .colab-df-convert {\n",
              "      background-color: #E8F0FE;\n",
              "      border: none;\n",
              "      border-radius: 50%;\n",
              "      cursor: pointer;\n",
              "      display: none;\n",
              "      fill: #1967D2;\n",
              "      height: 32px;\n",
              "      padding: 0 0 0 0;\n",
              "      width: 32px;\n",
              "    }\n",
              "\n",
              "    .colab-df-convert:hover {\n",
              "      background-color: #E2EBFA;\n",
              "      box-shadow: 0px 1px 2px rgba(60, 64, 67, 0.3), 0px 1px 3px 1px rgba(60, 64, 67, 0.15);\n",
              "      fill: #174EA6;\n",
              "    }\n",
              "\n",
              "    .colab-df-buttons div {\n",
              "      margin-bottom: 4px;\n",
              "    }\n",
              "\n",
              "    [theme=dark] .colab-df-convert {\n",
              "      background-color: #3B4455;\n",
              "      fill: #D2E3FC;\n",
              "    }\n",
              "\n",
              "    [theme=dark] .colab-df-convert:hover {\n",
              "      background-color: #434B5C;\n",
              "      box-shadow: 0px 1px 3px 1px rgba(0, 0, 0, 0.15);\n",
              "      filter: drop-shadow(0px 1px 2px rgba(0, 0, 0, 0.3));\n",
              "      fill: #FFFFFF;\n",
              "    }\n",
              "  </style>\n",
              "\n",
              "    <script>\n",
              "      const buttonEl =\n",
              "        document.querySelector('#df-becd6885-c322-4696-bab4-911d1ef745d0 button.colab-df-convert');\n",
              "      buttonEl.style.display =\n",
              "        google.colab.kernel.accessAllowed ? 'block' : 'none';\n",
              "\n",
              "      async function convertToInteractive(key) {\n",
              "        const element = document.querySelector('#df-becd6885-c322-4696-bab4-911d1ef745d0');\n",
              "        const dataTable =\n",
              "          await google.colab.kernel.invokeFunction('convertToInteractive',\n",
              "                                                    [key], {});\n",
              "        if (!dataTable) return;\n",
              "\n",
              "        const docLinkHtml = 'Like what you see? Visit the ' +\n",
              "          '<a target=\"_blank\" href=https://colab.research.google.com/notebooks/data_table.ipynb>data table notebook</a>'\n",
              "          + ' to learn more about interactive tables.';\n",
              "        element.innerHTML = '';\n",
              "        dataTable['output_type'] = 'display_data';\n",
              "        await google.colab.output.renderOutput(dataTable, element);\n",
              "        const docLink = document.createElement('div');\n",
              "        docLink.innerHTML = docLinkHtml;\n",
              "        element.appendChild(docLink);\n",
              "      }\n",
              "    </script>\n",
              "  </div>\n",
              "\n",
              "\n",
              "    <div id=\"df-88c099bd-6e85-462e-923e-af6bb2c3519f\">\n",
              "      <button class=\"colab-df-quickchart\" onclick=\"quickchart('df-88c099bd-6e85-462e-923e-af6bb2c3519f')\"\n",
              "                title=\"Suggest charts\"\n",
              "                style=\"display:none;\">\n",
              "\n",
              "<svg xmlns=\"http://www.w3.org/2000/svg\" height=\"24px\"viewBox=\"0 0 24 24\"\n",
              "     width=\"24px\">\n",
              "    <g>\n",
              "        <path d=\"M19 3H5c-1.1 0-2 .9-2 2v14c0 1.1.9 2 2 2h14c1.1 0 2-.9 2-2V5c0-1.1-.9-2-2-2zM9 17H7v-7h2v7zm4 0h-2V7h2v10zm4 0h-2v-4h2v4z\"/>\n",
              "    </g>\n",
              "</svg>\n",
              "      </button>\n",
              "\n",
              "<style>\n",
              "  .colab-df-quickchart {\n",
              "      --bg-color: #E8F0FE;\n",
              "      --fill-color: #1967D2;\n",
              "      --hover-bg-color: #E2EBFA;\n",
              "      --hover-fill-color: #174EA6;\n",
              "      --disabled-fill-color: #AAA;\n",
              "      --disabled-bg-color: #DDD;\n",
              "  }\n",
              "\n",
              "  [theme=dark] .colab-df-quickchart {\n",
              "      --bg-color: #3B4455;\n",
              "      --fill-color: #D2E3FC;\n",
              "      --hover-bg-color: #434B5C;\n",
              "      --hover-fill-color: #FFFFFF;\n",
              "      --disabled-bg-color: #3B4455;\n",
              "      --disabled-fill-color: #666;\n",
              "  }\n",
              "\n",
              "  .colab-df-quickchart {\n",
              "    background-color: var(--bg-color);\n",
              "    border: none;\n",
              "    border-radius: 50%;\n",
              "    cursor: pointer;\n",
              "    display: none;\n",
              "    fill: var(--fill-color);\n",
              "    height: 32px;\n",
              "    padding: 0;\n",
              "    width: 32px;\n",
              "  }\n",
              "\n",
              "  .colab-df-quickchart:hover {\n",
              "    background-color: var(--hover-bg-color);\n",
              "    box-shadow: 0 1px 2px rgba(60, 64, 67, 0.3), 0 1px 3px 1px rgba(60, 64, 67, 0.15);\n",
              "    fill: var(--button-hover-fill-color);\n",
              "  }\n",
              "\n",
              "  .colab-df-quickchart-complete:disabled,\n",
              "  .colab-df-quickchart-complete:disabled:hover {\n",
              "    background-color: var(--disabled-bg-color);\n",
              "    fill: var(--disabled-fill-color);\n",
              "    box-shadow: none;\n",
              "  }\n",
              "\n",
              "  .colab-df-spinner {\n",
              "    border: 2px solid var(--fill-color);\n",
              "    border-color: transparent;\n",
              "    border-bottom-color: var(--fill-color);\n",
              "    animation:\n",
              "      spin 1s steps(1) infinite;\n",
              "  }\n",
              "\n",
              "  @keyframes spin {\n",
              "    0% {\n",
              "      border-color: transparent;\n",
              "      border-bottom-color: var(--fill-color);\n",
              "      border-left-color: var(--fill-color);\n",
              "    }\n",
              "    20% {\n",
              "      border-color: transparent;\n",
              "      border-left-color: var(--fill-color);\n",
              "      border-top-color: var(--fill-color);\n",
              "    }\n",
              "    30% {\n",
              "      border-color: transparent;\n",
              "      border-left-color: var(--fill-color);\n",
              "      border-top-color: var(--fill-color);\n",
              "      border-right-color: var(--fill-color);\n",
              "    }\n",
              "    40% {\n",
              "      border-color: transparent;\n",
              "      border-right-color: var(--fill-color);\n",
              "      border-top-color: var(--fill-color);\n",
              "    }\n",
              "    60% {\n",
              "      border-color: transparent;\n",
              "      border-right-color: var(--fill-color);\n",
              "    }\n",
              "    80% {\n",
              "      border-color: transparent;\n",
              "      border-right-color: var(--fill-color);\n",
              "      border-bottom-color: var(--fill-color);\n",
              "    }\n",
              "    90% {\n",
              "      border-color: transparent;\n",
              "      border-bottom-color: var(--fill-color);\n",
              "    }\n",
              "  }\n",
              "</style>\n",
              "\n",
              "      <script>\n",
              "        async function quickchart(key) {\n",
              "          const quickchartButtonEl =\n",
              "            document.querySelector('#' + key + ' button');\n",
              "          quickchartButtonEl.disabled = true;  // To prevent multiple clicks.\n",
              "          quickchartButtonEl.classList.add('colab-df-spinner');\n",
              "          try {\n",
              "            const charts = await google.colab.kernel.invokeFunction(\n",
              "                'suggestCharts', [key], {});\n",
              "          } catch (error) {\n",
              "            console.error('Error during call to suggestCharts:', error);\n",
              "          }\n",
              "          quickchartButtonEl.classList.remove('colab-df-spinner');\n",
              "          quickchartButtonEl.classList.add('colab-df-quickchart-complete');\n",
              "        }\n",
              "        (() => {\n",
              "          let quickchartButtonEl =\n",
              "            document.querySelector('#df-88c099bd-6e85-462e-923e-af6bb2c3519f button');\n",
              "          quickchartButtonEl.style.display =\n",
              "            google.colab.kernel.accessAllowed ? 'block' : 'none';\n",
              "        })();\n",
              "      </script>\n",
              "    </div>\n",
              "\n",
              "    </div>\n",
              "  </div>\n"
            ],
            "application/vnd.google.colaboratory.intrinsic+json": {
              "type": "dataframe",
              "summary": "{\n  \"name\": \"df[df['year'] == \\\"2019\\\" ]\",\n  \"rows\": 8,\n  \"fields\": [\n    {\n      \"column\": \"empresa\",\n      \"properties\": {\n        \"dtype\": \"category\",\n        \"num_unique_values\": 4,\n        \"samples\": [\n          \"peque\\u00f1a empresa\",\n          \"gran empresa\",\n          \"microempresa\"\n        ],\n        \"semantic_type\": \"\",\n        \"description\": \"\"\n      }\n    },\n    {\n      \"column\": \"area\",\n      \"properties\": {\n        \"dtype\": \"category\",\n        \"num_unique_values\": 2,\n        \"samples\": [\n          \"Urbana\",\n          \"Rural\"\n        ],\n        \"semantic_type\": \"\",\n        \"description\": \"\"\n      }\n    },\n    {\n      \"column\": \"num_firms\",\n      \"properties\": {\n        \"dtype\": \"number\",\n        \"std\": 1691,\n        \"min\": 145,\n        \"max\": 5056,\n        \"num_unique_values\": 8,\n        \"samples\": [\n          5056,\n          1000\n        ],\n        \"semantic_type\": \"\",\n        \"description\": \"\"\n      }\n    }\n  ]\n}"
            }
          },
          "metadata": {},
          "execution_count": 35
        }
      ]
    },
    {
      "cell_type": "code",
      "source": [
        "# count businesses by strata using groubpy (similar collapse - stata)\n",
        "#base_2 = enaho[ enaho['year'] == \"2019\" ].groupby( [ 'empresa', 'area' ], as_index = False )[['conglome'] ].count()\n",
        "base_2 = enaho[ enaho['year'] == \"2019\" ].groupby( [ 'empresa', 'area' ] ).size().reset_index(name='num_firms')\n",
        "base_2"
      ],
      "metadata": {
        "id": "T1TXAn66bA-s"
      },
      "execution_count": null,
      "outputs": []
    },
    {
      "cell_type": "code",
      "source": [
        "# stacked information\n",
        "base_3 = base_2.pivot(index = 'empresa', columns = 'area', values = 'num_firms')\n",
        "base_3"
      ],
      "metadata": {
        "id": "gBDmPMM6bEN1"
      },
      "execution_count": null,
      "outputs": []
    },
    {
      "cell_type": "code",
      "source": [
        "base_3.columns"
      ],
      "metadata": {
        "id": "5W9vNaGubFkE"
      },
      "execution_count": null,
      "outputs": []
    },
    {
      "cell_type": "code",
      "source": [
        "base_3_2 = base_3.copy()"
      ],
      "metadata": {
        "id": "TC_MKAzXbG0k"
      },
      "execution_count": null,
      "outputs": []
    },
    {
      "cell_type": "code",
      "source": [
        "base_3_2 = base_3_2[[\"Urbana\", \"Rural\"]]\n",
        "base_3_2"
      ],
      "metadata": {
        "id": "O1Tq8CWJbH_s"
      },
      "execution_count": null,
      "outputs": []
    },
    {
      "cell_type": "code",
      "source": [
        "base_3_2.plot( kind='bar', stacked=True, title='Empresa por estrato', color = ['blue', 'lightblue'] )\n",
        "plt.xlabel(' ')"
      ],
      "metadata": {
        "id": "aCilvivibJMQ"
      },
      "execution_count": null,
      "outputs": []
    },
    {
      "cell_type": "code",
      "source": [
        "base_3.plot( kind='bar', stacked=True, title='Empresa por estrato', color = ['blue', 'lightblue'] )\n",
        "plt.xlabel(' ')"
      ],
      "metadata": {
        "id": "vI4Oj3NlbKeR"
      },
      "execution_count": null,
      "outputs": []
    },
    {
      "cell_type": "code",
      "source": [
        "axes = base_3.plot( kind='bar', rot=0, subplots=True, color = ['blue', 'lightblue'], title='Empresa por estrato')\n",
        "plt.xticks(rotation=90)"
      ],
      "metadata": {
        "id": "JAuM1HLTbL0B"
      },
      "execution_count": null,
      "outputs": []
    },
    {
      "cell_type": "markdown",
      "source": [
        "## 2. Proportions\n",
        "\n",
        "Understandable plots to show categorical variables. Use this plots to explain participations from categories."
      ],
      "metadata": {
        "id": "YljrAwcabOU5"
      }
    },
    {
      "cell_type": "markdown",
      "source": [
        "### Pie\n",
        "\n",
        "##### First at all, collapse dataframe to count categories of a variable"
      ],
      "metadata": {
        "id": "Y6g4F4VgbRDZ"
      }
    },
    {
      "cell_type": "code",
      "source": [
        "base = enaho.groupby([ 'empresa' ]).count()\n",
        "base"
      ],
      "metadata": {
        "id": "PO2pzWKGbUfx"
      },
      "execution_count": null,
      "outputs": []
    },
    {
      "cell_type": "code",
      "source": [
        "# Labels to correct categories names\n",
        "\n",
        "labels=['Microempresa','Pequeña empresa' , 'Mediana empresa', 'Gran empresa']\n",
        "\n",
        "plt.figure(figsize=(5,5))\n",
        "\n",
        "ax = plt.pie(base['conglome'], labels=labels, autopct='%.1f %%')\n",
        "plt.title('Distribución de las empresas peruanas (2019)')\n",
        "plt.show()"
      ],
      "metadata": {
        "id": "YXVUL-MrbWRx"
      },
      "execution_count": null,
      "outputs": []
    },
    {
      "cell_type": "code",
      "source": [
        "enaho.labor"
      ],
      "metadata": {
        "id": "9b47krtPbXm9"
      },
      "execution_count": null,
      "outputs": []
    },
    {
      "cell_type": "code",
      "source": [
        "base = enaho.groupby('labor').size()\n",
        "base"
      ],
      "metadata": {
        "id": "b0Xou4b3bYnN"
      },
      "execution_count": null,
      "outputs": []
    },
    {
      "cell_type": "code",
      "source": [
        "base = enaho.groupby('labor').size()\n",
        "base.plot(kind='pie', subplots=True, figsize=(8, 8))\n",
        "plt.title(\"Ocupaciones laborales\")\n",
        "plt.ylabel(\"\")\n",
        "plt.show()"
      ],
      "metadata": {
        "id": "jCJuDttBbY9d"
      },
      "execution_count": null,
      "outputs": []
    },
    {
      "cell_type": "code",
      "source": [
        "base = enaho.groupby('labor').size()\n",
        "base.plot(kind='pie', subplots=True, figsize=(8, 8), autopct='%1.1f%%')  # Agregar el formato de porcentaje\n",
        "plt.title(\"Ocupaciones laborales\")\n",
        "plt.ylabel(\"\")\n",
        "plt.show()"
      ],
      "metadata": {
        "id": "M9NkftvzbaIe"
      },
      "execution_count": null,
      "outputs": []
    },
    {
      "cell_type": "markdown",
      "source": [
        "## Dona"
      ],
      "metadata": {
        "id": "9yrSM09GbczW"
      }
    },
    {
      "cell_type": "code",
      "source": [
        "base2 = enaho.groupby([ 'sector' ]).count()\n",
        "\n",
        "labels=['Agricultura y pesca','Minería','Manufactura','Construcción','Comercio','Transporte y telecomunicaciones', 'Finanzas', 'Servicios']\n",
        "plt.figure(figsize=(10, 6))\n",
        "\n",
        "ax = plt.pie(base2['conglome'], labels=labels,\n",
        "        autopct='%1.1f%%', pctdistance=0.85)\n",
        "\n",
        "# centroid size and color\n",
        "\n",
        "center_circle = plt.Circle((0, 0), 0.50, fc='white')\n",
        "fig = plt.gcf()\n",
        "\n",
        "fig.gca().add_artist(center_circle)\n",
        "\n",
        "plt.title('Distribución de la mano de obra contratada por sector económico')\n",
        "\n",
        "# Adding notes\n",
        "\n",
        "txt=\"Elboración propia - ENAHO (2011-2019)\"\n",
        "plt.figtext(0.2, 0.01, txt, wrap=True, horizontalalignment='right', fontsize=10)\n",
        "\n",
        "plt.show()"
      ],
      "metadata": {
        "id": "CuL-AaLPbgHt"
      },
      "execution_count": null,
      "outputs": []
    }
  ],
  "metadata": {
    "kernelspec": {
      "display_name": "Python 3",
      "language": "python",
      "name": "python3"
    },
    "language_info": {
      "codemirror_mode": {
        "name": "ipython",
        "version": 3
      },
      "file_extension": ".py",
      "mimetype": "text/x-python",
      "name": "python",
      "nbconvert_exporter": "python",
      "pygments_lexer": "ipython3",
      "version": "3.10.5"
    },
    "colab": {
      "provenance": []
    }
  },
  "nbformat": 4,
  "nbformat_minor": 0
}